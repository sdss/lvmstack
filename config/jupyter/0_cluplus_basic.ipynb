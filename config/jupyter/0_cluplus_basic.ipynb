{
 "cells": [
  {
   "cell_type": "code",
   "execution_count": 1,
   "id": "9643d008-245b-4ffb-90b2-757fe3b8082b",
   "metadata": {},
   "outputs": [
    {
     "data": {
      "text/plain": [
       "{'Reachable': True,\n",
       " 'AtHome': True,\n",
       " 'Moving': False,\n",
       " 'PositionSwitchStatus': 254,\n",
       " 'Position': 0.0,\n",
       " 'DeviceEncoder': {'Position': 0.0, 'Unit': 'STEPS'},\n",
       " 'Velocity': 0.0,\n",
       " 'AtLimit': False}"
      ]
     },
     "execution_count": 1,
     "metadata": {},
     "output_type": "execute_result"
    }
   ],
   "source": [
    "from cluplus.proxy import Proxy\n",
    "\n",
    "# low level command\n",
    "foc_skye = await Proxy(\"lvm.skye.foc\").start()\n",
    "    \n",
    "await foc_skye.status()"
   ]
  },
  {
   "cell_type": "code",
   "execution_count": 2,
   "id": "57212dea-7a93-4c63-9a96-a59886f418a8",
   "metadata": {},
   "outputs": [
    {
     "data": {
      "text/plain": [
       "{'Reachable': True,\n",
       " 'AtHome': False,\n",
       " 'Moving': False,\n",
       " 'PositionSwitchStatus': 254,\n",
       " 'Position': 209200.0,\n",
       " 'DeviceEncoder': {'Position': 209200.0, 'Unit': 'STEPS'},\n",
       " 'Velocity': 0.0,\n",
       " 'AtLimit': True}"
      ]
     },
     "execution_count": 2,
     "metadata": {},
     "output_type": "execute_result"
    }
   ],
   "source": [
    "from lvmtipo.actors import lvm\n",
    "\n",
    "await lvm.spec.foc.start()\n",
    "await lvm.spec.foc.status()\n"
   ]
  },
  {
   "cell_type": "code",
   "execution_count": 3,
   "id": "4cc21b3f-8589-4ba3-8f4e-567c31bba72f",
   "metadata": {},
   "outputs": [
    {
     "data": {
      "text/plain": [
       "{'Reachable': True,\n",
       " 'AtHome': False,\n",
       " 'Moving': False,\n",
       " 'PositionSwitchStatus': 254,\n",
       " 'Position': 209200.0,\n",
       " 'DeviceEncoder': {'Position': 209200.0, 'Unit': 'STEPS'},\n",
       " 'Velocity': 0.0,\n",
       " 'AtLimit': True}"
      ]
     },
     "execution_count": 3,
     "metadata": {},
     "output_type": "execute_result"
    }
   ],
   "source": [
    "await lvm.spec.foc.moveRelative(100, \"UM\")"
   ]
  },
  {
   "cell_type": "code",
   "execution_count": 4,
   "id": "7578da99-4827-4d93-af9e-b6fd1977f084",
   "metadata": {},
   "outputs": [
    {
     "name": "stdout",
     "output_type": "stream",
     "text": [
      "reachable: True, position: 209200.0\n"
     ]
    }
   ],
   "source": [
    "reachable, position = (await lvm.spec.foc.status()).flatten().unpack('Reachable', 'DeviceEncoder.Position')\n",
    "\n",
    "print(f\"reachable: {reachable}, position: {position}\")\n"
   ]
  },
  {
   "cell_type": "code",
   "execution_count": 5,
   "id": "56037111-6cd7-40aa-8072-0994dabdf4c6",
   "metadata": {},
   "outputs": [
    {
     "name": "stderr",
     "output_type": "stream",
     "text": [
      "\u001b[1;33m[WARNING]: \u001b[0mactor lvmieb currently not reachable.\n",
      "\u001b[1;33m[WARNING]: \u001b[0mactor lvmecp currently not reachable.\n",
      "\u001b[1;33m[WARNING]: \u001b[0mactor lvmscp currently not reachable.\n"
     ]
    },
    {
     "data": {
      "text/plain": [
       "<cluplus.proxy.Proxy at 0x7fb79cd121d0>"
      ]
     },
     "execution_count": 5,
     "metadata": {},
     "output_type": "execute_result"
    }
   ],
   "source": [
    "from lvmtipo.actors import lvm\n",
    "\n",
    "# connect to every telescope actors individually.\n",
    "await lvm.sci.ag.start()\n",
    "await lvm.sci.agc.start()\n",
    "await lvm.sci.pwi.start()\n",
    "await lvm.sci.km.start()\n",
    "await lvm.sci.foc.start()\n",
    "\n",
    "# connect to all telescope actors\n",
    "await lvm.skyw.start()\n",
    "await lvm.skye.start()\n",
    "await lvm.spec.start()\n",
    "\n",
    "# connect to other not fully compliant actors\n",
    "await lvm.nps.start()\n",
    "await lvm.ieb.start()\n",
    "await lvm.ecp.start()\n",
    "await lvm.scp.start()\n"
   ]
  },
  {
   "cell_type": "code",
   "execution_count": 6,
   "id": "25c1b0a7-869d-4ba5-8a3d-728db2cba962",
   "metadata": {},
   "outputs": [
    {
     "name": "stdout",
     "output_type": "stream",
     "text": [
      "Failed routing message to consumer 'lvmieb'.\n"
     ]
    }
   ],
   "source": [
    "try:\n",
    "    await lvm.ieb.ping()\n",
    "\n",
    "except Exception as e:\n",
    "    print(e)\n",
    "  "
   ]
  },
  {
   "cell_type": "code",
   "execution_count": 7,
   "id": "be3fcfd5-fc73-4b47-bd3d-8880a294c4a7",
   "metadata": {},
   "outputs": [
    {
     "name": "stdout",
     "output_type": "stream",
     "text": [
      "Partial errors: ({'Reachable': True, 'AtHome': True, 'Moving': False, 'PositionSwitchStatus': 254, 'Position': 40.0, 'DeviceEncoder': {'Position': 0.0, 'Unit': 'STEPS'}, 'Velocity': 0.0, 'AtLimit': False}, {'Reachable': True, 'AtHome': True, 'Moving': False, 'PositionSwitchStatus': 254, 'Position': -135.0, 'DeviceEncoder': {'Position': 0.0, 'Unit': 'STEPS'}, 'Velocity': 0.0, 'AtLimit': False, 'CurrentTime': 1675773367181983.0, 'Simulate': True, 'SkyPA': -270.0}, {'state': 'IDLE'}, {'east': {'temperature': 25, 'cooler': nan, 'binning': [1, 1], 'area': [0, 0, 1600.0, 1100.0], 'state': 'online'}, 'center': {'temperature': 25, 'cooler': nan, 'binning': [1, 1], 'area': [0, 0, 3200.0, 2200.0], 'state': 'online'}, 'west': {'temperature': 25, 'cooler': nan, 'binning': [1, 1], 'area': [0, 0, 1600.0, 1100.0], 'state': 'online'}}, {'is_tracking': True, 'is_connected': True, 'is_slewing': False, 'is_enabled': True, 'ra_j2000_hours': 23.2344970735333, 'dec_j2000_degs': -30.6713748306966, 'ra_apparent_hours': 23.2547845417847, 'dec_apparent_degs': -30.5496308649791, 'altitude_degs': 11.938070194179, 'azimuth_degs': 118.516490214934, 'field_angle_rate_at_target_degs_per_sec': 0.00177182288491873, 'field_angle_here_degs': -116.971731585577, 'field_angle_at_target_degs': -126.269631164092, 'axis0': {'dist_to_target_arcsec': -0.00256651716106007, 'is_enabled': True, 'position_degs': 118.516233571226, 'rms_error_arcsec': 0.00227490482840932, 'servo_error_arcsec': 0.0}, 'axis1': {'dist_to_target_arcsec': 86719.3213450455, 'is_enabled': True, 'position_degs': 11.938070194179, 'rms_error_arcsec': 86725.4630578619, 'servo_error_arcsec': 0.0}, 'model': {'filename': '', 'num_points_enabled': 0, 'num_points_total': 0, 'rms_error_arcsec': 0.0}, 'geometry': 0}, {'Reachable': True, 'AtHome': True, 'Moving': False, 'PositionSwitchStatus': 254, 'Position': 0.0, 'DeviceEncoder': {'Position': 0.0, 'Unit': 'STEPS'}, 'Velocity': 0.0, 'AtLimit': False}, {'Reachable': True, 'AtHome': True, 'Moving': False, 'PositionSwitchStatus': 254, 'Position': 0.0, 'DeviceEncoder': {'Position': 0.0, 'Unit': 'STEPS'}, 'Velocity': 0.0, 'AtLimit': False, 'CurrentTime': 1675773367076722.0, 'Simulate': True, 'SkyPA': 0.0}, {'state': 'IDLE'}, {'east': {'temperature': 25, 'cooler': nan, 'binning': [1, 1], 'area': [0, 0, 1600.0, 1100.0], 'state': 'online'}, 'west': {'temperature': 25, 'cooler': nan, 'binning': [1, 1], 'area': [0, 0, 1600.0, 1100.0], 'state': 'online'}}, {'is_tracking': True, 'is_connected': True, 'is_slewing': False, 'is_enabled': True, 'ra_j2000_hours': 22.5325059530184, 'dec_j2000_degs': -11.3442961637046, 'ra_apparent_hours': 22.5523955658705, 'dec_apparent_degs': -11.2287043290084, 'altitude_degs': 11.917623539481, 'azimuth_degs': 96.3863380292977, 'field_angle_rate_at_target_degs_per_sec': 0.000712215374915172, 'field_angle_here_degs': -117.754621570027, 'field_angle_at_target_degs': -118.747768777072, 'axis0': {'dist_to_target_arcsec': -0.00014477852341142, 'is_enabled': True, 'position_degs': 96.3863380292977, 'rms_error_arcsec': 0.00140339004231762, 'servo_error_arcsec': 0.0}, 'axis1': {'dist_to_target_arcsec': 17612.8344862405, 'is_enabled': True, 'position_degs': 11.917623539481, 'rms_error_arcsec': 17618.3819076747, 'servo_error_arcsec': 0.0}, 'model': {'filename': '', 'num_points_enabled': 0, 'num_points_total': 0, 'rms_error_arcsec': 0.0}, 'geometry': 0}, {'Reachable': True, 'AtHome': True, 'Moving': False, 'PositionSwitchStatus': 254, 'Position': 0.0, 'DeviceEncoder': {'Position': 0.0, 'Unit': 'STEPS'}, 'Velocity': 0.0, 'AtLimit': False}, {'Reachable': True, 'AtHome': True, 'Moving': False, 'PositionSwitchStatus': 254, 'Position': 0.0, 'DeviceEncoder': {'Position': 0.0, 'Unit': 'STEPS'}, 'Velocity': 0.0, 'AtLimit': False, 'CurrentTime': 1675773367173872.0, 'Simulate': True, 'SkyPA': 0.0}, {'state': 'IDLE'}, {'east': {'temperature': 25, 'cooler': nan, 'binning': [1, 1], 'area': [0, 0, 1600.0, 1100.0], 'state': 'online'}, 'west': {'temperature': 25, 'cooler': nan, 'binning': [1, 1], 'area': [0, 0, 1600.0, 1100.0], 'state': 'online'}}, {'is_tracking': True, 'is_connected': True, 'is_slewing': False, 'is_enabled': True, 'ra_j2000_hours': 20.8845042302519, 'dec_j2000_degs': -74.1137916372193, 'ra_apparent_hours': 20.9246771931399, 'dec_apparent_degs': -74.0275785867422, 'altitude_degs': 36.4060753539458, 'azimuth_degs': 163.118781451187, 'field_angle_rate_at_target_degs_per_sec': 0.00434377913035067, 'field_angle_here_degs': -67.3398332794811, 'field_angle_at_target_degs': -67.3398321321709, 'axis0': {'dist_to_target_arcsec': -5.02347085943078e-05, 'is_enabled': True, 'position_degs': 163.118896217949, 'rms_error_arcsec': 0.00050949208540247, 'servo_error_arcsec': 0.0}, 'axis1': {'dist_to_target_arcsec': -7.85659625082057e-05, 'is_enabled': True, 'position_degs': 36.4062965950935, 'rms_error_arcsec': 0.000969793449255577, 'servo_error_arcsec': 0.0}, 'model': {'filename': '', 'num_points_enabled': 0, 'num_points_total': 0, 'rms_error_arcsec': 0.0}, 'geometry': 0}, {'Reachable': True, 'AtHome': False, 'Moving': False, 'PositionSwitchStatus': 254, 'Position': 209200.0, 'DeviceEncoder': {'Position': 209200.0, 'Unit': 'STEPS'}, 'Velocity': 0.0, 'AtLimit': True}, {'Reachable': True, 'AtHome': True, 'Moving': False, 'PositionSwitchStatus': 255, 'Position': 0.0, 'DeviceEncoder': {'Position': 0.0, 'Unit': 'STEPS'}, 'Velocity': 0.0}, {'state': 'IDLE'}, {'center': {'temperature': 25, 'cooler': nan, 'binning': [1, 1], 'area': [0, 0, 1600.0, 1100.0], 'state': 'online'}}, {'is_tracking': False, 'is_connected': False, 'is_slewing': False, 'is_enabled': False, 'ra_j2000_hours': 0.0, 'dec_j2000_degs': 0.0, 'ra_apparent_hours': 0.0, 'dec_apparent_degs': 0.0, 'altitude_degs': 0.0, 'azimuth_degs': 0.0, 'field_angle_rate_at_target_degs_per_sec': 0.0, 'field_angle_here_degs': 0.0, 'field_angle_at_target_degs': 0.0, 'axis0': {'dist_to_target_arcsec': 0.0, 'is_enabled': False, 'position_degs': 0.0, 'rms_error_arcsec': 0.0, 'servo_error_arcsec': 0.0}, 'axis1': {'dist_to_target_arcsec': 0.0, 'is_enabled': False, 'position_degs': 0.0, 'rms_error_arcsec': 0.0, 'servo_error_arcsec': 0.0}, 'model': {'filename': '', 'num_points_enabled': 0, 'num_points_total': 0, 'rms_error_arcsec': 0.0}, 'geometry': 0}, {'status': {'cab': {'cab.mocon': {'state': 0, 'descr': 'Mocon motor controller', 'switch': 'cab', 'port': 1}}, 'sci': {'sci.pwi': {'state': 0, 'descr': 'Planewave mount', 'switch': 'sci', 'port': 1}, 'sci.tpc': {'state': 0, 'descr': 'Planewave tiny pc', 'switch': 'sci', 'port': 2}}, 'skye': {'skye.pwi': {'state': 0, 'descr': 'Planewave mount', 'switch': 'skye', 'port': 1}, 'skye.tpc': {'state': 0, 'descr': 'Planewave tiny pc', 'switch': 'skye', 'port': 2}}, 'skyw': {'skyw.pwi': {'state': 0, 'descr': 'Planewave mount', 'switch': 'skyw', 'port': 1}, 'skyw.tpc': {'state': 0, 'descr': 'Planewave tiny pc', 'switch': 'skyw', 'port': 2}}, 'spec': {'spec.pwi': {'state': 0, 'descr': 'Planewave mount', 'switch': 'spec', 'port': 1}, 'spec.tpc': {'state': 0, 'descr': 'Planewave tiny pc', 'switch': 'spec', 'port': 2}}}}, Exception(\"Failed routing message to consumer 'lvmieb'.\"), Exception(\"Failed routing message to consumer 'lvmecp'.\"), Exception(\"Failed routing message to consumer 'lvmscp'.\"))\n"
     ]
    }
   ],
   "source": [
    "from cluplus.proxy import invoke\n",
    "\n",
    "try:\n",
    "    await invoke(lvm.sci.foc.status(), lvm.sci.km.status(), lvm.sci.ag.status(), lvm.sci.agc.status(), lvm.sci.pwi.status(),\n",
    "                 lvm.skyw.foc.status(), lvm.skyw.km.status(), lvm.skyw.ag.status(), lvm.skyw.agc.status(), lvm.skyw.pwi.status(),\n",
    "                 lvm.skye.foc.status(), lvm.skye.km.status(), lvm.skye.ag.status(), lvm.skye.agc.status(), lvm.skye.pwi.status(),\n",
    "                 lvm.spec.foc.status(), lvm.spec.fibsel.status(), lvm.spec.ag.status(), lvm.spec.agc.status(), lvm.spec.pwi.status(),\n",
    "                 lvm.nps.status(), lvm.ieb.ping(), lvm.ecp.ping(), lvm.scp.ping())\n",
    "\n",
    "except Exception as e:\n",
    "    print(f\"Partial errors: {e.args}\")\n"
   ]
  },
  {
   "cell_type": "code",
   "execution_count": 8,
   "id": "d3526c16-283e-4ee7-8e14-d6c5c366ac9a",
   "metadata": {},
   "outputs": [
    {
     "data": {
      "text/plain": [
       "[{'Reachable': True,\n",
       "  'AtHome': True,\n",
       "  'Moving': False,\n",
       "  'PositionSwitchStatus': 254,\n",
       "  'Position': 40.0,\n",
       "  'DeviceEncoder': {'Position': 0.0, 'Unit': 'STEPS'},\n",
       "  'Velocity': 0.0,\n",
       "  'AtLimit': False},\n",
       " {'Reachable': True,\n",
       "  'AtHome': True,\n",
       "  'Moving': False,\n",
       "  'PositionSwitchStatus': 254,\n",
       "  'Position': -135.0,\n",
       "  'DeviceEncoder': {'Position': 0.0, 'Unit': 'STEPS'},\n",
       "  'Velocity': 0.0,\n",
       "  'AtLimit': False,\n",
       "  'CurrentTime': 1675773368277327.0,\n",
       "  'Simulate': True,\n",
       "  'SkyPA': -270.0},\n",
       " {'state': 'IDLE'},\n",
       " {'east': {'temperature': 25,\n",
       "   'cooler': nan,\n",
       "   'binning': [1, 1],\n",
       "   'area': [0, 0, 1600.0, 1100.0],\n",
       "   'state': 'online'},\n",
       "  'center': {'temperature': 25,\n",
       "   'cooler': nan,\n",
       "   'binning': [1, 1],\n",
       "   'area': [0, 0, 3200.0, 2200.0],\n",
       "   'state': 'online'},\n",
       "  'west': {'temperature': 25,\n",
       "   'cooler': nan,\n",
       "   'binning': [1, 1],\n",
       "   'area': [0, 0, 1600.0, 1100.0],\n",
       "   'state': 'online'}},\n",
       " {'is_tracking': True,\n",
       "  'is_connected': True,\n",
       "  'is_slewing': False,\n",
       "  'is_enabled': True,\n",
       "  'ra_j2000_hours': 23.2347725862257,\n",
       "  'dec_j2000_degs': -30.6684433449924,\n",
       "  'ra_apparent_hours': 23.2550596025929,\n",
       "  'dec_apparent_degs': -30.5466975115486,\n",
       "  'altitude_degs': 11.938070194179,\n",
       "  'azimuth_degs': 118.513131033404,\n",
       "  'field_angle_rate_at_target_degs_per_sec': 0.00177163314269532,\n",
       "  'field_angle_here_degs': -116.971530686947,\n",
       "  'field_angle_at_target_degs': -126.267136568245,\n",
       "  'axis0': {'dist_to_target_arcsec': -0.000235431629297791,\n",
       "   'is_enabled': True,\n",
       "   'position_degs': 118.513106827806,\n",
       "   'rms_error_arcsec': 0.00179392413115889,\n",
       "   'servo_error_arcsec': 0.0},\n",
       "  'axis1': {'dist_to_target_arcsec': 86704.3204529469,\n",
       "   'is_enabled': True,\n",
       "   'position_degs': 11.938070194179,\n",
       "   'rms_error_arcsec': 86709.2173331622,\n",
       "   'servo_error_arcsec': 0.0},\n",
       "  'model': {'filename': '',\n",
       "   'num_points_enabled': 0,\n",
       "   'num_points_total': 0,\n",
       "   'rms_error_arcsec': 0.0},\n",
       "  'geometry': 0},\n",
       " {'Reachable': True,\n",
       "  'AtHome': True,\n",
       "  'Moving': False,\n",
       "  'PositionSwitchStatus': 254,\n",
       "  'Position': 0.0,\n",
       "  'DeviceEncoder': {'Position': 0.0, 'Unit': 'STEPS'},\n",
       "  'Velocity': 0.0,\n",
       "  'AtLimit': False},\n",
       " {'Reachable': True,\n",
       "  'AtHome': True,\n",
       "  'Moving': False,\n",
       "  'PositionSwitchStatus': 254,\n",
       "  'Position': 0.0,\n",
       "  'DeviceEncoder': {'Position': 0.0, 'Unit': 'STEPS'},\n",
       "  'Velocity': 0.0,\n",
       "  'AtLimit': False,\n",
       "  'CurrentTime': 1675773368279498.0,\n",
       "  'Simulate': True,\n",
       "  'SkyPA': 0.0},\n",
       " {'state': 'IDLE'},\n",
       " {'east': {'temperature': 25,\n",
       "   'cooler': nan,\n",
       "   'binning': [1, 1],\n",
       "   'area': [0, 0, 1600.0, 1100.0],\n",
       "   'state': 'online'},\n",
       "  'west': {'temperature': 25,\n",
       "   'cooler': nan,\n",
       "   'binning': [1, 1],\n",
       "   'area': [0, 0, 1600.0, 1100.0],\n",
       "   'state': 'online'}},\n",
       " {'is_tracking': True,\n",
       "  'is_connected': True,\n",
       "  'is_slewing': False,\n",
       "  'is_enabled': True,\n",
       "  'ra_j2000_hours': 22.5327912778884,\n",
       "  'dec_j2000_degs': -11.3420558294339,\n",
       "  'ra_apparent_hours': 22.5526806530441,\n",
       "  'dec_apparent_degs': -11.2264603147077,\n",
       "  'altitude_degs': 11.917623539481,\n",
       "  'azimuth_degs': 96.3837503860081,\n",
       "  'field_angle_rate_at_target_degs_per_sec': 0.000711588175638653,\n",
       "  'field_angle_here_degs': -117.754916553955,\n",
       "  'field_angle_at_target_degs': -118.74683045308,\n",
       "  'axis0': {'dist_to_target_arcsec': -0.000561183535973423,\n",
       "   'is_enabled': True,\n",
       "   'position_degs': 96.3837503860081,\n",
       "   'rms_error_arcsec': 0.00157056969065131,\n",
       "   'servo_error_arcsec': 0.0},\n",
       "  'axis1': {'dist_to_target_arcsec': 17595.9810362348,\n",
       "   'is_enabled': True,\n",
       "   'position_degs': 11.917623539481,\n",
       "   'rms_error_arcsec': 17603.7362249673,\n",
       "   'servo_error_arcsec': 0.0},\n",
       "  'model': {'filename': '',\n",
       "   'num_points_enabled': 0,\n",
       "   'num_points_total': 0,\n",
       "   'rms_error_arcsec': 0.0},\n",
       "  'geometry': 0},\n",
       " {'Reachable': True,\n",
       "  'AtHome': True,\n",
       "  'Moving': False,\n",
       "  'PositionSwitchStatus': 254,\n",
       "  'Position': 0.0,\n",
       "  'DeviceEncoder': {'Position': 0.0, 'Unit': 'STEPS'},\n",
       "  'Velocity': 0.0,\n",
       "  'AtLimit': False},\n",
       " {'Reachable': True,\n",
       "  'AtHome': True,\n",
       "  'Moving': False,\n",
       "  'PositionSwitchStatus': 254,\n",
       "  'Position': 0.0,\n",
       "  'DeviceEncoder': {'Position': 0.0, 'Unit': 'STEPS'},\n",
       "  'Velocity': 0.0,\n",
       "  'AtLimit': False,\n",
       "  'CurrentTime': 1675773368279384.0,\n",
       "  'Simulate': True,\n",
       "  'SkyPA': 0.0},\n",
       " {'state': 'IDLE'},\n",
       " {'east': {'temperature': 25,\n",
       "   'cooler': nan,\n",
       "   'binning': [1, 1],\n",
       "   'area': [0, 0, 1600.0, 1100.0],\n",
       "   'state': 'online'},\n",
       "  'west': {'temperature': 25,\n",
       "   'cooler': nan,\n",
       "   'binning': [1, 1],\n",
       "   'area': [0, 0, 1600.0, 1100.0],\n",
       "   'state': 'online'}},\n",
       " {'is_tracking': True,\n",
       "  'is_connected': True,\n",
       "  'is_slewing': False,\n",
       "  'is_enabled': True,\n",
       "  'ra_j2000_hours': 20.8845043179456,\n",
       "  'dec_j2000_degs': -74.1137916294938,\n",
       "  'ra_apparent_hours': 20.9246772804534,\n",
       "  'dec_apparent_degs': -74.0275785760348,\n",
       "  'altitude_degs': 36.4070270449961,\n",
       "  'azimuth_degs': 163.119275160715,\n",
       "  'field_angle_rate_at_target_degs_per_sec': 0.00434389579004306,\n",
       "  'field_angle_here_degs': -67.3358991493444,\n",
       "  'field_angle_at_target_degs': -67.3358966363228,\n",
       "  'axis0': {'dist_to_target_arcsec': -0.000318574270048217,\n",
       "   'is_enabled': True,\n",
       "   'position_degs': 163.119614413013,\n",
       "   'rms_error_arcsec': 0.00048820916725531,\n",
       "   'servo_error_arcsec': 0.0},\n",
       "  'axis1': {'dist_to_target_arcsec': -0.000566443687427808,\n",
       "   'is_enabled': True,\n",
       "   'position_degs': 36.4076808845338,\n",
       "   'rms_error_arcsec': 0.000965501308920983,\n",
       "   'servo_error_arcsec': 0.0},\n",
       "  'model': {'filename': '',\n",
       "   'num_points_enabled': 0,\n",
       "   'num_points_total': 0,\n",
       "   'rms_error_arcsec': 0.0},\n",
       "  'geometry': 0},\n",
       " {'Reachable': True,\n",
       "  'AtHome': False,\n",
       "  'Moving': False,\n",
       "  'PositionSwitchStatus': 254,\n",
       "  'Position': 209200.0,\n",
       "  'DeviceEncoder': {'Position': 209200.0, 'Unit': 'STEPS'},\n",
       "  'Velocity': 0.0,\n",
       "  'AtLimit': True},\n",
       " {'Reachable': True,\n",
       "  'AtHome': True,\n",
       "  'Moving': False,\n",
       "  'PositionSwitchStatus': 255,\n",
       "  'Position': 0.0,\n",
       "  'DeviceEncoder': {'Position': 0.0, 'Unit': 'STEPS'},\n",
       "  'Velocity': 0.0},\n",
       " {'state': 'IDLE'},\n",
       " {'center': {'temperature': 25,\n",
       "   'cooler': nan,\n",
       "   'binning': [1, 1],\n",
       "   'area': [0, 0, 1600.0, 1100.0],\n",
       "   'state': 'online'}},\n",
       " {'is_tracking': False,\n",
       "  'is_connected': False,\n",
       "  'is_slewing': False,\n",
       "  'is_enabled': False,\n",
       "  'ra_j2000_hours': 0.0,\n",
       "  'dec_j2000_degs': 0.0,\n",
       "  'ra_apparent_hours': 0.0,\n",
       "  'dec_apparent_degs': 0.0,\n",
       "  'altitude_degs': 0.0,\n",
       "  'azimuth_degs': 0.0,\n",
       "  'field_angle_rate_at_target_degs_per_sec': 0.0,\n",
       "  'field_angle_here_degs': 0.0,\n",
       "  'field_angle_at_target_degs': 0.0,\n",
       "  'axis0': {'dist_to_target_arcsec': 0.0,\n",
       "   'is_enabled': False,\n",
       "   'position_degs': 0.0,\n",
       "   'rms_error_arcsec': 0.0,\n",
       "   'servo_error_arcsec': 0.0},\n",
       "  'axis1': {'dist_to_target_arcsec': 0.0,\n",
       "   'is_enabled': False,\n",
       "   'position_degs': 0.0,\n",
       "   'rms_error_arcsec': 0.0,\n",
       "   'servo_error_arcsec': 0.0},\n",
       "  'model': {'filename': '',\n",
       "   'num_points_enabled': 0,\n",
       "   'num_points_total': 0,\n",
       "   'rms_error_arcsec': 0.0},\n",
       "  'geometry': 0},\n",
       " {'status': {'cab': {'cab.mocon': {'state': 0,\n",
       "     'descr': 'Mocon motor controller',\n",
       "     'switch': 'cab',\n",
       "     'port': 1}},\n",
       "   'sci': {'sci.pwi': {'state': 0,\n",
       "     'descr': 'Planewave mount',\n",
       "     'switch': 'sci',\n",
       "     'port': 1},\n",
       "    'sci.tpc': {'state': 0,\n",
       "     'descr': 'Planewave tiny pc',\n",
       "     'switch': 'sci',\n",
       "     'port': 2}},\n",
       "   'skye': {'skye.pwi': {'state': 0,\n",
       "     'descr': 'Planewave mount',\n",
       "     'switch': 'skye',\n",
       "     'port': 1},\n",
       "    'skye.tpc': {'state': 0,\n",
       "     'descr': 'Planewave tiny pc',\n",
       "     'switch': 'skye',\n",
       "     'port': 2}},\n",
       "   'skyw': {'skyw.pwi': {'state': 0,\n",
       "     'descr': 'Planewave mount',\n",
       "     'switch': 'skyw',\n",
       "     'port': 1},\n",
       "    'skyw.tpc': {'state': 0,\n",
       "     'descr': 'Planewave tiny pc',\n",
       "     'switch': 'skyw',\n",
       "     'port': 2}},\n",
       "   'spec': {'spec.pwi': {'state': 0,\n",
       "     'descr': 'Planewave mount',\n",
       "     'switch': 'spec',\n",
       "     'port': 1},\n",
       "    'spec.tpc': {'state': 0,\n",
       "     'descr': 'Planewave tiny pc',\n",
       "     'switch': 'spec',\n",
       "     'port': 2}}}},\n",
       " Exception(\"Failed routing message to consumer 'lvmieb'.\"),\n",
       " Exception(\"Failed routing message to consumer 'lvmecp'.\"),\n",
       " Exception(\"Failed routing message to consumer 'lvmscp'.\")]"
      ]
     },
     "execution_count": 8,
     "metadata": {},
     "output_type": "execute_result"
    }
   ],
   "source": [
    "await invoke(lvm.sci.foc.status(), lvm.sci.km.status(), lvm.sci.ag.status(), lvm.sci.agc.status(), lvm.sci.pwi.status(),\n",
    "             lvm.skyw.foc.status(), lvm.skyw.km.status(), lvm.skyw.ag.status(), lvm.skyw.agc.status(), lvm.skyw.pwi.status(),\n",
    "             lvm.skye.foc.status(), lvm.skye.km.status(), lvm.skye.ag.status(), lvm.skye.agc.status(), lvm.skye.pwi.status(),\n",
    "             lvm.spec.foc.status(), lvm.spec.fibsel.status(), lvm.spec.ag.status(), lvm.spec.agc.status(), lvm.spec.pwi.status(),\n",
    "             lvm.nps.status(), lvm.ieb.ping(), lvm.ecp.ping(), lvm.scp.ping(),\n",
    "             return_exceptions=True)"
   ]
  }
 ],
 "metadata": {
  "kernelspec": {
   "display_name": "Python 3 (ipykernel)",
   "language": "python",
   "name": "python3"
  },
  "language_info": {
   "codemirror_mode": {
    "name": "ipython",
    "version": 3
   },
   "file_extension": ".py",
   "mimetype": "text/x-python",
   "name": "python",
   "nbconvert_exporter": "python",
   "pygments_lexer": "ipython3",
   "version": "3.10.8"
  }
 },
 "nbformat": 4,
 "nbformat_minor": 5
}
