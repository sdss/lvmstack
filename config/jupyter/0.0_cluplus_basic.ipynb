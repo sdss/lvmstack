{
 "cells": [
  {
   "cell_type": "code",
   "execution_count": 1,
   "id": "9643d008-245b-4ffb-90b2-757fe3b8082b",
   "metadata": {
    "tags": []
   },
   "outputs": [
    {
     "data": {
      "text/plain": [
       "{'Reachable': True,\n",
       " 'AtHome': False,\n",
       " 'Moving': False,\n",
       " 'PositionSwitchStatus': 0,\n",
       " 'Position': 40.0,\n",
       " 'DeviceEncoder': {'Position': 0.0, 'Unit': 'STEPS'},\n",
       " 'Velocity': 0.0,\n",
       " 'AtLimit': False}"
      ]
     },
     "execution_count": 1,
     "metadata": {},
     "output_type": "execute_result"
    }
   ],
   "source": [
    "from cluplus.proxy import Proxy\n",
    "\n",
    "# low level command\n",
    "foc_skye = await Proxy(\"lvm.skye.foc\").start()\n",
    "    \n",
    "await foc_skye.status()"
   ]
  },
  {
   "cell_type": "code",
   "execution_count": 2,
   "id": "57212dea-7a93-4c63-9a96-a59886f418a8",
   "metadata": {
    "tags": []
   },
   "outputs": [
    {
     "data": {
      "text/plain": [
       "{'Reachable': True,\n",
       " 'AtHome': False,\n",
       " 'Moving': False,\n",
       " 'PositionSwitchStatus': 0,\n",
       " 'Position': 40.0,\n",
       " 'DeviceEncoder': {'Position': 0.0, 'Unit': 'STEPS'},\n",
       " 'Velocity': 0.0,\n",
       " 'AtLimit': False}"
      ]
     },
     "execution_count": 2,
     "metadata": {},
     "output_type": "execute_result"
    }
   ],
   "source": [
    "from lvmtipo.actors import lvm\n",
    "\n",
    "await lvm.sci.foc.start()\n",
    "await lvm.sci.foc.status()\n"
   ]
  },
  {
   "cell_type": "code",
   "execution_count": 3,
   "id": "4cc21b3f-8589-4ba3-8f4e-567c31bba72f",
   "metadata": {
    "tags": []
   },
   "outputs": [
    {
     "data": {
      "text/plain": [
       "{'Reachable': True,\n",
       " 'AtHome': False,\n",
       " 'Moving': False,\n",
       " 'PositionSwitchStatus': 0,\n",
       " 'Position': 41.0,\n",
       " 'DeviceEncoder': {'Position': 500.0, 'Unit': 'STEPS'},\n",
       " 'Velocity': 0.0,\n",
       " 'AtLimit': False}"
      ]
     },
     "execution_count": 3,
     "metadata": {},
     "output_type": "execute_result"
    }
   ],
   "source": [
    "await lvm.sci.foc.moveRelative(1, \"DT\")"
   ]
  },
  {
   "cell_type": "code",
   "execution_count": 5,
   "id": "7578da99-4827-4d93-af9e-b6fd1977f084",
   "metadata": {
    "tags": []
   },
   "outputs": [
    {
     "ename": "AttributeError",
     "evalue": "'Proxy' object has no attribute 'status'",
     "output_type": "error",
     "traceback": [
      "\u001b[0;31m---------------------------------------------------------------------------\u001b[0m",
      "\u001b[0;31mAttributeError\u001b[0m                            Traceback (most recent call last)",
      "Cell \u001b[0;32mIn[5], line 1\u001b[0m\n\u001b[0;32m----> 1\u001b[0m reachable, position \u001b[38;5;241m=\u001b[39m (\u001b[38;5;28;01mawait\u001b[39;00m lvm\u001b[38;5;241m.\u001b[39mspec\u001b[38;5;241m.\u001b[39mfoc\u001b[38;5;241m.\u001b[39mstatus())\u001b[38;5;241m.\u001b[39mflatten()\u001b[38;5;241m.\u001b[39munpack(\u001b[38;5;124m'\u001b[39m\u001b[38;5;124mReachable\u001b[39m\u001b[38;5;124m'\u001b[39m, \u001b[38;5;124m'\u001b[39m\u001b[38;5;124mDeviceEncoder.Position\u001b[39m\u001b[38;5;124m'\u001b[39m)\n\u001b[1;32m      3\u001b[0m \u001b[38;5;28mprint\u001b[39m(\u001b[38;5;124mf\u001b[39m\u001b[38;5;124m\"\u001b[39m\u001b[38;5;124mreachable: \u001b[39m\u001b[38;5;132;01m{\u001b[39;00mreachable\u001b[38;5;132;01m}\u001b[39;00m\u001b[38;5;124m, position: \u001b[39m\u001b[38;5;132;01m{\u001b[39;00mposition\u001b[38;5;132;01m}\u001b[39;00m\u001b[38;5;124m\"\u001b[39m)\n",
      "File \u001b[0;32m~/lvm/cluplus/python/cluplus/proxy.py:92\u001b[0m, in \u001b[0;36mProxy.__getattr__\u001b[0;34m(self, attr)\u001b[0m\n\u001b[1;32m     90\u001b[0m \u001b[38;5;28;01mif\u001b[39;00m attr \u001b[38;5;241m!=\u001b[39m Proxy\u001b[38;5;241m.\u001b[39m__pull_commands_task \u001b[38;5;129;01mand\u001b[39;00m \u001b[38;5;28mhasattr\u001b[39m(\u001b[38;5;28mself\u001b[39m, Proxy\u001b[38;5;241m.\u001b[39m__pull_commands_task):\n\u001b[1;32m     91\u001b[0m     \u001b[38;5;28;01mreturn\u001b[39;00m partial(\u001b[38;5;28mself\u001b[39m\u001b[38;5;241m.\u001b[39mcall_command, attr)\n\u001b[0;32m---> 92\u001b[0m \u001b[38;5;28;01mreturn\u001b[39;00m \u001b[38;5;28;43msuper\u001b[39;49m\u001b[43m(\u001b[49m\u001b[43mProxy\u001b[49m\u001b[43m,\u001b[49m\u001b[43m \u001b[49m\u001b[38;5;28;43mself\u001b[39;49m\u001b[43m)\u001b[49m\u001b[38;5;241;43m.\u001b[39;49m\u001b[38;5;21;43m__getattribute__\u001b[39;49m\u001b[43m(\u001b[49m\u001b[43mattr\u001b[49m\u001b[43m)\u001b[49m\n",
      "\u001b[0;31mAttributeError\u001b[0m: 'Proxy' object has no attribute 'status'"
     ]
    }
   ],
   "source": [
    "reachable, position = (await lvm.specci.foc.status()).flatten().unpack('Reachable', 'DeviceEncoder.Position')\n",
    "\n",
    "print(f\"reachable: {reachable}, position: {position}\")\n"
   ]
  },
  {
   "cell_type": "code",
   "execution_count": 14,
   "id": "56037111-6cd7-40aa-8072-0994dabdf4c6",
   "metadata": {},
   "outputs": [
    {
     "name": "stderr",
     "output_type": "stream",
     "text": [
      "\u001b[1;33m[WARNING]: \u001b[0mactor lvmieb currently not reachable.\n",
      "\u001b[1;33m[WARNING]: \u001b[0mactor lvmecp currently not reachable.\n",
      "\u001b[1;33m[WARNING]: \u001b[0mactor lvmscp currently not reachable.\n"
     ]
    },
    {
     "data": {
      "text/plain": [
       "<cluplus.proxy.Proxy at 0x7f6d9872e1a0>"
      ]
     },
     "execution_count": 14,
     "metadata": {},
     "output_type": "execute_result"
    }
   ],
   "source": [
    "from lvmtipo.actors import lvm\n",
    "\n",
    "# connect to every telescope actors individually.\n",
    "await lvm.sci.ag.start()\n",
    "await lvm.sci.agc.start()\n",
    "await lvm.sci.pwi.start()\n",
    "await lvm.sci.km.start()\n",
    "await lvm.sci.foc.start()\n",
    "\n",
    "# connect to all telescope actors\n",
    "await lvm.skyw.start()\n",
    "await lvm.skye.start()\n",
    "await lvm.spec.start()\n",
    "\n",
    "# connect to other not fully compliant actors\n",
    "await lvm.nps.start()\n",
    "await lvm.ieb.start()\n",
    "await lvm.ecp.start()\n",
    "await lvm.scp.start()\n"
   ]
  },
  {
   "cell_type": "code",
   "execution_count": 15,
   "id": "25c1b0a7-869d-4ba5-8a3d-728db2cba962",
   "metadata": {},
   "outputs": [
    {
     "name": "stdout",
     "output_type": "stream",
     "text": [
      "Failed routing message to consumer 'lvmieb'.\n"
     ]
    }
   ],
   "source": [
    "try:\n",
    "    await lvm.ieb.ping()\n",
    "\n",
    "except Exception as e:\n",
    "    print(e)\n",
    "  "
   ]
  },
  {
   "cell_type": "code",
   "execution_count": 17,
   "id": "be3fcfd5-fc73-4b47-bd3d-8880a294c4a7",
   "metadata": {},
   "outputs": [
    {
     "name": "stdout",
     "output_type": "stream",
     "text": [
      "Partial errors: ({'Reachable': True, 'AtHome': False, 'Moving': False, 'PositionSwitchStatus': 254, 'Position': 41.99009873295702, 'DeviceEncoder': {'Position': 995.0493664785099, 'Unit': 'STEPS'}, 'Velocity': 0.0, 'AtLimit': False}, {'Reachable': True, 'AtHome': False, 'Moving': False, 'PositionSwitchStatus': 254, 'Position': 69.34766664623189, 'DeviceEncoder': {'Position': 3678258.0, 'Unit': 'STEPS'}, 'Velocity': 0.0, 'AtLimit': False, 'CurrentTime': 1675948020711617.0, 'Simulate': True, 'SkyPA': 138.69533332924635}, {'state': 'IDLE'}, {'east': {'temperature': 25, 'cooler': nan, 'binning': [1, 1], 'area': [0, 0, 1600.0, 1100.0], 'state': 'online'}, 'center': {'temperature': 25, 'cooler': nan, 'binning': [1, 1], 'area': [0, 0, 3200.0, 2200.0], 'state': 'online'}, 'west': {'temperature': 25, 'cooler': nan, 'binning': [1, 1], 'area': [0, 0, 1600.0, 1100.0], 'state': 'online'}}, {'is_tracking': True, 'is_connected': True, 'is_slewing': False, 'is_enabled': True, 'ra_j2000_hours': 18.4030529166711, 'dec_j2000_degs': -34.3855359953854, 'ra_apparent_hours': 18.4281019294421, 'dec_apparent_degs': -34.3731071916882, 'altitude_degs': 79.2263560850373, 'azimuth_degs': 122.623294674824, 'field_angle_rate_at_target_degs_per_sec': 0.0105350418332534, 'field_angle_here_degs': -63.1742649851401, 'field_angle_at_target_degs': -63.1742683627055, 'axis0': {'dist_to_target_arcsec': -0.0103151841843422, 'is_enabled': True, 'position_degs': 122.623462538296, 'rms_error_arcsec': 0.00828723393151733, 'servo_error_arcsec': 0.0}, 'axis1': {'dist_to_target_arcsec': -0.00391520139000958, 'is_enabled': True, 'position_degs': 79.2264181343679, 'rms_error_arcsec': 0.00307162019757549, 'servo_error_arcsec': 0.0}, 'model': {'filename': '', 'num_points_enabled': 0, 'num_points_total': 0, 'rms_error_arcsec': 0.0}, 'geometry': 0}, {'Reachable': True, 'AtHome': True, 'Moving': False, 'PositionSwitchStatus': 254, 'Position': 0.0, 'DeviceEncoder': {'Position': 0.0, 'Unit': 'STEPS'}, 'Velocity': 0.0, 'AtLimit': False}, {'Reachable': True, 'AtHome': True, 'Moving': False, 'PositionSwitchStatus': 254, 'Position': 0.0, 'DeviceEncoder': {'Position': 0.0, 'Unit': 'STEPS'}, 'Velocity': 0.0, 'AtLimit': False, 'CurrentTime': 1675948020710976.0, 'Simulate': True, 'SkyPA': 0.0}, {'state': 'IDLE'}, {'east': {'temperature': 25, 'cooler': nan, 'binning': [1, 1], 'area': [0, 0, 1600.0, 1100.0], 'state': 'online'}, 'west': {'temperature': 25, 'cooler': nan, 'binning': [1, 1], 'area': [0, 0, 1600.0, 1100.0], 'state': 'online'}}, {'is_tracking': False, 'is_connected': True, 'is_slewing': False, 'is_enabled': True, 'ra_j2000_hours': 17.6464512250597, 'dec_j2000_degs': -74.0182322834616, 'ra_apparent_hours': 17.6948018812911, 'dec_apparent_degs': -74.0275786416657, 'altitude_degs': 45.0, 'azimuth_degs': 180.0, 'field_angle_rate_at_target_degs_per_sec': 0.0, 'field_angle_here_degs': 4.11818644104011e-05, 'field_angle_at_target_degs': 0.0, 'axis0': {'dist_to_target_arcsec': 0.0, 'is_enabled': True, 'position_degs': 180.0, 'rms_error_arcsec': 0.0, 'servo_error_arcsec': 0.0}, 'axis1': {'dist_to_target_arcsec': 0.0, 'is_enabled': True, 'position_degs': 45.0, 'rms_error_arcsec': 0.0, 'servo_error_arcsec': 0.0}, 'model': {'filename': '', 'num_points_enabled': 0, 'num_points_total': 0, 'rms_error_arcsec': 0.0}, 'geometry': 0}, {'Reachable': True, 'AtHome': True, 'Moving': False, 'PositionSwitchStatus': 254, 'Position': 0.0, 'DeviceEncoder': {'Position': 0.0, 'Unit': 'STEPS'}, 'Velocity': 0.0, 'AtLimit': False}, {'Reachable': True, 'AtHome': True, 'Moving': False, 'PositionSwitchStatus': 254, 'Position': 0.0, 'DeviceEncoder': {'Position': 0.0, 'Unit': 'STEPS'}, 'Velocity': 0.0, 'AtLimit': False, 'CurrentTime': 1675948020713255.0, 'Simulate': True, 'SkyPA': 0.0}, {'state': 'IDLE'}, {'east': {'temperature': 25, 'cooler': nan, 'binning': [1, 1], 'area': [0, 0, 1600.0, 1100.0], 'state': 'online'}, 'west': {'temperature': 25, 'cooler': nan, 'binning': [1, 1], 'area': [0, 0, 1600.0, 1100.0], 'state': 'online'}}, {'is_tracking': False, 'is_connected': True, 'is_slewing': False, 'is_enabled': True, 'ra_j2000_hours': 17.6464456585157, 'dec_j2000_degs': -74.0182321029507, 'ra_apparent_hours': 17.6947963116756, 'dec_apparent_degs': -74.0275786416657, 'altitude_degs': 45.0, 'azimuth_degs': 180.0, 'field_angle_rate_at_target_degs_per_sec': 0.0, 'field_angle_here_degs': 3.59956647533131e-05, 'field_angle_at_target_degs': 0.0, 'axis0': {'dist_to_target_arcsec': 0.0, 'is_enabled': True, 'position_degs': 180.0, 'rms_error_arcsec': 0.0, 'servo_error_arcsec': 0.0}, 'axis1': {'dist_to_target_arcsec': 0.0, 'is_enabled': True, 'position_degs': 45.0, 'rms_error_arcsec': 0.0, 'servo_error_arcsec': 0.0}, 'model': {'filename': '', 'num_points_enabled': 0, 'num_points_total': 0, 'rms_error_arcsec': 0.0}, 'geometry': 0}, {'Reachable': True, 'AtHome': False, 'Moving': False, 'PositionSwitchStatus': 254, 'Position': 209200.0, 'DeviceEncoder': {'Position': 209200.0, 'Unit': 'STEPS'}, 'Velocity': 0.0, 'AtLimit': True}, {'Reachable': True, 'AtHome': True, 'Moving': False, 'PositionSwitchStatus': 255, 'Position': 0.0, 'DeviceEncoder': {'Position': 0.0, 'Unit': 'STEPS'}, 'Velocity': 0.0}, {'state': 'IDLE'}, {'center': {'temperature': 25, 'cooler': nan, 'binning': [1, 1], 'area': [0, 0, 1600.0, 1100.0], 'state': 'online'}}, {'is_tracking': False, 'is_connected': True, 'is_slewing': False, 'is_enabled': True, 'ra_j2000_hours': 17.646452053881, 'dec_j2000_degs': -74.0182323103385, 'ra_apparent_hours': 17.6948027105697, 'dec_apparent_degs': -74.0275786416657, 'altitude_degs': 45.0, 'azimuth_degs': 180.0, 'field_angle_rate_at_target_degs_per_sec': 0.0, 'field_angle_here_degs': 5.15306620725524e-06, 'field_angle_at_target_degs': 0.0, 'axis0': {'dist_to_target_arcsec': 0.0, 'is_enabled': True, 'position_degs': 180.0, 'rms_error_arcsec': 0.0, 'servo_error_arcsec': 0.0}, 'axis1': {'dist_to_target_arcsec': 0.0, 'is_enabled': True, 'position_degs': 45.0, 'rms_error_arcsec': 0.0, 'servo_error_arcsec': 0.0}, 'model': {'filename': '', 'num_points_enabled': 0, 'num_points_total': 0, 'rms_error_arcsec': 0.0}, 'geometry': 0}, {'status': {'cab': {'cab.mocon': {'state': 0, 'descr': 'Mocon motor controller', 'switch': 'cab', 'port': 1}}, 'sci': {'sci.pwi': {'state': 0, 'descr': 'Planewave mount', 'switch': 'sci', 'port': 1}, 'sci.tpc': {'state': 0, 'descr': 'Planewave tiny pc', 'switch': 'sci', 'port': 2}}, 'skye': {'skye.pwi': {'state': 0, 'descr': 'Planewave mount', 'switch': 'skye', 'port': 1}, 'skye.tpc': {'state': 0, 'descr': 'Planewave tiny pc', 'switch': 'skye', 'port': 2}}, 'skyw': {'skyw.pwi': {'state': 0, 'descr': 'Planewave mount', 'switch': 'skyw', 'port': 1}, 'skyw.tpc': {'state': 0, 'descr': 'Planewave tiny pc', 'switch': 'skyw', 'port': 2}}, 'spec': {'spec.pwi': {'state': 0, 'descr': 'Planewave mount', 'switch': 'spec', 'port': 1}, 'spec.tpc': {'state': 0, 'descr': 'Planewave tiny pc', 'switch': 'spec', 'port': 2}}}}, Exception(\"Failed routing message to consumer 'lvmieb'.\"), Exception(\"Failed routing message to consumer 'lvmecp'.\"), Exception(\"Failed routing message to consumer 'lvmscp'.\"))\n"
     ]
    }
   ],
   "source": [
    "from cluplus.proxy import invoke\n",
    "\n",
    "try:\n",
    "    await invoke(lvm.sci.foc.status(), lvm.sci.km.status(), lvm.sci.ag.status(), lvm.sci.agc.status(), lvm.sci.pwi.status(),\n",
    "                 lvm.skyw.foc.status(), lvm.skyw.km.status(), lvm.skyw.ag.status(), lvm.skyw.agc.status(), lvm.skyw.pwi.status(),\n",
    "                 lvm.skye.foc.status(), lvm.skye.km.status(), lvm.skye.ag.status(), lvm.skye.agc.status(), lvm.skye.pwi.status(),\n",
    "                 lvm.spec.foc.status(), lvm.spec.fibsel.status(), lvm.spec.ag.status(), lvm.spec.agc.status(), lvm.spec.pwi.status(),\n",
    "                 lvm.nps.status(), lvm.ieb.ping(), lvm.ecp.ping(), lvm.scp.ping())\n",
    "\n",
    "except Exception as e:\n",
    "    print(f\"Partial errors: {e.args}\")\n"
   ]
  },
  {
   "cell_type": "code",
   "execution_count": 18,
   "id": "d3526c16-283e-4ee7-8e14-d6c5c366ac9a",
   "metadata": {},
   "outputs": [
    {
     "data": {
      "text/plain": [
       "[{'Reachable': True,\n",
       "  'AtHome': False,\n",
       "  'Moving': False,\n",
       "  'PositionSwitchStatus': 254,\n",
       "  'Position': 41.99009873295702,\n",
       "  'DeviceEncoder': {'Position': 995.0493664785099, 'Unit': 'STEPS'},\n",
       "  'Velocity': 0.0,\n",
       "  'AtLimit': False},\n",
       " {'Reachable': True,\n",
       "  'AtHome': False,\n",
       "  'Moving': False,\n",
       "  'PositionSwitchStatus': 254,\n",
       "  'Position': 69.27827775734994,\n",
       "  'DeviceEncoder': {'Position': 3677009.0, 'Unit': 'STEPS'},\n",
       "  'Velocity': 0.0,\n",
       "  'AtLimit': False,\n",
       "  'CurrentTime': 1675948055908712.0,\n",
       "  'Simulate': True,\n",
       "  'SkyPA': 138.55655555147},\n",
       " {'state': 'IDLE'},\n",
       " {'east': {'temperature': 25,\n",
       "   'cooler': nan,\n",
       "   'binning': [1, 1],\n",
       "   'area': [0, 0, 1600.0, 1100.0],\n",
       "   'state': 'online'},\n",
       "  'center': {'temperature': 25,\n",
       "   'cooler': nan,\n",
       "   'binning': [1, 1],\n",
       "   'area': [0, 0, 3200.0, 2200.0],\n",
       "   'state': 'online'},\n",
       "  'west': {'temperature': 25,\n",
       "   'cooler': nan,\n",
       "   'binning': [1, 1],\n",
       "   'area': [0, 0, 1600.0, 1100.0],\n",
       "   'state': 'online'}},\n",
       " {'is_tracking': True,\n",
       "  'is_connected': True,\n",
       "  'is_slewing': False,\n",
       "  'is_enabled': True,\n",
       "  'ra_j2000_hours': 18.4030529354092,\n",
       "  'dec_j2000_degs': -34.3855360037139,\n",
       "  'ra_apparent_hours': 18.4281019517726,\n",
       "  'dec_apparent_degs': -34.3731071945677,\n",
       "  'altitude_degs': 79.3336216201175,\n",
       "  'azimuth_degs': 122.917263716893,\n",
       "  'field_angle_rate_at_target_degs_per_sec': 0.0107248871341149,\n",
       "  'field_angle_here_degs': -62.8030388331988,\n",
       "  'field_angle_at_target_degs': -62.8030414223231,\n",
       "  'axis0': {'dist_to_target_arcsec': 0.00434173905438689,\n",
       "   'is_enabled': True,\n",
       "   'position_degs': 122.917435230441,\n",
       "   'rms_error_arcsec': 0.00970178326135267,\n",
       "   'servo_error_arcsec': 0.0},\n",
       "  'axis1': {'dist_to_target_arcsec': 0.0014418308693506,\n",
       "   'is_enabled': True,\n",
       "   'position_degs': 79.3336833974803,\n",
       "   'rms_error_arcsec': 0.00350572710894703,\n",
       "   'servo_error_arcsec': 0.0},\n",
       "  'model': {'filename': '',\n",
       "   'num_points_enabled': 0,\n",
       "   'num_points_total': 0,\n",
       "   'rms_error_arcsec': 0.0},\n",
       "  'geometry': 0},\n",
       " {'Reachable': True,\n",
       "  'AtHome': True,\n",
       "  'Moving': False,\n",
       "  'PositionSwitchStatus': 254,\n",
       "  'Position': 0.0,\n",
       "  'DeviceEncoder': {'Position': 0.0, 'Unit': 'STEPS'},\n",
       "  'Velocity': 0.0,\n",
       "  'AtLimit': False},\n",
       " {'Reachable': True,\n",
       "  'AtHome': True,\n",
       "  'Moving': False,\n",
       "  'PositionSwitchStatus': 254,\n",
       "  'Position': 0.0,\n",
       "  'DeviceEncoder': {'Position': 0.0, 'Unit': 'STEPS'},\n",
       "  'Velocity': 0.0,\n",
       "  'AtLimit': False,\n",
       "  'CurrentTime': 1675948056004588.0,\n",
       "  'Simulate': True,\n",
       "  'SkyPA': 0.0},\n",
       " {'state': 'IDLE'},\n",
       " {'east': {'temperature': 25,\n",
       "   'cooler': nan,\n",
       "   'binning': [1, 1],\n",
       "   'area': [0, 0, 1600.0, 1100.0],\n",
       "   'state': 'online'},\n",
       "  'west': {'temperature': 25,\n",
       "   'cooler': nan,\n",
       "   'binning': [1, 1],\n",
       "   'area': [0, 0, 1600.0, 1100.0],\n",
       "   'state': 'online'}},\n",
       " {'is_tracking': False,\n",
       "  'is_connected': True,\n",
       "  'is_slewing': False,\n",
       "  'is_enabled': True,\n",
       "  'ra_j2000_hours': 17.6561766863501,\n",
       "  'dec_j2000_degs': -74.0185476860324,\n",
       "  'ra_apparent_hours': 17.7045326155645,\n",
       "  'dec_apparent_degs': -74.0275786416657,\n",
       "  'altitude_degs': 45.0,\n",
       "  'azimuth_degs': 180.0,\n",
       "  'field_angle_rate_at_target_degs_per_sec': 0.0,\n",
       "  'field_angle_here_degs': 5.06253078255511e-06,\n",
       "  'field_angle_at_target_degs': 0.0,\n",
       "  'axis0': {'dist_to_target_arcsec': 0.0,\n",
       "   'is_enabled': True,\n",
       "   'position_degs': 180.0,\n",
       "   'rms_error_arcsec': 0.0,\n",
       "   'servo_error_arcsec': 0.0},\n",
       "  'axis1': {'dist_to_target_arcsec': 0.0,\n",
       "   'is_enabled': True,\n",
       "   'position_degs': 45.0,\n",
       "   'rms_error_arcsec': 0.0,\n",
       "   'servo_error_arcsec': 0.0},\n",
       "  'model': {'filename': '',\n",
       "   'num_points_enabled': 0,\n",
       "   'num_points_total': 0,\n",
       "   'rms_error_arcsec': 0.0},\n",
       "  'geometry': 0},\n",
       " {'Reachable': True,\n",
       "  'AtHome': True,\n",
       "  'Moving': False,\n",
       "  'PositionSwitchStatus': 254,\n",
       "  'Position': 0.0,\n",
       "  'DeviceEncoder': {'Position': 0.0, 'Unit': 'STEPS'},\n",
       "  'Velocity': 0.0,\n",
       "  'AtLimit': False},\n",
       " {'Reachable': True,\n",
       "  'AtHome': True,\n",
       "  'Moving': False,\n",
       "  'PositionSwitchStatus': 254,\n",
       "  'Position': 0.0,\n",
       "  'DeviceEncoder': {'Position': 0.0, 'Unit': 'STEPS'},\n",
       "  'Velocity': 0.0,\n",
       "  'AtLimit': False,\n",
       "  'CurrentTime': 1675948055905633.0,\n",
       "  'Simulate': True,\n",
       "  'SkyPA': 0.0},\n",
       " {'state': 'IDLE'},\n",
       " {'east': {'temperature': 25,\n",
       "   'cooler': nan,\n",
       "   'binning': [1, 1],\n",
       "   'area': [0, 0, 1600.0, 1100.0],\n",
       "   'state': 'online'},\n",
       "  'west': {'temperature': 25,\n",
       "   'cooler': nan,\n",
       "   'binning': [1, 1],\n",
       "   'area': [0, 0, 1600.0, 1100.0],\n",
       "   'state': 'online'}},\n",
       " {'is_tracking': False,\n",
       "  'is_connected': True,\n",
       "  'is_slewing': False,\n",
       "  'is_enabled': True,\n",
       "  'ra_j2000_hours': 17.6561741774373,\n",
       "  'dec_j2000_degs': -74.01854760466,\n",
       "  'ra_apparent_hours': 17.7045301053154,\n",
       "  'dec_apparent_degs': -74.0275786416657,\n",
       "  'altitude_degs': 45.0,\n",
       "  'azimuth_degs': 180.0,\n",
       "  'field_angle_rate_at_target_degs_per_sec': 0.0,\n",
       "  'field_angle_here_degs': 1.02871770576815e-05,\n",
       "  'field_angle_at_target_degs': 0.0,\n",
       "  'axis0': {'dist_to_target_arcsec': 0.0,\n",
       "   'is_enabled': True,\n",
       "   'position_degs': 180.0,\n",
       "   'rms_error_arcsec': 0.0,\n",
       "   'servo_error_arcsec': 0.0},\n",
       "  'axis1': {'dist_to_target_arcsec': 0.0,\n",
       "   'is_enabled': True,\n",
       "   'position_degs': 45.0,\n",
       "   'rms_error_arcsec': 0.0,\n",
       "   'servo_error_arcsec': 0.0},\n",
       "  'model': {'filename': '',\n",
       "   'num_points_enabled': 0,\n",
       "   'num_points_total': 0,\n",
       "   'rms_error_arcsec': 0.0},\n",
       "  'geometry': 0},\n",
       " {'Reachable': True,\n",
       "  'AtHome': False,\n",
       "  'Moving': False,\n",
       "  'PositionSwitchStatus': 254,\n",
       "  'Position': 209200.0,\n",
       "  'DeviceEncoder': {'Position': 209200.0, 'Unit': 'STEPS'},\n",
       "  'Velocity': 0.0,\n",
       "  'AtLimit': True},\n",
       " {'Reachable': True,\n",
       "  'AtHome': True,\n",
       "  'Moving': False,\n",
       "  'PositionSwitchStatus': 255,\n",
       "  'Position': 0.0,\n",
       "  'DeviceEncoder': {'Position': 0.0, 'Unit': 'STEPS'},\n",
       "  'Velocity': 0.0},\n",
       " {'state': 'IDLE'},\n",
       " {'center': {'temperature': 25,\n",
       "   'cooler': nan,\n",
       "   'binning': [1, 1],\n",
       "   'area': [0, 0, 1600.0, 1100.0],\n",
       "   'state': 'online'}},\n",
       " {'is_tracking': False,\n",
       "  'is_connected': True,\n",
       "  'is_slewing': False,\n",
       "  'is_enabled': True,\n",
       "  'ra_j2000_hours': 17.6561736286127,\n",
       "  'dec_j2000_degs': -74.0185475868597,\n",
       "  'ra_apparent_hours': 17.7045295561985,\n",
       "  'dec_apparent_degs': -74.0275786416657,\n",
       "  'altitude_degs': 45.0,\n",
       "  'azimuth_degs': 180.0,\n",
       "  'field_angle_rate_at_target_degs_per_sec': 0.0,\n",
       "  'field_angle_here_degs': 4.97983946730585e-06,\n",
       "  'field_angle_at_target_degs': 0.0,\n",
       "  'axis0': {'dist_to_target_arcsec': 0.0,\n",
       "   'is_enabled': True,\n",
       "   'position_degs': 180.0,\n",
       "   'rms_error_arcsec': 0.0,\n",
       "   'servo_error_arcsec': 0.0},\n",
       "  'axis1': {'dist_to_target_arcsec': 0.0,\n",
       "   'is_enabled': True,\n",
       "   'position_degs': 45.0,\n",
       "   'rms_error_arcsec': 0.0,\n",
       "   'servo_error_arcsec': 0.0},\n",
       "  'model': {'filename': '',\n",
       "   'num_points_enabled': 0,\n",
       "   'num_points_total': 0,\n",
       "   'rms_error_arcsec': 0.0},\n",
       "  'geometry': 0},\n",
       " {'status': {'cab': {'cab.mocon': {'state': 0,\n",
       "     'descr': 'Mocon motor controller',\n",
       "     'switch': 'cab',\n",
       "     'port': 1}},\n",
       "   'sci': {'sci.pwi': {'state': 0,\n",
       "     'descr': 'Planewave mount',\n",
       "     'switch': 'sci',\n",
       "     'port': 1},\n",
       "    'sci.tpc': {'state': 0,\n",
       "     'descr': 'Planewave tiny pc',\n",
       "     'switch': 'sci',\n",
       "     'port': 2}},\n",
       "   'skye': {'skye.pwi': {'state': 0,\n",
       "     'descr': 'Planewave mount',\n",
       "     'switch': 'skye',\n",
       "     'port': 1},\n",
       "    'skye.tpc': {'state': 0,\n",
       "     'descr': 'Planewave tiny pc',\n",
       "     'switch': 'skye',\n",
       "     'port': 2}},\n",
       "   'skyw': {'skyw.pwi': {'state': 0,\n",
       "     'descr': 'Planewave mount',\n",
       "     'switch': 'skyw',\n",
       "     'port': 1},\n",
       "    'skyw.tpc': {'state': 0,\n",
       "     'descr': 'Planewave tiny pc',\n",
       "     'switch': 'skyw',\n",
       "     'port': 2}},\n",
       "   'spec': {'spec.pwi': {'state': 0,\n",
       "     'descr': 'Planewave mount',\n",
       "     'switch': 'spec',\n",
       "     'port': 1},\n",
       "    'spec.tpc': {'state': 0,\n",
       "     'descr': 'Planewave tiny pc',\n",
       "     'switch': 'spec',\n",
       "     'port': 2}}}},\n",
       " Exception(\"Failed routing message to consumer 'lvmieb'.\"),\n",
       " Exception(\"Failed routing message to consumer 'lvmecp'.\"),\n",
       " Exception(\"Failed routing message to consumer 'lvmscp'.\")]"
      ]
     },
     "execution_count": 18,
     "metadata": {},
     "output_type": "execute_result"
    }
   ],
   "source": [
    "await invoke(lvm.sci.foc.status(), lvm.sci.km.status(), lvm.sci.ag.status(), lvm.sci.agc.status(), lvm.sci.pwi.status(),\n",
    "             lvm.skyw.foc.status(), lvm.skyw.km.status(), lvm.skyw.ag.status(), lvm.skyw.agc.status(), lvm.skyw.pwi.status(),\n",
    "             lvm.skye.foc.status(), lvm.skye.km.status(), lvm.skye.ag.status(), lvm.skye.agc.status(), lvm.skye.pwi.status(),\n",
    "             lvm.spec.foc.status(), lvm.spec.fibsel.status(), lvm.spec.ag.status(), lvm.spec.agc.status(), lvm.spec.pwi.status(),\n",
    "             lvm.nps.status(), lvm.ieb.ping(), lvm.ecp.ping(), lvm.scp.ping(),\n",
    "             return_exceptions=True)"
   ]
  },
  {
   "cell_type": "code",
   "execution_count": null,
   "id": "6c172056-3e9f-4d97-942f-b21c0206c0f3",
   "metadata": {},
   "outputs": [],
   "source": []
  }
 ],
 "metadata": {
  "kernelspec": {
   "display_name": "Python 3 (ipykernel)",
   "language": "python",
   "name": "python3"
  },
  "language_info": {
   "codemirror_mode": {
    "name": "ipython",
    "version": 3
   },
   "file_extension": ".py",
   "mimetype": "text/x-python",
   "name": "python",
   "nbconvert_exporter": "python",
   "pygments_lexer": "ipython3",
   "version": "3.10.9"
  }
 },
 "nbformat": 4,
 "nbformat_minor": 5
}
