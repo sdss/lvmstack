{
 "cells": [
  {
   "cell_type": "code",
   "execution_count": null,
   "id": "9643d008-245b-4ffb-90b2-757fe3b8082b",
   "metadata": {
    "tags": []
   },
   "outputs": [],
   "source": [
    "from cluplus.proxy import Proxy\n",
    "\n",
    "# low level command\n",
    "foc_skye = await Proxy(\"lvm.skye.foc\").start()\n",
    "    \n",
    "await foc_skye.status()"
   ]
  },
  {
   "cell_type": "code",
   "execution_count": null,
   "id": "57212dea-7a93-4c63-9a96-a59886f418a8",
   "metadata": {
    "tags": []
   },
   "outputs": [],
   "source": [
    "from lvmtipo.actors import lvm\n",
    "\n",
    "await lvm.sci.foc.start()\n",
    "await lvm.sci.foc.status()\n"
   ]
  },
  {
   "cell_type": "code",
   "execution_count": null,
   "id": "4cc21b3f-8589-4ba3-8f4e-567c31bba72f",
   "metadata": {
    "tags": []
   },
   "outputs": [],
   "source": [
    "await lvm.sci.foc.moveRelative(-1, \"DT\")"
   ]
  },
  {
   "cell_type": "code",
   "execution_count": null,
   "id": "7578da99-4827-4d93-af9e-b6fd1977f084",
   "metadata": {
    "tags": []
   },
   "outputs": [],
   "source": [
    "reachable, position = (await lvm.sci.foc.status()).flatten().unpack('Reachable', 'DeviceEncoder.Position')\n",
    "\n",
    "print(f\"reachable: {reachable}, position: {position}\")\n"
   ]
  },
  {
   "cell_type": "code",
   "execution_count": null,
   "id": "56037111-6cd7-40aa-8072-0994dabdf4c6",
   "metadata": {
    "tags": []
   },
   "outputs": [],
   "source": [
    "from lvmtipo.actors import lvm\n",
    "\n",
    "# connect to every telescope actors individually.\n",
    "await lvm.sci.ag.start()\n",
    "await lvm.sci.agc.start()\n",
    "await lvm.sci.pwi.start()\n",
    "await lvm.sci.km.start()\n",
    "await lvm.sci.foc.start()\n",
    "\n",
    "# connect to all telescope actors\n",
    "await lvm.skyw.start()\n",
    "await lvm.skye.start()\n",
    "await lvm.spec.start()\n",
    "\n",
    "# connect to other not fully compliant actors\n",
    "await lvm.nps.start()\n",
    "await lvm.ieb.start()\n",
    "await lvm.ecp.start()\n",
    "await lvm.scp.start()\n"
   ]
  },
  {
   "cell_type": "code",
   "execution_count": null,
   "id": "25c1b0a7-869d-4ba5-8a3d-728db2cba962",
   "metadata": {
    "tags": []
   },
   "outputs": [],
   "source": [
    "try:\n",
    "    await lvm.ieb.ping()\n",
    "\n",
    "except Exception as e:\n",
    "    print(e)\n",
    "  "
   ]
  },
  {
   "cell_type": "code",
   "execution_count": null,
   "id": "be3fcfd5-fc73-4b47-bd3d-8880a294c4a7",
   "metadata": {
    "tags": []
   },
   "outputs": [],
   "source": [
    "from pprint import pprint\n",
    "from cluplus.proxy import invoke\n",
    "\n",
    "try:\n",
    "    await invoke(lvm.sci.foc.status(), lvm.sci.km.status(), lvm.sci.ag.status(), lvm.sci.agc.status(), lvm.sci.pwi.status(),\n",
    "                 lvm.skyw.foc.status(), lvm.skyw.km.status(), lvm.skyw.ag.status(), lvm.skyw.agc.status(), lvm.skyw.pwi.status(),\n",
    "                 lvm.skye.foc.status(), lvm.skye.km.status(), lvm.skye.ag.status(), lvm.skye.agc.status(), lvm.skye.pwi.status(),\n",
    "                 lvm.spec.foc.status(), lvm.spec.fibsel.status(), lvm.spec.ag.status(), lvm.spec.agc.status(), lvm.spec.pwi.status(),\n",
    "                 lvm.nps.status(), lvm.ieb.ping(), lvm.ecp.ping(), lvm.scp.ping())\n",
    "\n",
    "except Exception as e:\n",
    "    pprint(e.args)\n"
   ]
  },
  {
   "cell_type": "code",
   "execution_count": null,
   "id": "d3526c16-283e-4ee7-8e14-d6c5c366ac9a",
   "metadata": {
    "tags": []
   },
   "outputs": [],
   "source": [
    "rc=await invoke(lvm.sci.foc.status(), lvm.sci.km.status(), lvm.sci.ag.status(), lvm.sci.agc.status(), lvm.sci.pwi.status(),\n",
    "             lvm.skyw.foc.status(), lvm.skyw.km.status(), lvm.skyw.ag.status(), lvm.skyw.agc.status(), lvm.skyw.pwi.status(),\n",
    "             lvm.skye.foc.status(), lvm.skye.km.status(), lvm.skye.ag.status(), lvm.skye.agc.status(), lvm.skye.pwi.status(),\n",
    "             lvm.spec.foc.status(), lvm.spec.fibsel.status(), lvm.spec.ag.status(), lvm.spec.agc.status(), lvm.spec.pwi.status(),\n",
    "             lvm.nps.status(), lvm.ieb.ping(), lvm.ecp.ping(), lvm.scp.ping(),\n",
    "             return_exceptions=True)\n",
    "pprint(rc)"
   ]
  },
  {
   "cell_type": "code",
   "execution_count": null,
   "id": "c1961a21-a4e4-4fbd-9c92-6e9022647384",
   "metadata": {
    "tags": []
   },
   "outputs": [],
   "source": [
    "pprint(rc.with_actors())"
   ]
  }
 ],
 "metadata": {
  "kernelspec": {
   "display_name": "Python 3 (ipykernel)",
   "language": "python",
   "name": "python3"
  },
  "language_info": {
   "codemirror_mode": {
    "name": "ipython",
    "version": 3
   },
   "file_extension": ".py",
   "mimetype": "text/x-python",
   "name": "python",
   "nbconvert_exporter": "python",
   "pygments_lexer": "ipython3",
   "version": "3.10.9"
  }
 },
 "nbformat": 4,
 "nbformat_minor": 5
}
