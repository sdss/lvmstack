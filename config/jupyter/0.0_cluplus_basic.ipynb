{
 "cells": [
  {
   "cell_type": "code",
   "execution_count": 1,
   "id": "9643d008-245b-4ffb-90b2-757fe3b8082b",
   "metadata": {},
   "outputs": [
    {
     "data": {
      "text/plain": [
       "{'Reachable': True,\n",
       " 'AtHome': True,\n",
       " 'Moving': False,\n",
       " 'PositionSwitchStatus': 254,\n",
       " 'Position': 0.0,\n",
       " 'DeviceEncoder': {'Position': 0.0, 'Unit': 'STEPS'},\n",
       " 'Velocity': 0.0,\n",
       " 'AtLimit': False}"
      ]
     },
     "execution_count": 1,
     "metadata": {},
     "output_type": "execute_result"
    }
   ],
   "source": [
    "from cluplus.proxy import Proxy\n",
    "\n",
    "# low level command\n",
    "foc_skye = await Proxy(\"lvm.skye.foc\").start()\n",
    "    \n",
    "await foc_skye.status()"
   ]
  },
  {
   "cell_type": "code",
   "execution_count": 2,
   "id": "57212dea-7a93-4c63-9a96-a59886f418a8",
   "metadata": {},
   "outputs": [
    {
     "data": {
      "text/plain": [
       "{'Reachable': True,\n",
       " 'AtHome': False,\n",
       " 'Moving': False,\n",
       " 'PositionSwitchStatus': 254,\n",
       " 'Position': 100000.0,\n",
       " 'DeviceEncoder': {'Position': 100000.0, 'Unit': 'STEPS'},\n",
       " 'Velocity': 0.0,\n",
       " 'AtLimit': False}"
      ]
     },
     "execution_count": 2,
     "metadata": {},
     "output_type": "execute_result"
    }
   ],
   "source": [
    "from lvmtipo.actors import lvm\n",
    "\n",
    "await lvm.spec.foc.start()\n",
    "await lvm.spec.foc.status()\n"
   ]
  },
  {
   "cell_type": "code",
   "execution_count": 3,
   "id": "4cc21b3f-8589-4ba3-8f4e-567c31bba72f",
   "metadata": {},
   "outputs": [
    {
     "data": {
      "text/plain": [
       "{'Reachable': True,\n",
       " 'AtHome': False,\n",
       " 'Moving': False,\n",
       " 'PositionSwitchStatus': 254,\n",
       " 'Position': 200000.0,\n",
       " 'DeviceEncoder': {'Position': 200000.0, 'Unit': 'STEPS'},\n",
       " 'Velocity': 0.0,\n",
       " 'AtLimit': False}"
      ]
     },
     "execution_count": 3,
     "metadata": {},
     "output_type": "execute_result"
    }
   ],
   "source": [
    "await lvm.spec.foc.moveRelative(100, \"UM\")"
   ]
  },
  {
   "cell_type": "code",
   "execution_count": 4,
   "id": "7578da99-4827-4d93-af9e-b6fd1977f084",
   "metadata": {},
   "outputs": [
    {
     "name": "stdout",
     "output_type": "stream",
     "text": [
      "reachable: True, position: 200000.0\n"
     ]
    }
   ],
   "source": [
    "reachable, position = (await lvm.spec.foc.status()).flatten().unpack('Reachable', 'DeviceEncoder.Position')\n",
    "\n",
    "print(f\"reachable: {reachable}, position: {position}\")\n"
   ]
  },
  {
   "cell_type": "code",
   "execution_count": 5,
   "id": "56037111-6cd7-40aa-8072-0994dabdf4c6",
   "metadata": {},
   "outputs": [
    {
     "name": "stderr",
     "output_type": "stream",
     "text": [
      "\u001b[1;33m[WARNING]: \u001b[0mactor lvmieb currently not reachable.\n",
      "\u001b[1;33m[WARNING]: \u001b[0mactor lvmecp currently not reachable.\n",
      "\u001b[1;33m[WARNING]: \u001b[0mactor lvmscp currently not reachable.\n"
     ]
    },
    {
     "data": {
      "text/plain": [
       "<cluplus.proxy.Proxy at 0x7f6d9872e1a0>"
      ]
     },
     "execution_count": 5,
     "metadata": {},
     "output_type": "execute_result"
    }
   ],
   "source": [
    "from lvmtipo.actors import lvm\n",
    "\n",
    "# connect to every telescope actors individually.\n",
    "await lvm.sci.ag.start()\n",
    "await lvm.sci.agc.start()\n",
    "await lvm.sci.pwi.start()\n",
    "await lvm.sci.km.start()\n",
    "await lvm.sci.foc.start()\n",
    "\n",
    "# connect to all telescope actors\n",
    "await lvm.skyw.start()\n",
    "await lvm.skye.start()\n",
    "await lvm.spec.start()\n",
    "\n",
    "# connect to other not fully compliant actors\n",
    "await lvm.nps.start()\n",
    "await lvm.ieb.start()\n",
    "await lvm.ecp.start()\n",
    "await lvm.scp.start()\n"
   ]
  },
  {
   "cell_type": "code",
   "execution_count": 6,
   "id": "25c1b0a7-869d-4ba5-8a3d-728db2cba962",
   "metadata": {},
   "outputs": [
    {
     "name": "stdout",
     "output_type": "stream",
     "text": [
      "Failed routing message to consumer 'lvmieb'.\n"
     ]
    }
   ],
   "source": [
    "try:\n",
    "    await lvm.ieb.ping()\n",
    "\n",
    "except Exception as e:\n",
    "    print(e)\n",
    "  "
   ]
  },
  {
   "cell_type": "code",
   "execution_count": 7,
   "id": "be3fcfd5-fc73-4b47-bd3d-8880a294c4a7",
   "metadata": {},
   "outputs": [
    {
     "name": "stdout",
     "output_type": "stream",
     "text": [
      "Partial errors: ({'Reachable': True, 'AtHome': False, 'Moving': False, 'PositionSwitchStatus': 254, 'Position': 41.99009873295702, 'DeviceEncoder': {'Position': 995.0493664785099, 'Unit': 'STEPS'}, 'Velocity': 0.0, 'AtLimit': False}, {'Reachable': True, 'AtHome': False, 'Moving': False, 'PositionSwitchStatus': 254, 'Position': 77.17861108989325, 'DeviceEncoder': {'Position': 3819215.0, 'Unit': 'STEPS'}, 'Velocity': 0.0, 'AtLimit': False, 'CurrentTime': 1675944329315562.0, 'Simulate': True, 'SkyPA': 154.35722221797863}, {'state': 'IDLE'}, {'east': {'temperature': 25, 'cooler': nan, 'binning': [1, 1], 'area': [0, 0, 1600.0, 1100.0], 'state': 'online'}, 'center': {'temperature': 25, 'cooler': nan, 'binning': [1, 1], 'area': [0, 0, 3200.0, 2200.0], 'state': 'online'}, 'west': {'temperature': 25, 'cooler': nan, 'binning': [1, 1], 'area': [0, 0, 1600.0, 1100.0], 'state': 'online'}}, {'is_tracking': True, 'is_connected': True, 'is_slewing': False, 'is_enabled': True, 'ra_j2000_hours': 18.4030533822008, 'dec_j2000_degs': -34.3855354520818, 'ra_apparent_hours': 18.4281020148533, 'dec_apparent_degs': -34.3731071445716, 'altitude_degs': 66.9653515911523, 'azimuth_degs': 110.218250098393, 'field_angle_rate_at_target_degs_per_sec': 0.00322634039760051, 'field_angle_here_degs': -83.8582356032642, 'field_angle_at_target_degs': -83.8582355813404, 'axis0': {'dist_to_target_arcsec': -0.00104394434889927, 'is_enabled': True, 'position_degs': 110.218250098393, 'rms_error_arcsec': 0.00104176570595258, 'servo_error_arcsec': 0.0}, 'axis1': {'dist_to_target_arcsec': -0.00374373246593332, 'is_enabled': True, 'position_degs': 66.9653515911523, 'rms_error_arcsec': 0.00373328747187625, 'servo_error_arcsec': 0.0}, 'model': {'filename': '', 'num_points_enabled': 0, 'num_points_total': 0, 'rms_error_arcsec': 0.0}, 'geometry': 0}, {'Reachable': True, 'AtHome': True, 'Moving': False, 'PositionSwitchStatus': 254, 'Position': 0.0, 'DeviceEncoder': {'Position': 0.0, 'Unit': 'STEPS'}, 'Velocity': 0.0, 'AtLimit': False}, {'Reachable': True, 'AtHome': True, 'Moving': False, 'PositionSwitchStatus': 254, 'Position': 0.0, 'DeviceEncoder': {'Position': 0.0, 'Unit': 'STEPS'}, 'Velocity': 0.0, 'AtLimit': False, 'CurrentTime': 1675944329315201.0, 'Simulate': True, 'SkyPA': 0.0}, {'state': 'IDLE'}, {'east': {'temperature': 25, 'cooler': nan, 'binning': [1, 1], 'area': [0, 0, 1600.0, 1100.0], 'state': 'online'}, 'west': {'temperature': 25, 'cooler': nan, 'binning': [1, 1], 'area': [0, 0, 1600.0, 1100.0], 'state': 'online'}}, {'is_tracking': False, 'is_connected': True, 'is_slewing': False, 'is_enabled': True, 'ra_j2000_hours': 16.6198201819169, 'dec_j2000_degs': -73.9856443409806, 'ra_apparent_hours': 16.6665782690048, 'dec_apparent_degs': -74.0275786416657, 'altitude_degs': 45.0, 'azimuth_degs': 180.0, 'field_angle_rate_at_target_degs_per_sec': 0.0, 'field_angle_here_degs': 0.000247838387149369, 'field_angle_at_target_degs': 0.0, 'axis0': {'dist_to_target_arcsec': 0.0, 'is_enabled': True, 'position_degs': 180.0, 'rms_error_arcsec': 0.0, 'servo_error_arcsec': 0.0}, 'axis1': {'dist_to_target_arcsec': 0.0, 'is_enabled': True, 'position_degs': 45.0, 'rms_error_arcsec': 0.0, 'servo_error_arcsec': 0.0}, 'model': {'filename': '', 'num_points_enabled': 0, 'num_points_total': 0, 'rms_error_arcsec': 0.0}, 'geometry': 0}, {'Reachable': True, 'AtHome': True, 'Moving': False, 'PositionSwitchStatus': 254, 'Position': 0.0, 'DeviceEncoder': {'Position': 0.0, 'Unit': 'STEPS'}, 'Velocity': 0.0, 'AtLimit': False}, {'Reachable': True, 'AtHome': True, 'Moving': False, 'PositionSwitchStatus': 254, 'Position': 0.0, 'DeviceEncoder': {'Position': 0.0, 'Unit': 'STEPS'}, 'Velocity': 0.0, 'AtLimit': False, 'CurrentTime': 1675944329308680.0, 'Simulate': True, 'SkyPA': 0.0}, {'state': 'IDLE'}, {'east': {'temperature': 25, 'cooler': nan, 'binning': [1, 1], 'area': [0, 0, 1600.0, 1100.0], 'state': 'online'}, 'west': {'temperature': 25, 'cooler': nan, 'binning': [1, 1], 'area': [0, 0, 1600.0, 1100.0], 'state': 'online'}}, {'is_tracking': False, 'is_connected': True, 'is_slewing': False, 'is_enabled': True, 'ra_j2000_hours': 16.6198176780076, 'dec_j2000_degs': -73.9856442641784, 'ra_apparent_hours': 16.6665757587557, 'dec_apparent_degs': -74.0275786416657, 'altitude_degs': 45.0, 'azimuth_degs': 180.0, 'field_angle_rate_at_target_degs_per_sec': 0.0, 'field_angle_here_degs': 1.55378765740193e-05, 'field_angle_at_target_degs': 0.0, 'axis0': {'dist_to_target_arcsec': 0.0, 'is_enabled': True, 'position_degs': 180.0, 'rms_error_arcsec': 0.0, 'servo_error_arcsec': 0.0}, 'axis1': {'dist_to_target_arcsec': 0.0, 'is_enabled': True, 'position_degs': 45.0, 'rms_error_arcsec': 0.0, 'servo_error_arcsec': 0.0}, 'model': {'filename': '', 'num_points_enabled': 0, 'num_points_total': 0, 'rms_error_arcsec': 0.0}, 'geometry': 0}, {'Reachable': True, 'AtHome': False, 'Moving': False, 'PositionSwitchStatus': 254, 'Position': 200000.0, 'DeviceEncoder': {'Position': 200000.0, 'Unit': 'STEPS'}, 'Velocity': 0.0, 'AtLimit': False}, {'Reachable': True, 'AtHome': True, 'Moving': False, 'PositionSwitchStatus': 255, 'Position': 0.0, 'DeviceEncoder': {'Position': 0.0, 'Unit': 'STEPS'}, 'Velocity': 0.0}, {'state': 'IDLE'}, {'center': {'temperature': 25, 'cooler': nan, 'binning': [1, 1], 'area': [0, 0, 1600.0, 1100.0], 'state': 'online'}}, {'is_tracking': False, 'is_connected': True, 'is_slewing': False, 'is_enabled': True, 'ra_j2000_hours': 16.6198649169431, 'dec_j2000_degs': -73.9856457131367, 'ra_apparent_hours': 16.6666231172954, 'dec_apparent_degs': -74.0275786416657, 'altitude_degs': 45.0, 'azimuth_degs': 180.0, 'field_angle_rate_at_target_degs_per_sec': 0.0, 'field_angle_here_degs': 2.05703889996177e-05, 'field_angle_at_target_degs': 0.0, 'axis0': {'dist_to_target_arcsec': 0.0, 'is_enabled': True, 'position_degs': 180.0, 'rms_error_arcsec': 0.0, 'servo_error_arcsec': 0.0}, 'axis1': {'dist_to_target_arcsec': 0.0, 'is_enabled': True, 'position_degs': 45.0, 'rms_error_arcsec': 0.0, 'servo_error_arcsec': 0.0}, 'model': {'filename': '', 'num_points_enabled': 0, 'num_points_total': 0, 'rms_error_arcsec': 0.0}, 'geometry': 0}, {'status': {'cab': {'cab.mocon': {'state': 0, 'descr': 'Mocon motor controller', 'switch': 'cab', 'port': 1}}, 'sci': {'sci.pwi': {'state': 0, 'descr': 'Planewave mount', 'switch': 'sci', 'port': 1}, 'sci.tpc': {'state': 0, 'descr': 'Planewave tiny pc', 'switch': 'sci', 'port': 2}}, 'skye': {'skye.pwi': {'state': 0, 'descr': 'Planewave mount', 'switch': 'skye', 'port': 1}, 'skye.tpc': {'state': 0, 'descr': 'Planewave tiny pc', 'switch': 'skye', 'port': 2}}, 'skyw': {'skyw.pwi': {'state': 0, 'descr': 'Planewave mount', 'switch': 'skyw', 'port': 1}, 'skyw.tpc': {'state': 0, 'descr': 'Planewave tiny pc', 'switch': 'skyw', 'port': 2}}, 'spec': {'spec.pwi': {'state': 0, 'descr': 'Planewave mount', 'switch': 'spec', 'port': 1}, 'spec.tpc': {'state': 0, 'descr': 'Planewave tiny pc', 'switch': 'spec', 'port': 2}}}}, Exception(\"Failed routing message to consumer 'lvmieb'.\"), Exception(\"Failed routing message to consumer 'lvmecp'.\"), Exception(\"Failed routing message to consumer 'lvmscp'.\"))\n"
     ]
    }
   ],
   "source": [
    "from cluplus.proxy import invoke\n",
    "\n",
    "try:\n",
    "    await invoke(lvm.sci.foc.status(), lvm.sci.km.status(), lvm.sci.ag.status(), lvm.sci.agc.status(), lvm.sci.pwi.status(),\n",
    "                 lvm.skyw.foc.status(), lvm.skyw.km.status(), lvm.skyw.ag.status(), lvm.skyw.agc.status(), lvm.skyw.pwi.status(),\n",
    "                 lvm.skye.foc.status(), lvm.skye.km.status(), lvm.skye.ag.status(), lvm.skye.agc.status(), lvm.skye.pwi.status(),\n",
    "                 lvm.spec.foc.status(), lvm.spec.fibsel.status(), lvm.spec.ag.status(), lvm.spec.agc.status(), lvm.spec.pwi.status(),\n",
    "                 lvm.nps.status(), lvm.ieb.ping(), lvm.ecp.ping(), lvm.scp.ping())\n",
    "\n",
    "except Exception as e:\n",
    "    print(f\"Partial errors: {e.args}\")\n"
   ]
  },
  {
   "cell_type": "code",
   "execution_count": 8,
   "id": "d3526c16-283e-4ee7-8e14-d6c5c366ac9a",
   "metadata": {},
   "outputs": [
    {
     "data": {
      "text/plain": [
       "[{'Reachable': True,\n",
       "  'AtHome': False,\n",
       "  'Moving': False,\n",
       "  'PositionSwitchStatus': 254,\n",
       "  'Position': 41.99009873295702,\n",
       "  'DeviceEncoder': {'Position': 995.0493664785099, 'Unit': 'STEPS'},\n",
       "  'Velocity': 0.0,\n",
       "  'AtLimit': False},\n",
       " {'Reachable': True,\n",
       "  'AtHome': False,\n",
       "  'Moving': False,\n",
       "  'PositionSwitchStatus': 254,\n",
       "  'Position': 77.17583331211574,\n",
       "  'DeviceEncoder': {'Position': 3819165.0, 'Unit': 'STEPS'},\n",
       "  'Velocity': 0.0,\n",
       "  'AtLimit': False,\n",
       "  'CurrentTime': 1675944330920994.0,\n",
       "  'Simulate': True,\n",
       "  'SkyPA': 154.35166666242316},\n",
       " {'state': 'IDLE'},\n",
       " {'east': {'temperature': 25,\n",
       "   'cooler': nan,\n",
       "   'binning': [1, 1],\n",
       "   'area': [0, 0, 1600.0, 1100.0],\n",
       "   'state': 'online'},\n",
       "  'center': {'temperature': 25,\n",
       "   'cooler': nan,\n",
       "   'binning': [1, 1],\n",
       "   'area': [0, 0, 3200.0, 2200.0],\n",
       "   'state': 'online'},\n",
       "  'west': {'temperature': 25,\n",
       "   'cooler': nan,\n",
       "   'binning': [1, 1],\n",
       "   'area': [0, 0, 1600.0, 1100.0],\n",
       "   'state': 'online'}},\n",
       " {'is_tracking': True,\n",
       "  'is_connected': True,\n",
       "  'is_slewing': False,\n",
       "  'is_enabled': True,\n",
       "  'ra_j2000_hours': 18.4030532330489,\n",
       "  'dec_j2000_degs': -34.3855354428665,\n",
       "  'ra_apparent_hours': 18.428101865828,\n",
       "  'dec_apparent_degs': -34.3731071401006,\n",
       "  'altitude_degs': 66.9685375255603,\n",
       "  'azimuth_degs': 110.219126509534,\n",
       "  'field_angle_rate_at_target_degs_per_sec': 0.00322690449874326,\n",
       "  'field_angle_here_degs': -83.8552428422049,\n",
       "  'field_angle_at_target_degs': -83.8552445353967,\n",
       "  'axis0': {'dist_to_target_arcsec': 0.000171059975988652,\n",
       "   'is_enabled': True,\n",
       "   'position_degs': 110.219383306573,\n",
       "   'rms_error_arcsec': 0.00121890373691021,\n",
       "   'servo_error_arcsec': 0.0},\n",
       "  'axis1': {'dist_to_target_arcsec': 0.000772839201005415,\n",
       "   'is_enabled': True,\n",
       "   'position_degs': 66.9694706754449,\n",
       "   'rms_error_arcsec': 0.00450926942402179,\n",
       "   'servo_error_arcsec': 0.0},\n",
       "  'model': {'filename': '',\n",
       "   'num_points_enabled': 0,\n",
       "   'num_points_total': 0,\n",
       "   'rms_error_arcsec': 0.0},\n",
       "  'geometry': 0},\n",
       " {'Reachable': True,\n",
       "  'AtHome': True,\n",
       "  'Moving': False,\n",
       "  'PositionSwitchStatus': 254,\n",
       "  'Position': 0.0,\n",
       "  'DeviceEncoder': {'Position': 0.0, 'Unit': 'STEPS'},\n",
       "  'Velocity': 0.0,\n",
       "  'AtLimit': False},\n",
       " {'Reachable': True,\n",
       "  'AtHome': True,\n",
       "  'Moving': False,\n",
       "  'PositionSwitchStatus': 254,\n",
       "  'Position': 0.0,\n",
       "  'DeviceEncoder': {'Position': 0.0, 'Unit': 'STEPS'},\n",
       "  'Velocity': 0.0,\n",
       "  'AtLimit': False,\n",
       "  'CurrentTime': 1675944330915998.0,\n",
       "  'Simulate': True,\n",
       "  'SkyPA': 0.0},\n",
       " {'state': 'IDLE'},\n",
       " {'east': {'temperature': 25,\n",
       "   'cooler': nan,\n",
       "   'binning': [1, 1],\n",
       "   'area': [0, 0, 1600.0, 1100.0],\n",
       "   'state': 'online'},\n",
       "  'west': {'temperature': 25,\n",
       "   'cooler': nan,\n",
       "   'binning': [1, 1],\n",
       "   'area': [0, 0, 1600.0, 1100.0],\n",
       "   'state': 'online'}},\n",
       " {'is_tracking': False,\n",
       "  'is_connected': True,\n",
       "  'is_slewing': False,\n",
       "  'is_enabled': True,\n",
       "  'ra_j2000_hours': 16.6201952542625,\n",
       "  'dec_j2000_degs': -73.9856558457377,\n",
       "  'ra_apparent_hours': 16.666954290879,\n",
       "  'dec_apparent_degs': -74.0275786416657,\n",
       "  'altitude_degs': 45.0,\n",
       "  'azimuth_degs': 180.0,\n",
       "  'field_angle_rate_at_target_degs_per_sec': 0.0,\n",
       "  'field_angle_here_degs': 7.34310635541602e-08,\n",
       "  'field_angle_at_target_degs': 0.0,\n",
       "  'axis0': {'dist_to_target_arcsec': 0.0,\n",
       "   'is_enabled': True,\n",
       "   'position_degs': 180.0,\n",
       "   'rms_error_arcsec': 0.0,\n",
       "   'servo_error_arcsec': 0.0},\n",
       "  'axis1': {'dist_to_target_arcsec': 0.0,\n",
       "   'is_enabled': True,\n",
       "   'position_degs': 45.0,\n",
       "   'rms_error_arcsec': 0.0,\n",
       "   'servo_error_arcsec': 0.0},\n",
       "  'model': {'filename': '',\n",
       "   'num_points_enabled': 0,\n",
       "   'num_points_total': 0,\n",
       "   'rms_error_arcsec': 0.0},\n",
       "  'geometry': 0},\n",
       " {'Reachable': True,\n",
       "  'AtHome': True,\n",
       "  'Moving': False,\n",
       "  'PositionSwitchStatus': 254,\n",
       "  'Position': 0.0,\n",
       "  'DeviceEncoder': {'Position': 0.0, 'Unit': 'STEPS'},\n",
       "  'Velocity': 0.0,\n",
       "  'AtLimit': False},\n",
       " {'Reachable': True,\n",
       "  'AtHome': True,\n",
       "  'Moving': False,\n",
       "  'PositionSwitchStatus': 254,\n",
       "  'Position': 0.0,\n",
       "  'DeviceEncoder': {'Position': 0.0, 'Unit': 'STEPS'},\n",
       "  'Velocity': 0.0,\n",
       "  'AtLimit': False,\n",
       "  'CurrentTime': 1675944331213516.0,\n",
       "  'Simulate': True,\n",
       "  'SkyPA': 0.0},\n",
       " {'state': 'IDLE'},\n",
       " {'east': {'temperature': 25,\n",
       "   'cooler': nan,\n",
       "   'binning': [1, 1],\n",
       "   'area': [0, 0, 1600.0, 1100.0],\n",
       "   'state': 'online'},\n",
       "  'west': {'temperature': 25,\n",
       "   'cooler': nan,\n",
       "   'binning': [1, 1],\n",
       "   'area': [0, 0, 1600.0, 1100.0],\n",
       "   'state': 'online'}},\n",
       " {'is_tracking': False,\n",
       "  'is_connected': True,\n",
       "  'is_slewing': False,\n",
       "  'is_enabled': True,\n",
       "  'ra_j2000_hours': 16.6201671970446,\n",
       "  'dec_j2000_degs': -73.9856549851127,\n",
       "  'ra_apparent_hours': 16.6669261626408,\n",
       "  'dec_apparent_degs': -74.0275786416657,\n",
       "  'altitude_degs': 45.0,\n",
       "  'azimuth_degs': 180.0,\n",
       "  'field_angle_rate_at_target_degs_per_sec': 0.0,\n",
       "  'field_angle_here_degs': -7.06234860796498e-08,\n",
       "  'field_angle_at_target_degs': 0.0,\n",
       "  'axis0': {'dist_to_target_arcsec': 0.0,\n",
       "   'is_enabled': True,\n",
       "   'position_degs': 180.0,\n",
       "   'rms_error_arcsec': 0.0,\n",
       "   'servo_error_arcsec': 0.0},\n",
       "  'axis1': {'dist_to_target_arcsec': 0.0,\n",
       "   'is_enabled': True,\n",
       "   'position_degs': 45.0,\n",
       "   'rms_error_arcsec': 0.0,\n",
       "   'servo_error_arcsec': 0.0},\n",
       "  'model': {'filename': '',\n",
       "   'num_points_enabled': 0,\n",
       "   'num_points_total': 0,\n",
       "   'rms_error_arcsec': 0.0},\n",
       "  'geometry': 0},\n",
       " {'Reachable': True,\n",
       "  'AtHome': False,\n",
       "  'Moving': False,\n",
       "  'PositionSwitchStatus': 254,\n",
       "  'Position': 200000.0,\n",
       "  'DeviceEncoder': {'Position': 200000.0, 'Unit': 'STEPS'},\n",
       "  'Velocity': 0.0,\n",
       "  'AtLimit': False},\n",
       " {'Reachable': True,\n",
       "  'AtHome': True,\n",
       "  'Moving': False,\n",
       "  'PositionSwitchStatus': 255,\n",
       "  'Position': 0.0,\n",
       "  'DeviceEncoder': {'Position': 0.0, 'Unit': 'STEPS'},\n",
       "  'Velocity': 0.0},\n",
       " {'state': 'IDLE'},\n",
       " {'center': {'temperature': 25,\n",
       "   'cooler': nan,\n",
       "   'binning': [1, 1],\n",
       "   'area': [0, 0, 1600.0, 1100.0],\n",
       "   'state': 'online'}},\n",
       " {'is_tracking': False,\n",
       "  'is_connected': True,\n",
       "  'is_slewing': False,\n",
       "  'is_enabled': True,\n",
       "  'ra_j2000_hours': 16.6200927392317,\n",
       "  'dec_j2000_degs': -73.9856527012102,\n",
       "  'ra_apparent_hours': 16.6668515163484,\n",
       "  'dec_apparent_degs': -74.0275786416657,\n",
       "  'altitude_degs': 45.0,\n",
       "  'azimuth_degs': 180.0,\n",
       "  'field_angle_rate_at_target_degs_per_sec': 0.0,\n",
       "  'field_angle_here_degs': 2.57806326169545e-05,\n",
       "  'field_angle_at_target_degs': 0.0,\n",
       "  'axis0': {'dist_to_target_arcsec': 0.0,\n",
       "   'is_enabled': True,\n",
       "   'position_degs': 180.0,\n",
       "   'rms_error_arcsec': 0.0,\n",
       "   'servo_error_arcsec': 0.0},\n",
       "  'axis1': {'dist_to_target_arcsec': 0.0,\n",
       "   'is_enabled': True,\n",
       "   'position_degs': 45.0,\n",
       "   'rms_error_arcsec': 0.0,\n",
       "   'servo_error_arcsec': 0.0},\n",
       "  'model': {'filename': '',\n",
       "   'num_points_enabled': 0,\n",
       "   'num_points_total': 0,\n",
       "   'rms_error_arcsec': 0.0},\n",
       "  'geometry': 0},\n",
       " {'status': {'cab': {'cab.mocon': {'state': 0,\n",
       "     'descr': 'Mocon motor controller',\n",
       "     'switch': 'cab',\n",
       "     'port': 1}},\n",
       "   'sci': {'sci.pwi': {'state': 0,\n",
       "     'descr': 'Planewave mount',\n",
       "     'switch': 'sci',\n",
       "     'port': 1},\n",
       "    'sci.tpc': {'state': 0,\n",
       "     'descr': 'Planewave tiny pc',\n",
       "     'switch': 'sci',\n",
       "     'port': 2}},\n",
       "   'skye': {'skye.pwi': {'state': 0,\n",
       "     'descr': 'Planewave mount',\n",
       "     'switch': 'skye',\n",
       "     'port': 1},\n",
       "    'skye.tpc': {'state': 0,\n",
       "     'descr': 'Planewave tiny pc',\n",
       "     'switch': 'skye',\n",
       "     'port': 2}},\n",
       "   'skyw': {'skyw.pwi': {'state': 0,\n",
       "     'descr': 'Planewave mount',\n",
       "     'switch': 'skyw',\n",
       "     'port': 1},\n",
       "    'skyw.tpc': {'state': 0,\n",
       "     'descr': 'Planewave tiny pc',\n",
       "     'switch': 'skyw',\n",
       "     'port': 2}},\n",
       "   'spec': {'spec.pwi': {'state': 0,\n",
       "     'descr': 'Planewave mount',\n",
       "     'switch': 'spec',\n",
       "     'port': 1},\n",
       "    'spec.tpc': {'state': 0,\n",
       "     'descr': 'Planewave tiny pc',\n",
       "     'switch': 'spec',\n",
       "     'port': 2}}}},\n",
       " Exception(\"Failed routing message to consumer 'lvmieb'.\"),\n",
       " Exception(\"Failed routing message to consumer 'lvmecp'.\"),\n",
       " Exception(\"Failed routing message to consumer 'lvmscp'.\")]"
      ]
     },
     "execution_count": 8,
     "metadata": {},
     "output_type": "execute_result"
    }
   ],
   "source": [
    "await invoke(lvm.sci.foc.status(), lvm.sci.km.status(), lvm.sci.ag.status(), lvm.sci.agc.status(), lvm.sci.pwi.status(),\n",
    "             lvm.skyw.foc.status(), lvm.skyw.km.status(), lvm.skyw.ag.status(), lvm.skyw.agc.status(), lvm.skyw.pwi.status(),\n",
    "             lvm.skye.foc.status(), lvm.skye.km.status(), lvm.skye.ag.status(), lvm.skye.agc.status(), lvm.skye.pwi.status(),\n",
    "             lvm.spec.foc.status(), lvm.spec.fibsel.status(), lvm.spec.ag.status(), lvm.spec.agc.status(), lvm.spec.pwi.status(),\n",
    "             lvm.nps.status(), lvm.ieb.ping(), lvm.ecp.ping(), lvm.scp.ping(),\n",
    "             return_exceptions=True)"
   ]
  },
  {
   "cell_type": "code",
   "execution_count": null,
   "id": "6c172056-3e9f-4d97-942f-b21c0206c0f3",
   "metadata": {},
   "outputs": [],
   "source": []
  }
 ],
 "metadata": {
  "kernelspec": {
   "display_name": "Python 3 (ipykernel)",
   "language": "python",
   "name": "python3"
  },
  "language_info": {
   "codemirror_mode": {
    "name": "ipython",
    "version": 3
   },
   "file_extension": ".py",
   "mimetype": "text/x-python",
   "name": "python",
   "nbconvert_exporter": "python",
   "pygments_lexer": "ipython3",
   "version": "3.10.8"
  }
 },
 "nbformat": 4,
 "nbformat_minor": 5
}
