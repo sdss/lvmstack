{
 "cells": [
  {
   "cell_type": "code",
   "execution_count": 1,
   "id": "5a801967-96a9-40bd-b810-62ecfc8a1a5a",
   "metadata": {},
   "outputs": [
    {
     "data": {
      "text/plain": [
       "{'is_connected': True}"
      ]
     },
     "execution_count": 1,
     "metadata": {},
     "output_type": "execute_result"
    }
   ],
   "source": [
    "from logging import DEBUG\n",
    "\n",
    "from astropy.coordinates import SkyCoord, Angle\n",
    "\n",
    "from lvmtipo.actors import lvm\n",
    "from lvm.tel.aquisition import aquisition\n",
    "\n",
    "tssn=\"sci\"\n",
    "\n",
    "telsubsys = await lvm.from_string(tssn).start()\n",
    "await telsubsys.pwi.setConnected(True, statusTick = 1.0)\n"
   ]
  },
  {
   "cell_type": "code",
   "execution_count": null,
   "id": "bc924b2b-a0f7-4fa2-a682-f5822d2f24c1",
   "metadata": {},
   "outputs": [],
   "source": [
    "ra = Angle('13 47 hours')\n",
    "dec = Angle('49 18 deg')\n",
    "exptime = 3.0 \n",
    "\n",
    "if (await lvm.sci.ag.status()).unpack() != \"IDLE\": await lvm.sci.ag.guideStop()\n",
    "\n",
    "await aquisition(telsubsys, ra, dec, exptime, DEBUG)\n"
   ]
  },
  {
   "cell_type": "code",
   "execution_count": null,
   "id": "5ae0e8bd-599b-4865-b3f5-961b454fd8be",
   "metadata": {},
   "outputs": [],
   "source": []
  },
  {
   "cell_type": "code",
   "execution_count": 8,
   "id": "f3ec0bbd-88b3-43c5-9e8e-a3c3e796b5c0",
   "metadata": {},
   "outputs": [
    {
     "data": {
      "text/plain": [
       "{'state': 'PAUSE'}"
      ]
     },
     "execution_count": 8,
     "metadata": {},
     "output_type": "execute_result"
    }
   ],
   "source": [
    "await lvm.sci.ag.guideStart(pause=True, force=True)"
   ]
  },
  {
   "cell_type": "code",
   "execution_count": null,
   "id": "b99c6a90-380d-4bbb-a4cf-44140b64d515",
   "metadata": {},
   "outputs": [],
   "source": [
    "await lvm.sci.agc.reconnect()"
   ]
  },
  {
   "cell_type": "code",
   "execution_count": 10,
   "id": "37e55202-05fc-4f23-bdcb-1ad0a170b34d",
   "metadata": {},
   "outputs": [
    {
     "data": {
      "text/plain": [
       "{'is_tracking': True,\n",
       " 'is_connected': True,\n",
       " 'is_slewing': False,\n",
       " 'is_enabled': True,\n",
       " 'ra_j2000_hours': 14.8453935032228,\n",
       " 'dec_j2000_degs': 74.155602084783,\n",
       " 'ra_apparent_hours': 14.8437312271884,\n",
       " 'dec_apparent_degs': 74.062369286576,\n",
       " 'altitude_degs': 34.7049289863994,\n",
       " 'azimuth_degs': 351.65572326028,\n",
       " 'field_angle_rate_at_target_degs_per_sec': -0.00532491941905666,\n",
       " 'field_angle_at_target_degs': 34.7828493712971,\n",
       " 'field_angle_here_degs': 34.7866076363693,\n",
       " 'axis0': {'dist_to_target_arcsec': -0.265417128697663,\n",
       "  'is_enabled': True,\n",
       "  'position_degs': 88.1961673728814,\n",
       "  'rms_error_arcsec': 0.161490285544895,\n",
       "  'servo_error_arcsec': 0.274576271186441},\n",
       " 'axis1': {'dist_to_target_arcsec': 0.0444990412094556,\n",
       "  'is_enabled': True,\n",
       "  'position_degs': -25.3386991525424,\n",
       "  'rms_error_arcsec': 0.0570740955556744,\n",
       "  'servo_error_arcsec': -0.0686440677966102}}"
      ]
     },
     "execution_count": 10,
     "metadata": {},
     "output_type": "execute_result"
    }
   ],
   "source": [
    "ra_off_d = -10\n",
    "dec_off_d = 0\n",
    "\n",
    "await lvm.sci.pwi.offset(ra_add_arcsec = ra_off_d, dec_add_arcsec = dec_off_d)\n"
   ]
  },
  {
   "cell_type": "code",
   "execution_count": 58,
   "id": "9c6bf068-df93-483f-baf8-2f71085fadcc",
   "metadata": {},
   "outputs": [
    {
     "ename": "WrongStateTypeException",
     "evalue": "",
     "output_type": "error",
     "traceback": [
      "\u001b[0;31m---------------------------------------------------------------------------\u001b[0m",
      "\u001b[0;31mWrongStateTypeException\u001b[0m                   Traceback (most recent call last)",
      "Cell \u001b[0;32mIn [58], line 1\u001b[0m\n\u001b[0;32m----> 1\u001b[0m \u001b[38;5;28;01mawait\u001b[39;00m lvm\u001b[38;5;241m.\u001b[39msci\u001b[38;5;241m.\u001b[39mag\u001b[38;5;241m.\u001b[39mguidePause(\u001b[38;5;28;01mFalse\u001b[39;00m)\n",
      "File \u001b[0;32m/opt/conda/lib/python3.10/site-packages/cluplus/proxy.py:164\u001b[0m, in \u001b[0;36mProxy.call_command\u001b[0;34m(self, command, callback, time_limit, nowait, object_hook, *args, **kwargs)\u001b[0m\n\u001b[1;32m    161\u001b[0m ret \u001b[38;5;241m=\u001b[39m \u001b[38;5;28;01mawait\u001b[39;00m fu\n\u001b[1;32m    163\u001b[0m \u001b[38;5;28;01mif\u001b[39;00m \u001b[38;5;28mhasattr\u001b[39m(ret, \u001b[38;5;124m\"\u001b[39m\u001b[38;5;124mstatus\u001b[39m\u001b[38;5;124m\"\u001b[39m) \u001b[38;5;129;01mand\u001b[39;00m ret\u001b[38;5;241m.\u001b[39mstatus\u001b[38;5;241m.\u001b[39mdid_fail:\n\u001b[0;32m--> 164\u001b[0m     \u001b[38;5;28;01mraise\u001b[39;00m \u001b[38;5;28mself\u001b[39m\u001b[38;5;241m.\u001b[39m_errorMapToException(ret\u001b[38;5;241m.\u001b[39mreplies[\u001b[38;5;241m-\u001b[39m\u001b[38;5;241m1\u001b[39m]\u001b[38;5;241m.\u001b[39mmessage[\u001b[38;5;124m'\u001b[39m\u001b[38;5;124merror\u001b[39m\u001b[38;5;124m'\u001b[39m])\n\u001b[1;32m    166\u001b[0m \u001b[38;5;28;01mreturn\u001b[39;00m ProxyDict(ret\u001b[38;5;241m.\u001b[39mreplies[\u001b[38;5;241m-\u001b[39m\u001b[38;5;241m1\u001b[39m]\u001b[38;5;241m.\u001b[39mmessage)\n",
      "\u001b[0;31mWrongStateTypeException\u001b[0m: "
     ]
    }
   ],
   "source": [
    "await lvm.sci.ag.guidePause(False)"
   ]
  },
  {
   "cell_type": "code",
   "execution_count": 55,
   "id": "65f469d0-9d11-419f-a815-ca4e245f2652",
   "metadata": {},
   "outputs": [
    {
     "ename": "WrongStateTypeException",
     "evalue": "",
     "output_type": "error",
     "traceback": [
      "\u001b[0;31m---------------------------------------------------------------------------\u001b[0m",
      "\u001b[0;31mWrongStateTypeException\u001b[0m                   Traceback (most recent call last)",
      "Cell \u001b[0;32mIn [55], line 1\u001b[0m\n\u001b[0;32m----> 1\u001b[0m \u001b[38;5;28;01mawait\u001b[39;00m lvm\u001b[38;5;241m.\u001b[39msci\u001b[38;5;241m.\u001b[39mag\u001b[38;5;241m.\u001b[39mguidePause(\u001b[38;5;28;01mTrue\u001b[39;00m)\n",
      "File \u001b[0;32m/opt/conda/lib/python3.10/site-packages/cluplus/proxy.py:164\u001b[0m, in \u001b[0;36mProxy.call_command\u001b[0;34m(self, command, callback, time_limit, nowait, object_hook, *args, **kwargs)\u001b[0m\n\u001b[1;32m    161\u001b[0m ret \u001b[38;5;241m=\u001b[39m \u001b[38;5;28;01mawait\u001b[39;00m fu\n\u001b[1;32m    163\u001b[0m \u001b[38;5;28;01mif\u001b[39;00m \u001b[38;5;28mhasattr\u001b[39m(ret, \u001b[38;5;124m\"\u001b[39m\u001b[38;5;124mstatus\u001b[39m\u001b[38;5;124m\"\u001b[39m) \u001b[38;5;129;01mand\u001b[39;00m ret\u001b[38;5;241m.\u001b[39mstatus\u001b[38;5;241m.\u001b[39mdid_fail:\n\u001b[0;32m--> 164\u001b[0m     \u001b[38;5;28;01mraise\u001b[39;00m \u001b[38;5;28mself\u001b[39m\u001b[38;5;241m.\u001b[39m_errorMapToException(ret\u001b[38;5;241m.\u001b[39mreplies[\u001b[38;5;241m-\u001b[39m\u001b[38;5;241m1\u001b[39m]\u001b[38;5;241m.\u001b[39mmessage[\u001b[38;5;124m'\u001b[39m\u001b[38;5;124merror\u001b[39m\u001b[38;5;124m'\u001b[39m])\n\u001b[1;32m    166\u001b[0m \u001b[38;5;28;01mreturn\u001b[39;00m ProxyDict(ret\u001b[38;5;241m.\u001b[39mreplies[\u001b[38;5;241m-\u001b[39m\u001b[38;5;241m1\u001b[39m]\u001b[38;5;241m.\u001b[39mmessage)\n",
      "\u001b[0;31mWrongStateTypeException\u001b[0m: "
     ]
    }
   ],
   "source": [
    "await lvm.sci.ag.guidePause(True)"
   ]
  },
  {
   "cell_type": "code",
   "execution_count": 2,
   "id": "7c46a81f-bab5-4bdb-b661-fda24658997f",
   "metadata": {},
   "outputs": [
    {
     "data": {
      "text/plain": [
       "{'state': 'IDLE'}"
      ]
     },
     "execution_count": 2,
     "metadata": {},
     "output_type": "execute_result"
    }
   ],
   "source": [
    "await lvm.sci.ag.status()"
   ]
  },
  {
   "cell_type": "code",
   "execution_count": 11,
   "id": "f1a626d2-6b8d-4ed5-b824-d07032ea3612",
   "metadata": {},
   "outputs": [
    {
     "data": {
      "text/plain": [
       "{'state': 'IDLE'}"
      ]
     },
     "execution_count": 11,
     "metadata": {},
     "output_type": "execute_result"
    }
   ],
   "source": [
    "await lvm.sci.ag.guideStop()"
   ]
  },
  {
   "cell_type": "code",
   "execution_count": null,
   "id": "44f339b8-43a3-4948-b620-9dc56839ed3e",
   "metadata": {},
   "outputs": [],
   "source": [
    "await lvm.sci.km.slewStop()"
   ]
  },
  {
   "cell_type": "code",
   "execution_count": null,
   "id": "1d0dc2b0-c27a-4259-8179-8f393e900fb8",
   "metadata": {},
   "outputs": [],
   "source": [
    "from logging import DEBUG, INFO\n",
    "from sdsstools import get_logger\n",
    "\n",
    "logger = get_logger(\"lvm_tel_aquisition\")\n",
    "logger.sh.setLevel(DEBUG)\n",
    "\n",
    "logger.debug(\"test\")\n"
   ]
  },
  {
   "cell_type": "code",
   "execution_count": null,
   "id": "db966d66-8077-4b91-ad5b-f1dde62a058e",
   "metadata": {},
   "outputs": [],
   "source": [
    "await telsubsys.km.slewStop()\n",
    "await telsubsys.pwi.setConnected(True, statusTick = -1.0)"
   ]
  },
  {
   "cell_type": "code",
   "execution_count": null,
   "id": "e8a04014-3f84-4710-93e6-7983d51c369c",
   "metadata": {},
   "outputs": [],
   "source": [
    "await telsubsys.km.moveRelative(90, \"DEG\")\n",
    "await telsubsys.km.status()"
   ]
  },
  {
   "cell_type": "code",
   "execution_count": null,
   "id": "e7d55b4b-3abb-47a4-8a69-ac045313b922",
   "metadata": {},
   "outputs": [],
   "source": [
    "\n",
    "ra = Angle('16 35 hour')/15\n",
    "dec = Angle('-26 37 deg')\n",
    "            \n",
    "await telsubsys.km.status()\n",
    "await telsubsys.km.slewStart(ra.hour, dec.deg)"
   ]
  }
 ],
 "metadata": {
  "kernelspec": {
   "display_name": "Python 3 (ipykernel)",
   "language": "python",
   "name": "python3"
  },
  "language_info": {
   "codemirror_mode": {
    "name": "ipython",
    "version": 3
   },
   "file_extension": ".py",
   "mimetype": "text/x-python",
   "name": "python",
   "nbconvert_exporter": "python",
   "pygments_lexer": "ipython3",
   "version": "3.10.9"
  }
 },
 "nbformat": 4,
 "nbformat_minor": 5
}
