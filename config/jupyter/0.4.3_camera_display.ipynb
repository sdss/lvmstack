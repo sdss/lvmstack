{
 "cells": [
  {
   "cell_type": "code",
   "execution_count": 12,
   "id": "976d8292-f260-4dc0-9548-0cc452e05e9a",
   "metadata": {
    "tags": []
   },
   "outputs": [],
   "source": [
    "import asyncio\n",
    "\n",
    "import numpy as np\n",
    "import sep\n",
    "import matplotlib.pyplot as plt\n",
    "from matplotlib.colors import LogNorm, PowerNorm\n",
    "from scipy import ndimage\n",
    "from scipy.ndimage import gaussian_filter\n",
    "from scipy.ndimage import median_filter\n",
    "\n",
    "from photutils.datasets import make_100gaussians_image\n",
    "from photutils.background import Background2D, MedianBackground\n",
    "\n",
    "from astropy.convolution import convolve\n",
    "from photutils.segmentation import make_2dgaussian_kernel\n",
    "\n",
    "from lvmagp.images import Image\n",
    "from lvmagp.images.processors.detection import DaophotSourceDetection, SepSourceDetection\n",
    "from lvmagp.images.processors.background import DaophotBackground, SepBackground\n",
    "from lvmagp.focus.focusseries import ProjectionFocusSeries, PhotometryFocusSeries\n"
   ]
  },
  {
   "cell_type": "code",
   "execution_count": 13,
   "id": "6d4ebcdf-89b8-40a7-bdff-3655f2e348c8",
   "metadata": {
    "tags": []
   },
   "outputs": [],
   "source": [
    "%matplotlib widget\n",
    "\n",
    "import numpy as np\n",
    "import matplotlib.pyplot as plt\n",
    "import ipywidgets as wd\n",
    "\n",
    "from astropy.table import QTable\n",
    "from photutils.datasets import make_gaussian_sources_image\n",
    "\n",
    "from astropy.wcs import WCS\n",
    "from astropy.visualization.wcsaxes import WCSAxes\n",
    "from astropy.io import fits\n",
    "\n"
   ]
  },
  {
   "cell_type": "code",
   "execution_count": 14,
   "id": "90a6ac6c-b92a-4709-8393-2ec0b1795d15",
   "metadata": {
    "tags": []
   },
   "outputs": [],
   "source": [
    "from os.path import basename\n",
    "\n",
    "class FitsDisplay:\n",
    "    \n",
    "    def __init__(self):\n",
    "        \n",
    "        self.fig = plt.figure(constrained_layout=True)\n",
    "#        self.fig = plt.figure(tight_layout=True)\n",
    "        self.fig.suptitle('none')\n",
    "        self.fig.canvas.header_visible = False\n",
    "#        self.fig.canvas.footer_visible = False\n",
    "#        self.fig.canvas.resizable = False\n",
    "        \n",
    "        self.axes = None\n",
    "\n",
    "    def draw_image(self, image, filename:str=\"\"):\n",
    "        if not self.axes:\n",
    "            wcs = WCS(image.header)\n",
    "            self.axes = self.fig.add_subplot(1, 1, 1, projection=wcs)\n",
    "\n",
    "        mean, sigma, min, max = np.mean(image.data), np.std(image.data), np.min(image.data), np.max(image.data)\n",
    "        lperc, uperc = np.percentile(image.data, 5), np.percentile(image.data, 99.5)\n",
    "        median = np.median(image.data)\n",
    "\n",
    "        self.axes.imshow(\n",
    "                image.data, \n",
    "                origin='lower',\n",
    "                norm=PowerNorm(1.4,\n",
    "                               vmin=median,\n",
    "                               vmax=uperc,\n",
    "                               clip=True,\n",
    "                              )\n",
    "#                norm=LogNorm(vmin=50, vmax=1000)\n",
    "            )\n",
    "        self.axes.scatter([image.data.shape[1]/2], [image.data.shape[0]/2], marker='+', s=40, color='red')\n",
    "        self.fig.suptitle(f'{image.header[\"CAMNAME\"]} {filename}')\n",
    "        self.fig.canvas.draw_idle()\n",
    "\n"
   ]
  },
  {
   "cell_type": "code",
   "execution_count": 18,
   "id": "9e44b177-88e2-42c4-907d-05187f5d01f1",
   "metadata": {
    "tags": []
   },
   "outputs": [],
   "source": [
    "from lvmtipo.actors import lvm\n",
    "\n",
    "telescope = \"skye\"\n",
    "tel = await lvm.from_string(telescope).start()\n",
    "await tel.agc.status()\n",
    "\n",
    "cam_list = (await tel.agc.status()).keys()\n",
    "cam_dict = dict(zip(cam_list, range(len(cam_list))))\n"
   ]
  },
  {
   "cell_type": "code",
   "execution_count": 19,
   "id": "c311c229-9423-4f79-ade7-e87c56e9c9a6",
   "metadata": {
    "tags": []
   },
   "outputs": [
    {
     "data": {
      "application/vnd.jupyter.widget-view+json": {
       "model_id": "6cf16ed9cb334da2830a878990902222",
       "version_major": 2,
       "version_minor": 0
      },
      "text/plain": [
       "VBox(children=(HBox(children=(ToggleButton(value=False, description='start', icon='play'), FloatSlider(value=1…"
      ]
     },
     "metadata": {},
     "output_type": "display_data"
    },
    {
     "data": {
      "application/vnd.jupyter.widget-view+json": {
       "model_id": "693d428ce20d4fad8a43019b78a22180",
       "version_major": 2,
       "version_minor": 0
      },
      "image/png": "[encoded data removed]",
      "text/html": [
       "\n",
       "            <div style=\"display: inline-block;\">\n",
       "                <div class=\"jupyter-widgets widget-label\" style=\"text-align: center;\">\n",
       "                    Figure\n",
       "                </div>\n",
       "                <img src='data:image/png;base64,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' width=640.0/>\n",
       "            </div>\n",
       "        "
      ],
      "text/plain": [
       "Canvas(header_visible=False, toolbar=Toolbar(toolitems=[('Home', 'Reset original view', 'home', 'home'), ('Bac…"
      ]
     },
     "metadata": {},
     "output_type": "display_data"
    }
   ],
   "source": [
    "import asyncio, time\n",
    "import ipywidgets as wd\n",
    "\n",
    "output = wd.Textarea(layout=wd.Layout(height=\"auto\", width=\"auto\"))\n",
    "running = wd.ToggleButton(description=\"start\", icon=\"play\")\n",
    "exptime = wd.FloatSlider(description=\"\", value=1, min=0.01, max=40)\n",
    "cameras = wd.ToggleButtons(options=cam_list)\n",
    "\n",
    "ui = wd.VBox([wd.HBox([running, exptime, cameras]), output])\n",
    "fd = FitsDisplay()\n",
    "\n",
    "tasks = dict()\n",
    "camera_current = 0\n",
    "images = None\n",
    "\n",
    "async def do_expose():\n",
    "    while running.value:\n",
    "        filenames = (await tel.agc.expose(exptime.value)).flatten().unpack(\"*.filename\")\n",
    "        images = [Image.from_file(f) for f in filenames]\n",
    "        fd.draw_image(images[camera_current], filename=basename(filenames[camera_current]))\n",
    "        output.value = f\"{filenames} {camera_current}\"\n",
    "\n",
    "def on_camera_changed(change):\n",
    "    global camera_current\n",
    "    camera_current = cam_dict[change.new]\n",
    "    output.value = f\"{camera_current}\"\n",
    "\n",
    "def on_running_changed(*change):\n",
    "    task = tasks.pop(\"do_expose\", None)\n",
    "#    if task:\n",
    "#        output.value = f\"cancel...\"\n",
    "    if running.value:\n",
    "        output.value = \"starting...\"\n",
    "        tasks[\"do_expose\"] = asyncio.get_event_loop().create_task(do_expose())\n",
    "\n",
    "running.observe(on_running_changed, \"value\")\n",
    "cameras.observe(on_camera_changed, \"value\")\n",
    "\n",
    "display(ui)\n"
   ]
  },
  {
   "cell_type": "code",
   "execution_count": 17,
   "id": "ec5cb1b4-0bb9-48c7-b9e7-76d186ee6100",
   "metadata": {
    "tags": []
   },
   "outputs": [
    {
     "ename": "NameError",
     "evalue": "name 'cd' is not defined",
     "output_type": "error",
     "traceback": [
      "\u001b[0;31m---------------------------------------------------------------------------\u001b[0m",
      "\u001b[0;31mNameError\u001b[0m                                 Traceback (most recent call last)",
      "Cell \u001b[0;32mIn[17], line 44\u001b[0m\n\u001b[1;32m     41\u001b[0m              tasks[\u001b[38;5;124m\"\u001b[39m\u001b[38;5;124mdo_expose\u001b[39m\u001b[38;5;124m\"\u001b[39m] \u001b[38;5;241m=\u001b[39m asyncio\u001b[38;5;241m.\u001b[39mget_event_loop()\u001b[38;5;241m.\u001b[39mcreate_task(\u001b[38;5;28mself\u001b[39m\u001b[38;5;241m.\u001b[39mdo_expose())\n\u001b[1;32m     42\u001b[0m         \u001b[38;5;28mself\u001b[39m\u001b[38;5;241m.\u001b[39moutput\u001b[38;5;241m.\u001b[39mvalue \u001b[38;5;241m=\u001b[39m \u001b[38;5;124mf\u001b[39m\u001b[38;5;124m\"\u001b[39m\u001b[38;5;124mstarted\u001b[39m\u001b[38;5;124m\"\u001b[39m\n\u001b[0;32m---> 44\u001b[0m cd \u001b[38;5;241m=\u001b[39m \u001b[43mCameraDisplay\u001b[49m\u001b[43m(\u001b[49m\u001b[43mcam_list\u001b[49m\u001b[43m)\u001b[49m\n",
      "Cell \u001b[0;32mIn[17], line 21\u001b[0m, in \u001b[0;36mCameraDisplay.__init__\u001b[0;34m(self, cam_list)\u001b[0m\n\u001b[1;32m     17\u001b[0m \u001b[38;5;28mself\u001b[39m\u001b[38;5;241m.\u001b[39mcameras\u001b[38;5;241m.\u001b[39mobserve(\u001b[38;5;28mself\u001b[39m\u001b[38;5;241m.\u001b[39mon_camera_changed, \u001b[38;5;124m\"\u001b[39m\u001b[38;5;124mvalue\u001b[39m\u001b[38;5;124m\"\u001b[39m)\n\u001b[1;32m     19\u001b[0m \u001b[38;5;28mself\u001b[39m\u001b[38;5;241m.\u001b[39mcam_dict \u001b[38;5;241m=\u001b[39m \u001b[38;5;28mdict\u001b[39m(\u001b[38;5;28mzip\u001b[39m(cam_list, \u001b[38;5;28mrange\u001b[39m(\u001b[38;5;28mlen\u001b[39m(cam_list))))\n\u001b[0;32m---> 21\u001b[0m display(\u001b[43mcd\u001b[49m\u001b[38;5;241m.\u001b[39mui)\n\u001b[1;32m     22\u001b[0m \u001b[38;5;28mself\u001b[39m\u001b[38;5;241m.\u001b[39mfd \u001b[38;5;241m=\u001b[39m FitsDisplay()\n",
      "\u001b[0;31mNameError\u001b[0m: name 'cd' is not defined"
     ]
    },
    {
     "data": {
      "application/vnd.jupyter.widget-view+json": {
       "model_id": "f6e77b96eb9e424290c3193aafbad013",
       "version_major": 2,
       "version_minor": 0
      },
      "image/png": "[encoded data removed]",
      "text/html": [
       "\n",
       "            <div style=\"display: inline-block;\">\n",
       "                <div class=\"jupyter-widgets widget-label\" style=\"text-align: center;\">\n",
       "                    Figure\n",
       "                </div>\n",
       "                <img src='data:image/png;base64,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' width=640.0/>\n",
       "            </div>\n",
       "        "
      ],
      "text/plain": [
       "Canvas(header_visible=False, toolbar=Toolbar(toolitems=[('Home', 'Reset original view', 'home', 'home'), ('Bac…"
      ]
     },
     "metadata": {},
     "output_type": "display_data"
    }
   ],
   "source": [
    "import asyncio, time\n",
    "import ipywidgets as wd\n",
    "\n",
    "class CameraDisplay:\n",
    "    def __init__(self, cam_list):\n",
    "        self.output = wd.Textarea(layout=wd.Layout(height=\"auto\", width=\"auto\"))\n",
    "        self.running = wd.ToggleButton(description=\"start\", icon=\"play\")\n",
    "        self.exptime = wd.FloatSlider(description=\"\", value=1, min=0.01, max=40)\n",
    "        self.cameras = wd.ToggleButtons(options=cam_list)\n",
    "\n",
    "        self.ui = wd.VBox([wd.HBox([self.running, self.exptime, self.cameras]), self.output])\n",
    "        self.fd = FitsDisplay()\n",
    "\n",
    "        self.tasks = dict()\n",
    "        self.camera_current = 0\n",
    "        self.running.observe(self.on_running_changed, \"value\")\n",
    "        self.cameras.observe(self.on_camera_changed, \"value\")\n",
    "        \n",
    "        self.cam_dict = dict(zip(cam_list, range(len(cam_list))))\n",
    "\n",
    "        display(cd.ui)\n",
    "        self.fd = FitsDisplay()\n",
    "    async def do_expose(self):\n",
    "        while running.value:\n",
    "            filenames = (await tel.agc.expose(self.exptime.value)).flatten().unpack(\"*.filename\")\n",
    "            images = [Image.from_file(f) for f in filenames]\n",
    "            fd.draw_image(images[self.camera_current], filename=basename(filenames[self.camera_current]))\n",
    "            self.output.value = f\"{filenames} {self.camera_current}\"\n",
    "\n",
    "    def on_camera_changed(self, change):\n",
    "        self.camera_current = self.cam_dict[change.new]\n",
    "        self.output.value = f\"{self.camera_current}\"\n",
    "        \n",
    "\n",
    "    def on_running_changed(self, *change):\n",
    "        task = self.tasks.pop(\"do_expose\", None)\n",
    "    #    if task:\n",
    "    #        output.value = f\"cancel...\"\n",
    "        if self.running.value:\n",
    "             self.output.value = \"starting...\"\n",
    "             tasks[\"do_expose\"] = asyncio.get_event_loop().create_task(self.do_expose())\n",
    "        self.output.value = f\"started\"\n",
    "\n",
    "cd = CameraDisplay(cam_list)\n",
    "\n"
   ]
  },
  {
   "cell_type": "code",
   "execution_count": null,
   "id": "81d41a0c-c22c-466e-8b55-4c850c876cdc",
   "metadata": {},
   "outputs": [],
   "source": []
  }
 ],
 "metadata": {
  "kernelspec": {
   "display_name": "Python 3 (ipykernel)",
   "language": "python",
   "name": "python3"
  },
  "language_info": {
   "codemirror_mode": {
    "name": "ipython",
    "version": 3
   },
   "file_extension": ".py",
   "mimetype": "text/x-python",
   "name": "python",
   "nbconvert_exporter": "python",
   "pygments_lexer": "ipython3",
   "version": "3.10.9"
  }
 },
 "nbformat": 4,
 "nbformat_minor": 5
}
