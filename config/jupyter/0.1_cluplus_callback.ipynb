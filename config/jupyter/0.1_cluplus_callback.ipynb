{
 "cells": [
  {
   "cell_type": "code",
   "execution_count": 1,
   "id": "fba13f87-41ae-4dd9-af74-6311ed9b01db",
   "metadata": {
    "tags": []
   },
   "outputs": [
    {
     "data": {
      "text/plain": [
       "lvmtipo.actors.lvm.sci"
      ]
     },
     "execution_count": 1,
     "metadata": {},
     "output_type": "execute_result"
    }
   ],
   "source": [
    "from lvmtipo.actors import lvm\n",
    "\n",
    "await lvm.sci.start()"
   ]
  },
  {
   "cell_type": "code",
   "execution_count": 2,
   "id": "066a15b3-03b5-474d-9827-31e743d8d5ca",
   "metadata": {
    "tags": []
   },
   "outputs": [],
   "source": [
    "from logging import DEBUG, INFO\n",
    "from sdsstools import get_logger\n",
    "\n",
    "logger = get_logger(\"test\")\n",
    "\n",
    "logger.sh.setLevel(DEBUG)\n",
    "#logger.sh.setLevel(INFO)"
   ]
  },
  {
   "cell_type": "code",
   "execution_count": 5,
   "id": "098ea0c7-61a0-494f-aee7-c53139c9a953",
   "metadata": {
    "tags": []
   },
   "outputs": [
    {
     "data": {
      "text/plain": [
       "{'east': {'state': 'online'}, 'center': {'state': 'online'}}"
      ]
     },
     "execution_count": 5,
     "metadata": {},
     "output_type": "execute_result"
    }
   ],
   "source": [
    "await lvm.sci.agc.reconnect()"
   ]
  },
  {
   "cell_type": "code",
   "execution_count": 7,
   "id": "6e40a731-0b85-40e1-a307-2f538d86a756",
   "metadata": {
    "tags": []
   },
   "outputs": [
    {
     "name": "stderr",
     "output_type": "stream",
     "text": [
      "\u001b[0;35m[DEBUG]: \u001b[0mCommandStatus.RUNNING: {}\n",
      "\u001b[0;35m[DEBUG]: \u001b[0mCommandStatus.RUNNING: {'east': {'error': {'exception_module': 'basecam.exceptions', 'exception_type': 'ExposureError', 'exception_message': 'arv-device-error-quark: GigEVision write_register error (access-denied) (3)'}}}\n",
      "\u001b[0;35m[DEBUG]: \u001b[0mCommandStatus.RUNNING: {'east': {'state': 'integrating', 'image_type': 'object', 'remaining_time': 1.0, 'exposure_time': 1.0, 'current_stack': 1, 'n_stack': 1}}\n",
      "\u001b[0;35m[DEBUG]: \u001b[0mCommandStatus.RUNNING: {'east': {'state': 'failed', 'image_type': 'object', 'remaining_time': 0.0, 'exposure_time': 1.0, 'current_stack': 0, 'n_stack': 0}}\n",
      "\u001b[0;35m[DEBUG]: \u001b[0mCommandStatus.RUNNING: {'center': {'state': 'integrating', 'image_type': 'object', 'remaining_time': 1.0, 'exposure_time': 1.0, 'current_stack': 1, 'n_stack': 1}}\n",
      "\u001b[0;35m[DEBUG]: \u001b[0mCommandStatus.RUNNING: {'center': {'state': 'integrating', 'image_type': 'object', 'remaining_time': 1.0, 'exposure_time': 1.0, 'current_stack': 1, 'n_stack': 1}}\n",
      "\u001b[0;35m[DEBUG]: \u001b[0mCommandStatus.RUNNING: {'center': {'state': 'done', 'image_type': 'object', 'remaining_time': 0.0, 'exposure_time': 1.0, 'current_stack': 1, 'n_stack': 1}}\n",
      "\u001b[0;35m[DEBUG]: \u001b[0mCommandStatus.RUNNING: {'center': {'state': 'written', 'filename': '/data/lvm/sci/agcam/center/20230220/lvm.sci.agcam.center_00000002.fits'}}\n",
      "\u001b[0;35m[DEBUG]: \u001b[0mCommandStatus.DONE: {'east': {'state': 'failed', 'error': {'exception_module': 'basecam.exceptions', 'exception_type': 'ExposureError', 'exception_message': 'arv-device-error-quark: GigEVision write_register error (access-denied) (3)'}}, 'center': {'state': 'written', 'filename': '/data/lvm/sci/agcam/center/20230220/lvm.sci.agcam.center_00000002.fits'}}\n",
      "\u001b[0;34m[INFO]: \u001b[0m{'east': {'state': 'failed', 'error': {'exception_module': 'basecam.exceptions', 'exception_type': 'ExposureError', 'exception_message': 'arv-device-error-quark: GigEVision write_register error (access-denied) (3)'}}, 'center': {'state': 'written', 'filename': '/data/lvm/sci/agcam/center/20230220/lvm.sci.agcam.center_00000002.fits'}}\n"
     ]
    }
   ],
   "source": [
    "def callback(reply):\n",
    "    logger.debug(f\"{reply.command_status}: {reply}\")\n",
    "\n",
    "rc = await lvm.sci.agc.expose(1, callback=callback)\n",
    "logger.info(str(rc))"
   ]
  },
  {
   "cell_type": "code",
   "execution_count": 4,
   "id": "7e43e11b-43cc-48be-a922-26ac7396f6f7",
   "metadata": {},
   "outputs": [
    {
     "data": {
      "text/plain": [
       "{'east': {'temperature': 25,\n",
       "  'cooler': nan,\n",
       "  'binning': [1, 1],\n",
       "  'area': [0, 0, 1600.0, 1100.0],\n",
       "  'state': 'online'},\n",
       " 'center': {'temperature': 25,\n",
       "  'cooler': nan,\n",
       "  'binning': [1, 1],\n",
       "  'area': [0, 0, 3200.0, 2200.0],\n",
       "  'state': 'online'},\n",
       " 'west': {'temperature': 25,\n",
       "  'cooler': nan,\n",
       "  'binning': [1, 1],\n",
       "  'area': [0, 0, 1600.0, 1100.0],\n",
       "  'state': 'online'}}"
      ]
     },
     "execution_count": 4,
     "metadata": {},
     "output_type": "execute_result"
    }
   ],
   "source": [
    "await lvm.sci.agc.status()"
   ]
  },
  {
   "cell_type": "code",
   "execution_count": null,
   "id": "8e4fb765-a62e-42f8-982d-7730d06500e4",
   "metadata": {},
   "outputs": [],
   "source": []
  }
 ],
 "metadata": {
  "kernelspec": {
   "display_name": "Python 3 (ipykernel)",
   "language": "python",
   "name": "python3"
  },
  "language_info": {
   "codemirror_mode": {
    "name": "ipython",
    "version": 3
   },
   "file_extension": ".py",
   "mimetype": "text/x-python",
   "name": "python",
   "nbconvert_exporter": "python",
   "pygments_lexer": "ipython3",
   "version": "3.10.9"
  }
 },
 "nbformat": 4,
 "nbformat_minor": 5
}
