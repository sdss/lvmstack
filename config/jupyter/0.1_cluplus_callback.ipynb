{
 "cells": [
  {
   "cell_type": "code",
   "execution_count": 5,
   "id": "fba13f87-41ae-4dd9-af74-6311ed9b01db",
   "metadata": {},
   "outputs": [],
   "source": [
    "from lvmtipo.actors import lvm\n",
    "\n",
    "sci = await lvm.sci.start()"
   ]
  },
  {
   "cell_type": "code",
   "execution_count": 6,
   "id": "066a15b3-03b5-474d-9827-31e743d8d5ca",
   "metadata": {},
   "outputs": [],
   "source": [
    "from logging import DEBUG, INFO\n",
    "from sdsstools import get_logger\n",
    "\n",
    "logger = get_logger(\"test\")\n",
    "\n",
    "logger.sh.setLevel(DEBUG)\n",
    "#logger.sh.setLevel(INFO)"
   ]
  },
  {
   "cell_type": "code",
   "execution_count": 7,
   "id": "6e40a731-0b85-40e1-a307-2f538d86a756",
   "metadata": {},
   "outputs": [
    {
     "name": "stderr",
     "output_type": "stream",
     "text": [
      "\u001b[0;35m[DEBUG]: \u001b[0mb'{}'\n",
      "\u001b[0;35m[DEBUG]: \u001b[0mb'{\"east\": {\"state\": \"integrating\", \"image_type\": \"object\", \"remaining_time\": 1.0, \"exposure_time\": 1.0, \"current_stack\": 1, \"n_stack\": 1}}'\n",
      "\u001b[0;35m[DEBUG]: \u001b[0mb'{\"east\": {\"state\": \"integrating\", \"image_type\": \"object\", \"remaining_time\": 1.0, \"exposure_time\": 1.0, \"current_stack\": 1, \"n_stack\": 1}}'\n",
      "\u001b[0;35m[DEBUG]: \u001b[0mb'{\"center\": {\"state\": \"integrating\", \"image_type\": \"object\", \"remaining_time\": 1.0, \"exposure_time\": 1.0, \"current_stack\": 1, \"n_stack\": 1}}'\n",
      "\u001b[0;35m[DEBUG]: \u001b[0mb'{\"center\": {\"state\": \"integrating\", \"image_type\": \"object\", \"remaining_time\": 1.0, \"exposure_time\": 1.0, \"current_stack\": 1, \"n_stack\": 1}}'\n",
      "\u001b[0;35m[DEBUG]: \u001b[0mb'{\"west\": {\"state\": \"integrating\", \"image_type\": \"object\", \"remaining_time\": 1.0, \"exposure_time\": 1.0, \"current_stack\": 1, \"n_stack\": 1}}'\n",
      "\u001b[0;35m[DEBUG]: \u001b[0mb'{\"west\": {\"state\": \"integrating\", \"image_type\": \"object\", \"remaining_time\": 1.0, \"exposure_time\": 1.0, \"current_stack\": 1, \"n_stack\": 1}}'\n",
      "\u001b[0;35m[DEBUG]: \u001b[0mb'{\"east\": {\"state\": \"done\", \"image_type\": \"object\", \"remaining_time\": 0.0, \"exposure_time\": 1.0, \"current_stack\": 1, \"n_stack\": 1}}'\n",
      "\u001b[0;35m[DEBUG]: \u001b[0mb'{\"east\": {\"state\": \"post_processing\", \"image_type\": \"object\"}}'\n",
      "\u001b[0;35m[DEBUG]: \u001b[0mb'{\"east\": {\"state\": \"written\", \"filename\": \"/data/lvm/sci/agcam/east/20230208/lvm.sci.agcam.east_00000001.fits\"}}'\n",
      "\u001b[0;35m[DEBUG]: \u001b[0mb'{\"west\": {\"state\": \"done\", \"image_type\": \"object\", \"remaining_time\": 0.0, \"exposure_time\": 1.0, \"current_stack\": 1, \"n_stack\": 1}}'\n",
      "\u001b[0;35m[DEBUG]: \u001b[0mb'{\"west\": {\"state\": \"post_processing\", \"image_type\": \"object\"}}'\n",
      "\u001b[0;35m[DEBUG]: \u001b[0mb'{\"west\": {\"state\": \"written\", \"filename\": \"/data/lvm/sci/agcam/west/20230208/lvm.sci.agcam.west_00000001.fits\"}}'\n",
      "\u001b[0;35m[DEBUG]: \u001b[0mb'{\"center\": {\"state\": \"done\", \"image_type\": \"object\", \"remaining_time\": 0.0, \"exposure_time\": 1.0, \"current_stack\": 1, \"n_stack\": 1}}'\n",
      "\u001b[0;35m[DEBUG]: \u001b[0mb'{\"center\": {\"state\": \"post_processing\", \"image_type\": \"object\"}}'\n",
      "\u001b[0;35m[DEBUG]: \u001b[0mb'{\"center\": {\"state\": \"written\", \"filename\": \"/data/lvm/sci/agcam/center/20230208/lvm.sci.agcam.center_00000001.fits\"}}'\n",
      "\u001b[0;35m[DEBUG]: \u001b[0mb'{\"east\": {\"state\": \"written\", \"filename\": \"/data/lvm/sci/agcam/east/20230208/lvm.sci.agcam.east_00000001.fits\"}, \"center\": {\"state\": \"written\", \"filename\": \"/data/lvm/sci/agcam/center/20230208/lvm.sci.agcam.center_00000001.fits\"}, \"west\": {\"state\": \"written\", \"filename\": \"/data/lvm/sci/agcam/west/20230208/lvm.sci.agcam.west_00000001.fits\"}}'\n",
      "\u001b[0;34m[INFO]: \u001b[0m{'east': {'state': 'written', 'filename': '/data/lvm/sci/agcam/east/20230208/lvm.sci.agcam.east_00000001.fits'}, 'center': {'state': 'written', 'filename': '/data/lvm/sci/agcam/center/20230208/lvm.sci.agcam.center_00000001.fits'}, 'west': {'state': 'written', 'filename': '/data/lvm/sci/agcam/west/20230208/lvm.sci.agcam.west_00000001.fits'}}\n"
     ]
    }
   ],
   "source": [
    "def callback(reply):\n",
    "    logger.debug(f\"{reply.message.body}\")\n",
    "\n",
    "rc = await sci.agc.expose(1, callback=callback)\n",
    "logger.info(str(rc))"
   ]
  },
  {
   "cell_type": "code",
   "execution_count": null,
   "id": "7e43e11b-43cc-48be-a922-26ac7396f6f7",
   "metadata": {},
   "outputs": [],
   "source": [
    "await sci.agc.status()"
   ]
  }
 ],
 "metadata": {
  "kernelspec": {
   "display_name": "Python 3 (ipykernel)",
   "language": "python",
   "name": "python3"
  },
  "language_info": {
   "codemirror_mode": {
    "name": "ipython",
    "version": 3
   },
   "file_extension": ".py",
   "mimetype": "text/x-python",
   "name": "python",
   "nbconvert_exporter": "python",
   "pygments_lexer": "ipython3",
   "version": "3.10.8"
  }
 },
 "nbformat": 4,
 "nbformat_minor": 5
}
