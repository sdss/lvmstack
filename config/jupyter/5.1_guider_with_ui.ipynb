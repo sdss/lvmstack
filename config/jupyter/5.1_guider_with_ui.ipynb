{
 "cells": [
  {
   "cell_type": "code",
   "execution_count": 1,
   "id": "7e4c2c8d-270b-465e-b41d-1e4d9e828193",
   "metadata": {
    "tags": []
   },
   "outputs": [
    {
     "ename": "ModuleNotFoundError",
     "evalue": "No module named 'unclick'",
     "output_type": "error",
     "traceback": [
      "\u001b[0;31m---------------------------------------------------------------------------\u001b[0m",
      "\u001b[0;31mModuleNotFoundError\u001b[0m                       Traceback (most recent call last)",
      "Cell \u001b[0;32mIn[1], line 6\u001b[0m\n\u001b[1;32m      3\u001b[0m \u001b[38;5;28;01mfrom\u001b[39;00m \u001b[38;5;21;01mpandas\u001b[39;00m \u001b[38;5;28;01mimport\u001b[39;00m json_normalize\n\u001b[1;32m      4\u001b[0m \u001b[38;5;28;01mfrom\u001b[39;00m \u001b[38;5;21;01mastropy\u001b[39;00m\u001b[38;5;21;01m.\u001b[39;00m\u001b[38;5;21;01mtable\u001b[39;00m \u001b[38;5;28;01mimport\u001b[39;00m QTable\n\u001b[0;32m----> 6\u001b[0m \u001b[38;5;28;01mfrom\u001b[39;00m \u001b[38;5;21;01mlvmtipo\u001b[39;00m\u001b[38;5;21;01m.\u001b[39;00m\u001b[38;5;21;01mactors\u001b[39;00m \u001b[38;5;28;01mimport\u001b[39;00m lvm\n\u001b[1;32m      7\u001b[0m \u001b[38;5;28;01mfrom\u001b[39;00m \u001b[38;5;21;01mlvmagp\u001b[39;00m\u001b[38;5;21;01m.\u001b[39;00m\u001b[38;5;21;01mimages\u001b[39;00m \u001b[38;5;28;01mimport\u001b[39;00m Image\n\u001b[1;32m      8\u001b[0m \u001b[38;5;28;01mfrom\u001b[39;00m \u001b[38;5;21;01mlvmagp\u001b[39;00m\u001b[38;5;21;01m.\u001b[39;00m\u001b[38;5;21;01mactor\u001b[39;00m\u001b[38;5;21;01m.\u001b[39;00m\u001b[38;5;21;01mstatemachine\u001b[39;00m \u001b[38;5;28;01mimport\u001b[39;00m ActorState, ActorStateMachine\n",
      "File \u001b[0;32m~/lvm/lvmtipo/python/lvmtipo/actors.py:12\u001b[0m\n\u001b[1;32m      9\u001b[0m \u001b[38;5;28;01mimport\u001b[39;00m \u001b[38;5;21;01masyncio\u001b[39;00m\n\u001b[1;32m     10\u001b[0m \u001b[38;5;28;01mfrom\u001b[39;00m \u001b[38;5;21;01mtyping\u001b[39;00m \u001b[38;5;28;01mimport\u001b[39;00m Union\n\u001b[0;32m---> 12\u001b[0m \u001b[38;5;28;01mfrom\u001b[39;00m \u001b[38;5;21;01mcluplus\u001b[39;00m\u001b[38;5;21;01m.\u001b[39;00m\u001b[38;5;21;01mproxy\u001b[39;00m \u001b[38;5;28;01mimport\u001b[39;00m Proxy, invoke, unpack, flatten\n\u001b[1;32m     13\u001b[0m \u001b[38;5;28;01mfrom\u001b[39;00m \u001b[38;5;21;01mclu\u001b[39;00m \u001b[38;5;28;01mimport\u001b[39;00m BaseClient\n\u001b[1;32m     15\u001b[0m \u001b[38;5;28;01mclass\u001b[39;00m \u001b[38;5;21;01mlvm\u001b[39;00m:\n",
      "File \u001b[0;32m~/lvm/cluplus/python/cluplus/proxy.py:29\u001b[0m\n\u001b[1;32m     26\u001b[0m \u001b[38;5;28;01mimport\u001b[39;00m \u001b[38;5;21;01mjson\u001b[39;00m\n\u001b[1;32m     28\u001b[0m \u001b[38;5;28;01mfrom\u001b[39;00m \u001b[38;5;21;01minspect\u001b[39;00m \u001b[38;5;28;01mimport\u001b[39;00m getcoroutinelocals, iscoroutine\n\u001b[0;32m---> 29\u001b[0m \u001b[38;5;28;01mfrom\u001b[39;00m \u001b[38;5;21;01mclu\u001b[39;00m \u001b[38;5;28;01mimport\u001b[39;00m AMQPClient, AMQPReply, BaseClient, CommandStatus\n\u001b[1;32m     31\u001b[0m \u001b[38;5;28;01mfrom\u001b[39;00m \u001b[38;5;21;01m.\u001b[39;00m\u001b[38;5;21;01mexceptions\u001b[39;00m \u001b[38;5;28;01mimport\u001b[39;00m ProxyPartialInvokeException, ProxyActorIsNotReachableException, ProxyUnpackKeysNotAllFoundException\n\u001b[1;32m     33\u001b[0m \u001b[38;5;28;01mclass\u001b[39;00m \u001b[38;5;21;01mClient\u001b[39;00m(AMQPClient):\n",
      "File \u001b[0;32m~/lvm/clu/python/clu/__init__.py:15\u001b[0m\n\u001b[1;32m     11\u001b[0m \u001b[38;5;28;01mimport\u001b[39;00m \u001b[38;5;21;01mlogging\u001b[39;00m\n\u001b[1;32m     13\u001b[0m \u001b[38;5;28;01mfrom\u001b[39;00m \u001b[38;5;21;01msdsstools\u001b[39;00m \u001b[38;5;28;01mimport\u001b[39;00m get_package_version\n\u001b[0;32m---> 15\u001b[0m \u001b[38;5;28;01mfrom\u001b[39;00m \u001b[38;5;21;01m.\u001b[39;00m\u001b[38;5;21;01mactor\u001b[39;00m \u001b[38;5;28;01mimport\u001b[39;00m \u001b[38;5;241m*\u001b[39m\n\u001b[1;32m     16\u001b[0m \u001b[38;5;28;01mfrom\u001b[39;00m \u001b[38;5;21;01m.\u001b[39;00m\u001b[38;5;21;01mbase\u001b[39;00m \u001b[38;5;28;01mimport\u001b[39;00m \u001b[38;5;241m*\u001b[39m\n\u001b[1;32m     17\u001b[0m \u001b[38;5;28;01mfrom\u001b[39;00m \u001b[38;5;21;01m.\u001b[39;00m\u001b[38;5;21;01mclient\u001b[39;00m \u001b[38;5;28;01mimport\u001b[39;00m \u001b[38;5;241m*\u001b[39m\n",
      "File \u001b[0;32m~/lvm/clu/python/clu/actor.py:27\u001b[0m\n\u001b[1;32m     25\u001b[0m \u001b[38;5;28;01mfrom\u001b[39;00m \u001b[38;5;21;01m.\u001b[39;00m\u001b[38;5;21;01mcommand\u001b[39;00m \u001b[38;5;28;01mimport\u001b[39;00m Command, TimedCommandList\n\u001b[1;32m     26\u001b[0m \u001b[38;5;28;01mfrom\u001b[39;00m \u001b[38;5;21;01m.\u001b[39;00m\u001b[38;5;21;01mexceptions\u001b[39;00m \u001b[38;5;28;01mimport\u001b[39;00m CommandError\n\u001b[0;32m---> 27\u001b[0m \u001b[38;5;28;01mfrom\u001b[39;00m \u001b[38;5;21;01m.\u001b[39;00m\u001b[38;5;21;01mparsers\u001b[39;00m \u001b[38;5;28;01mimport\u001b[39;00m ClickParser, CluCommand\n\u001b[1;32m     28\u001b[0m \u001b[38;5;28;01mfrom\u001b[39;00m \u001b[38;5;21;01m.\u001b[39;00m\u001b[38;5;21;01mprotocol\u001b[39;00m \u001b[38;5;28;01mimport\u001b[39;00m TCPStreamServer\n\u001b[1;32m     29\u001b[0m \u001b[38;5;28;01mfrom\u001b[39;00m \u001b[38;5;21;01m.\u001b[39;00m\u001b[38;5;21;01mtools\u001b[39;00m \u001b[38;5;28;01mimport\u001b[39;00m log_reply\n",
      "File \u001b[0;32m~/lvm/clu/python/clu/parsers/__init__.py:9\u001b[0m\n\u001b[1;32m      1\u001b[0m \u001b[38;5;66;03m#!/usr/bin/env python\u001b[39;00m\n\u001b[1;32m      2\u001b[0m \u001b[38;5;66;03m# -*- coding: utf-8 -*-\u001b[39;00m\n\u001b[1;32m      3\u001b[0m \u001b[38;5;66;03m#\u001b[39;00m\n\u001b[0;32m   (...)\u001b[0m\n\u001b[1;32m      6\u001b[0m \u001b[38;5;66;03m# @Filename: __init__.py\u001b[39;00m\n\u001b[1;32m      7\u001b[0m \u001b[38;5;66;03m# @License: BSD 3-clause (http://www.opensource.org/licenses/BSD-3-Clause)\u001b[39;00m\n\u001b[0;32m----> 9\u001b[0m \u001b[38;5;28;01mfrom\u001b[39;00m \u001b[38;5;21;01m.\u001b[39;00m\u001b[38;5;21;01mclick\u001b[39;00m \u001b[38;5;28;01mimport\u001b[39;00m ClickParser, CluCommand, command_parser\n\u001b[1;32m     10\u001b[0m \u001b[38;5;28;01mfrom\u001b[39;00m \u001b[38;5;21;01m.\u001b[39;00m\u001b[38;5;21;01mjson\u001b[39;00m \u001b[38;5;28;01mimport\u001b[39;00m JSONParser\n",
      "File \u001b[0;32m~/lvm/clu/python/clu/parsers/click.py:23\u001b[0m\n\u001b[1;32m     21\u001b[0m \u001b[38;5;28;01mimport\u001b[39;00m \u001b[38;5;21;01mclick\u001b[39;00m\n\u001b[1;32m     22\u001b[0m \u001b[38;5;28;01mfrom\u001b[39;00m \u001b[38;5;21;01mclick\u001b[39;00m\u001b[38;5;21;01m.\u001b[39;00m\u001b[38;5;21;01mdecorators\u001b[39;00m \u001b[38;5;28;01mimport\u001b[39;00m group, pass_obj\n\u001b[0;32m---> 23\u001b[0m \u001b[38;5;28;01mfrom\u001b[39;00m \u001b[38;5;21;01munclick\u001b[39;00m\u001b[38;5;21;01m.\u001b[39;00m\u001b[38;5;21;01mcore\u001b[39;00m \u001b[38;5;28;01mimport\u001b[39;00m command_to_json\n\u001b[1;32m     25\u001b[0m \u001b[38;5;28;01mfrom\u001b[39;00m \u001b[38;5;21;01msdsstools\u001b[39;00m\u001b[38;5;21;01m.\u001b[39;00m\u001b[38;5;21;01mlogger\u001b[39;00m \u001b[38;5;28;01mimport\u001b[39;00m SDSSLogger\n\u001b[1;32m     27\u001b[0m \u001b[38;5;28;01mfrom\u001b[39;00m \u001b[38;5;21;01mclu\u001b[39;00m\u001b[38;5;21;01m.\u001b[39;00m\u001b[38;5;21;01mcommand\u001b[39;00m \u001b[38;5;28;01mimport\u001b[39;00m Command\n",
      "\u001b[0;31mModuleNotFoundError\u001b[0m: No module named 'unclick'"
     ]
    }
   ],
   "source": [
    "import pandas as pd\n",
    "import json\n",
    "from pandas import json_normalize\n",
    "from astropy.table import QTable\n",
    "\n",
    "from lvmtipo.actors import lvm\n",
    "from lvmagp.images import Image\n",
    "from lvmagp.actor.statemachine import ActorState, ActorStateMachine\n",
    "from lvmagp.guide.worker import GuiderWorker\n",
    "from lvmagp.json_serializers import deserialize_skycoord\n",
    "\n",
    "from IPython.display import display, clear_output"
   ]
  },
  {
   "cell_type": "code",
   "execution_count": null,
   "id": "746564d2-688b-483a-852e-5561e49ce16f",
   "metadata": {
    "tags": []
   },
   "outputs": [],
   "source": [
    "import matplotlib.pyplot as plt\n",
    "from matplotlib.colors import LogNorm\n",
    "\n",
    "def plot(image, ref_image):\n",
    "    fig,ax1 = plt.subplots(figsize=(8, 4.5))\n",
    "    ax1.imshow(image.data,norm=LogNorm(vmin=50, vmax=500))\n",
    "    ax1.plot(image.catalog[\"x\"],image.catalog[\"y\"],\"o\",markerfacecolor=\"none\",markeredgecolor=\"r\",ms=20)\n",
    "    if ref_image:\n",
    "        ax1.plot(ref_image.catalog[\"x\"],ref_image.catalog[\"y\"],\"o\",markerfacecolor=\"none\",markeredgecolor=\"w\",ms=16)\n",
    "    plt.show()\n"
   ]
  },
  {
   "cell_type": "code",
   "execution_count": null,
   "id": "4c92c7a0-a7ed-48fb-b197-07c108653f2c",
   "metadata": {
    "tags": []
   },
   "outputs": [],
   "source": [
    "scraper = None"
   ]
  },
  {
   "cell_type": "code",
   "execution_count": null,
   "id": "9915fcc0-0be9-45c9-84b4-db298f4e8bde",
   "metadata": {
    "tags": []
   },
   "outputs": [],
   "source": [
    "import yaml\n",
    "from lvmtipo.scraper import Scraper\n",
    "\n",
    "tel=\"sci\"\n",
    "\n",
    "config = lambda tel: f\"\"\"\n",
    "lvm.{tel}.ag: null\n",
    "\"\"\"\n",
    "\n",
    "def handle_data(data):\n",
    "    # gets executed on scraper_event\n",
    "    if \"ag\" in data.sender and 'isreference' in data.keys():\n",
    "        isreference = data['isreference']\n",
    "        state = data['state']\n",
    "        filenames = data['filenames']\n",
    "        images = [Image.from_file(f) for f in filenames]\n",
    "        catalogs = [QTable.from_pandas(pd.DataFrame.from_dict(d, orient='index').T) for d in data['catalog']]\n",
    "        for idx, img in enumerate(images):\n",
    "            img.catalog = catalogs[idx]\n",
    "            images[idx] = img\n",
    "        if isreference:\n",
    "            handle_data.reference_images = images   \n",
    "        else:\n",
    "            correction = data['correction']\n",
    "        clear_output(wait=True)\n",
    "        \n",
    "        if not isreference:\n",
    "            print(correction)\n",
    "        print(filenames)\n",
    "        print(deserialize_skycoord(data[\"position\"]))\n",
    "        for idx, img in enumerate(images):\n",
    "            plot(img, handle_data.reference_images[idx] if handle_data.reference_images else None)\n",
    "\n",
    "handle_data.reference_images = None\n",
    "\n",
    "if scraper: await scraper.stop()\n",
    "scraper = await Scraper(yaml.safe_load(config(tel)), callback=handle_data).start()\n"
   ]
  },
  {
   "cell_type": "code",
   "execution_count": null,
   "id": "469bd4d6-b21a-470d-9eef-1336636a207f",
   "metadata": {},
   "outputs": [],
   "source": []
  }
 ],
 "metadata": {
  "kernelspec": {
   "display_name": "Python 3 (ipykernel)",
   "language": "python",
   "name": "python3"
  },
  "language_info": {
   "codemirror_mode": {
    "name": "ipython",
    "version": 3
   },
   "file_extension": ".py",
   "mimetype": "text/x-python",
   "name": "python",
   "nbconvert_exporter": "python",
   "pygments_lexer": "ipython3",
   "version": "3.10.9"
  }
 },
 "nbformat": 4,
 "nbformat_minor": 5
}
