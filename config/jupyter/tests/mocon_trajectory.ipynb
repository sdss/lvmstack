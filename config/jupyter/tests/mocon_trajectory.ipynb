{
 "cells": [
  {
   "cell_type": "code",
   "execution_count": 1,
   "id": "82995d70-3680-4ccf-a36f-4eed3bb6b5da",
   "metadata": {
    "tags": []
   },
   "outputs": [
    {
     "name": "stdout",
     "output_type": "stream",
     "text": [
      "{'Reachable': True, 'AtHome': True, 'Moving': False, 'PositionSwitchStatus': 254, 'Position': -135.0, 'DeviceEncoder': {'Position': 0.0, 'Unit': 'STEPS'}, 'Velocity': 0.0, 'AtLimit': False, 'CurrentTime': 1676765815992173.0, 'Simulate': True, 'SkyPA': -270.0}\n",
      "{'is_tracking': False, 'is_connected': True, 'is_slewing': False, 'is_enabled': True, 'ra_j2000_hours': 5.49142631101966, 'dec_j2000_degs': -74.0415599874499, 'ra_apparent_hours': 5.48212896637309, 'dec_apparent_degs': -74.0275786416657, 'altitude_degs': 45.0, 'azimuth_degs': 180.0, 'field_angle_rate_at_target_degs_per_sec': 0.0, 'field_angle_here_degs': 3.09300313421224e-05, 'field_angle_at_target_degs': 0.0, 'axis0': {'dist_to_target_arcsec': 0.0, 'is_enabled': True, 'position_degs': 180.0, 'rms_error_arcsec': 0.0, 'servo_error_arcsec': 0.0}, 'axis1': {'dist_to_target_arcsec': 0.0, 'is_enabled': True, 'position_degs': 45.0, 'rms_error_arcsec': 0.0, 'servo_error_arcsec': 0.0}, 'model': {'filename': '', 'num_points_enabled': 0, 'num_points_total': 0, 'rms_error_arcsec': 0.0}, 'geometry': 0}\n",
      "{'east': {'temperature': 25, 'cooler': nan, 'binning': [1, 1], 'area': [0, 0, 1600.0, 1100.0], 'state': 'online'}, 'center': {'temperature': 25, 'cooler': nan, 'binning': [1, 1], 'area': [0, 0, 3200.0, 2200.0], 'state': 'online'}, 'west': {'temperature': 25, 'cooler': nan, 'binning': [1, 1], 'area': [0, 0, 1600.0, 1100.0], 'state': 'online'}}\n",
      "{'east': {'temperature': 25, 'cooler': nan, 'binning': [1, 1], 'area': [0, 0, 1600.0, 1100.0], 'state': 'online'}}\n"
     ]
    }
   ],
   "source": [
    "import asyncio\n",
    "import math\n",
    "import numpy\n",
    "import astropy.coordinates\n",
    "import astropy.time\n",
    "import astropy.units as u\n",
    "\n",
    "from lvmtipo.site import Site\n",
    "from lvmtipo.siderostat import Siderostat\n",
    "from lvmtipo.fiber import Fiber\n",
    "from lvmtipo.target import Target\n",
    "from lvmtipo.actors import lvm\n",
    "\n",
    "device_module = 2\n",
    "derot_buffer = 600\n",
    "\n",
    "await lvm.sci.km.start()\n",
    "await lvm.sci.pwi.start()\n",
    "await lvm.sci.agc.start()\n",
    "await lvm.spec.agc.start()\n",
    "\n",
    "await lvm.sci.pwi.setConnected(True)\n",
    "await lvm.skye.pwi.start()\n",
    "await lvm.skye.pwi.setConnected(True, statusTick=1.0)\n",
    "\n",
    "print(await lvm.sci.km.status())\n",
    "print(await lvm.sci.pwi.status())\n",
    "print(await lvm.sci.agc.status())\n",
    "print(await lvm.spec.agc.status())"
   ]
  },
  {
   "cell_type": "code",
   "execution_count": 2,
   "id": "b806602d-80b0-427b-8a3d-1180599913b1",
   "metadata": {
    "tags": []
   },
   "outputs": [
    {
     "data": {
      "text/plain": [
       "{'is_tracking': False,\n",
       " 'is_connected': True,\n",
       " 'is_slewing': False,\n",
       " 'is_enabled': True,\n",
       " 'ra_j2000_hours': 5.49145363271117,\n",
       " 'dec_j2000_degs': -74.0415590994674,\n",
       " 'ra_apparent_hours': 5.48215626533269,\n",
       " 'dec_apparent_degs': -74.0275786416657,\n",
       " 'altitude_degs': 45.0,\n",
       " 'azimuth_degs': 180.0,\n",
       " 'field_angle_rate_at_target_degs_per_sec': 0.0,\n",
       " 'field_angle_here_degs': -1.58036228696702e-07,\n",
       " 'field_angle_at_target_degs': 0.0,\n",
       " 'axis0': {'dist_to_target_arcsec': 0.0,\n",
       "  'is_enabled': True,\n",
       "  'position_degs': 180.0,\n",
       "  'rms_error_arcsec': 0.0,\n",
       "  'servo_error_arcsec': 0.0},\n",
       " 'axis1': {'dist_to_target_arcsec': 0.0,\n",
       "  'is_enabled': True,\n",
       "  'position_degs': 45.0,\n",
       "  'rms_error_arcsec': 0.0,\n",
       "  'servo_error_arcsec': 0.0},\n",
       " 'model': {'filename': '',\n",
       "  'num_points_enabled': 0,\n",
       "  'num_points_total': 0,\n",
       "  'rms_error_arcsec': 0.0},\n",
       " 'geometry': 0}"
      ]
     },
     "execution_count": 2,
     "metadata": {},
     "output_type": "execute_result"
    }
   ],
   "source": [
    "await lvm.sci.pwi.status()"
   ]
  },
  {
   "cell_type": "code",
   "execution_count": 3,
   "id": "ba53ebf6-fe2b-4356-926d-12db8eb1edae",
   "metadata": {
    "tags": []
   },
   "outputs": [
    {
     "name": "stdout",
     "output_type": "stream",
     "text": [
      "['/data/lvm/sci/agcam/east/20230219/lvm.sci.agcam.east_00000019.fits', '/data/lvm/sci/agcam/center/20230219/lvm.sci.agcam.center_00000019.fits', '/data/lvm/sci/agcam/west/20230219/lvm.sci.agcam.west_00000019.fits', '/data/lvm/spec/agcam/east/20230219/lvm.spec.agcam.east_00000001.fits']\n"
     ]
    }
   ],
   "source": [
    "from IPython.display import clear_output\n",
    "from cluplus.proxy import invoke\n",
    "\n",
    "await lvm.sci.km.moveAbsolute(0, \"DEG\")\n",
    "\n",
    "exptime = 5\n",
    "rc = await invoke(lvm.sci.agc.expose(exptime), lvm.spec.agc.expose(exptime+0.5))\n",
    "filenames = rc.flatten().unpack(\"*.filename\") \n",
    "print(filenames)\n"
   ]
  },
  {
   "cell_type": "code",
   "execution_count": 4,
   "id": "8e41fbbb-7a4c-484f-9ab0-cb30f1236990",
   "metadata": {
    "tags": []
   },
   "outputs": [
    {
     "name": "stdout",
     "output_type": "stream",
     "text": [
      "['/data/lvm/sci/agcam/east/20230219/lvm.sci.agcam.east_00000020.fits', '/data/lvm/sci/agcam/center/20230219/lvm.sci.agcam.center_00000020.fits', '/data/lvm/sci/agcam/west/20230219/lvm.sci.agcam.west_00000020.fits', '/data/lvm/spec/agcam/east/20230219/lvm.spec.agcam.east_00000002.fits']\n"
     ]
    }
   ],
   "source": [
    "exptime = 1\n",
    "rc = await invoke(lvm.sci.agc.expose(exptime), lvm.spec.agc.expose(exptime+0.5))\n",
    "filenames = rc.flatten().unpack(\"*.filename\") \n",
    "print(filenames)"
   ]
  },
  {
   "cell_type": "code",
   "execution_count": null,
   "id": "98f58bc5-63a5-461b-9830-10cd3abec010",
   "metadata": {},
   "outputs": [],
   "source": [
    "\n",
    "azang = 180.0\n",
    "medSign = -1\n",
    "sid = Siderostat(azang=azang, medSign=medSign)\n",
    "homeOffset = 135.0\n",
    "homeIsWest = False\n",
    "geoloc = Site(name = \"MPIA\")\n",
    "\n",
    "ra_h, dec_d = (await lvm.sci.pwi.status()).flatten().unpack(\"ra_j2000_hours\", \"dec_j2000_degs\")\n",
    "\n",
    "targ = astropy.coordinates.SkyCoord(ra=ra_h, dec=dec_d, unit=(u.hourangle, u.deg))\n",
    "target = Target(targ)\n",
    "\n",
    "delta_time=30\n",
    "polynoms=10\n",
    "\n",
    "now = astropy.time.Time.now()\n",
    "traj = sid.mpiaMocon(geoloc, \n",
    "              target,\n",
    "              None,\n",
    "              deltaTime=delta_time,\n",
    "              homeIsWest=homeIsWest,\n",
    "              homeOffset=homeOffset,\n",
    "              polyN=polynoms,\n",
    "              time=now)\n",
    "\n",
    "print(targ)\n",
    "print(traj)"
   ]
  },
  {
   "cell_type": "code",
   "execution_count": null,
   "id": "4ae3f1b5-23e1-4b0d-ab6a-69e4c6264c80",
   "metadata": {},
   "outputs": [],
   "source": [
    "\n",
    "await lvm.sci.km.moveAbsolute(traj[0][2], \"STEPS\")\n",
    "\n",
    "# clear buffer\n",
    "try:\n",
    "   print(await lvm.sci.km.chat(1, 226, device_module))\n",
    "\n",
    "except Exception as ex:\n",
    "   pass\n",
    "\n",
    "# create buffer\n",
    "#print (await lvm.sci.km.chat(1, 220, device_module, derot_buffer))\n",
    "print (await lvm.sci.km.chat(1, 220, device_module, derot_buffer, 0))\n",
    "\n",
    "# upload trajectory\n",
    "for i, t in enumerate(traj):\n",
    "#   print (await lvm.sci.km.chat(1, 221, device_module, 0, f\"{i} {t[0]} {t[1]} {t[2]} {t[3]} {t[4]}\"))\n",
    "   print (await lvm.sci.km.chat(1, 221, device_module, 0, f\"{i} {t[0]} {t[1]} {t[2]}\"))\n",
    "\n",
    "# start profile\n",
    "print(await lvm.sci.km.chat(1, 222, device_module, 0))\n"
   ]
  },
  {
   "cell_type": "code",
   "execution_count": null,
   "id": "008ea53c-464a-4df0-8b9e-8343918b7037",
   "metadata": {},
   "outputs": [],
   "source": [
    "from IPython.display import clear_output\n",
    "from cluplus.proxy import invoke\n",
    "\n",
    "exptime = 5\n",
    "moidx = 0\n",
    "\n",
    "while moidx < len(traj):\n",
    "    try:\n",
    "#        clear_output(wait=True)\n",
    "        rc = (await lvm.sci.km.chat(1, 225, device_module)).unpack()\n",
    "        moidx = int(rc[0].split(' ')[-1])\n",
    "        print(f\"{moidx} {(await lvm.sci.km.getPosition()).unpack()}\")\n",
    "#        await asyncio.sleep(1.0)\n",
    "        rc = await invoke(lvm.sci.agc.expose(exptime), lvm.spec.agc.expose(exptime+0.5))\n",
    "        filenames = rc.flatten().unpack(\"*.filename\") \n",
    "        print(filenames)\n",
    "        \n",
    "    except Exception as ex:\n",
    "       print(ex)\n",
    "#       break\n"
   ]
  },
  {
   "cell_type": "code",
   "execution_count": null,
   "id": "ed1a31d4-32f7-4203-b672-88efdad72e9a",
   "metadata": {},
   "outputs": [],
   "source": [
    "print(await lvm.sci.km.chat(1, 224, device_module))"
   ]
  },
  {
   "cell_type": "code",
   "execution_count": null,
   "id": "c349dd75-27c7-44c9-9253-c15e9a9778b6",
   "metadata": {},
   "outputs": [],
   "source": [
    "from IPython.display import clear_output\n",
    "from cluplus.proxy import invoke\n",
    "\n",
    "exptime=5.0\n",
    "\n",
    "for i in range(20):\n",
    "    try:\n",
    "        rc = await invoke(lvm.sci.agc.expose(exptime), lvm.spec.agc.expose(exptime+0.5))\n",
    "        filenames = rc.flatten().unpack(\"*.filename\") \n",
    "        print(filenames)\n",
    "        \n",
    "    except Exception as ex:\n",
    "       print(ex)\n"
   ]
  },
  {
   "cell_type": "code",
   "execution_count": 138,
   "id": "5026aa8a-9d62-4cad-82cf-900e1f8509ab",
   "metadata": {},
   "outputs": [
    {
     "data": {
      "text/plain": [
       "{'Reachable': True,\n",
       " 'AtHome': False,\n",
       " 'Moving': False,\n",
       " 'PositionSwitchStatus': 0,\n",
       " 'Position': 83.98016664476864,\n",
       " 'DeviceEncoder': {'Position': 3941643.0, 'Unit': 'STEPS'},\n",
       " 'Velocity': 0.0,\n",
       " 'AtLimit': False,\n",
       " 'CurrentTime': 164209029.0,\n",
       " 'Simulate': False,\n",
       " 'SkyPA': 167.9603333289537}"
      ]
     },
     "execution_count": 138,
     "metadata": {},
     "output_type": "execute_result"
    }
   ],
   "source": [
    "ra_h, dec_d = (await lvm.sci.pwi.status()).flatten().unpack(\"ra_j2000_hours\", \"dec_j2000_degs\")\n",
    "\n",
    "await lvm.sci.km.slewStart(ra_h, dec_d)"
   ]
  },
  {
   "cell_type": "code",
   "execution_count": 139,
   "id": "dbf67d07-1b2f-47ef-b1fb-eb8fc545cac2",
   "metadata": {},
   "outputs": [
    {
     "data": {
      "text/plain": [
       "{'Reachable': True,\n",
       " 'AtHome': False,\n",
       " 'Moving': False,\n",
       " 'PositionSwitchStatus': 0,\n",
       " 'Position': 81.76422220054579,\n",
       " 'DeviceEncoder': {'Position': 3901756.0, 'Unit': 'STEPS'},\n",
       " 'Velocity': 0.0,\n",
       " 'AtLimit': False,\n",
       " 'CurrentTime': 167678999.0,\n",
       " 'Simulate': False,\n",
       " 'SkyPA': 163.52844444010918}"
      ]
     },
     "execution_count": 139,
     "metadata": {},
     "output_type": "execute_result"
    }
   ],
   "source": [
    "await lvm.sci.km.slewStop()\n"
   ]
  },
  {
   "cell_type": "code",
   "execution_count": 132,
   "id": "ed42127a-b8c4-4c60-b8ee-6577a0ce7812",
   "metadata": {},
   "outputs": [
    {
     "data": {
      "text/plain": [
       "{'Moving': False}"
      ]
     },
     "execution_count": 132,
     "metadata": {},
     "output_type": "execute_result"
    }
   ],
   "source": [
    "await lvm.sci.km.isMoving()"
   ]
  },
  {
   "cell_type": "code",
   "execution_count": 133,
   "id": "d0e51b85-394f-45eb-81c7-7b71459392cc",
   "metadata": {},
   "outputs": [
    {
     "data": {
      "text/plain": [
       "{'Reachable': True,\n",
       " 'AtHome': False,\n",
       " 'Moving': False,\n",
       " 'PositionSwitchStatus': 0,\n",
       " 'Position': -53.03816667486285,\n",
       " 'DeviceEncoder': {'Position': 1475313.0, 'Unit': 'STEPS'},\n",
       " 'Velocity': 0.0,\n",
       " 'AtLimit': False,\n",
       " 'CurrentTime': 162699831.0,\n",
       " 'Simulate': False,\n",
       " 'SkyPA': -106.07633333497256}"
      ]
     },
     "execution_count": 133,
     "metadata": {},
     "output_type": "execute_result"
    }
   ],
   "source": [
    "await lvm.sci.km.status()"
   ]
  },
  {
   "cell_type": "code",
   "execution_count": null,
   "id": "05166bc0-cafa-4a16-a72d-70cb5a77a9af",
   "metadata": {},
   "outputs": [],
   "source": []
  }
 ],
 "metadata": {
  "kernelspec": {
   "display_name": "Python 3 (ipykernel)",
   "language": "python",
   "name": "python3"
  },
  "language_info": {
   "codemirror_mode": {
    "name": "ipython",
    "version": 3
   },
   "file_extension": ".py",
   "mimetype": "text/x-python",
   "name": "python",
   "nbconvert_exporter": "python",
   "pygments_lexer": "ipython3",
   "version": "3.10.9"
  }
 },
 "nbformat": 4,
 "nbformat_minor": 5
}
