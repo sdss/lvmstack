{
 "cells": [
  {
   "cell_type": "code",
   "execution_count": null,
   "id": "858151c3-ad3f-43dc-a388-f7e1bf6edf6c",
   "metadata": {
    "tags": []
   },
   "outputs": [],
   "source": [
    "from lvmtipo.actors import lvm\n",
    "from cluplus.proxy import invoke\n",
    "\n",
    "from lvmagp.images import Image\n",
    "from lvm.plotimg import plot_images"
   ]
  },
  {
   "cell_type": "code",
   "execution_count": null,
   "id": "62f99f5d-b702-43ad-a45f-17416e0d5652",
   "metadata": {
    "tags": []
   },
   "outputs": [],
   "source": [
    "from lvmtipo.actors import lvm\n",
    "\n",
    "cams = lvm.sci.agc\n",
    "await cams.start()\n",
    "#await cams.reconnect()\n",
    "await cams.status()\n"
   ]
  },
  {
   "cell_type": "code",
   "execution_count": null,
   "id": "da4051d8-3885-4213-ad15-7f4bbfaad3a1",
   "metadata": {},
   "outputs": [],
   "source": [
    "exptime=0.1"
   ]
  },
  {
   "cell_type": "code",
   "execution_count": null,
   "id": "7d2e6318-0fca-46bb-a971-c4e7500db904",
   "metadata": {
    "tags": []
   },
   "outputs": [],
   "source": [
    "rc = await cams.expose( exptime)\n",
    "filenames = rc.flatten().unpack(\"*.filename\")\n",
    "images = [Image.from_file(f) for f in filenames]\n",
    "plot_images(images)"
   ]
  },
  {
   "cell_type": "code",
   "execution_count": null,
   "id": "28b8d48f-223c-4d3b-82d2-9cbe96d0cdee",
   "metadata": {},
   "outputs": [],
   "source": []
  }
 ],
 "metadata": {
  "kernelspec": {
   "display_name": "Python 3 (ipykernel)",
   "language": "python",
   "name": "python3"
  },
  "language_info": {
   "codemirror_mode": {
    "name": "ipython",
    "version": 3
   },
   "file_extension": ".py",
   "mimetype": "text/x-python",
   "name": "python",
   "nbconvert_exporter": "python",
   "pygments_lexer": "ipython3",
   "version": "3.10.9"
  }
 },
 "nbformat": 4,
 "nbformat_minor": 5
}
