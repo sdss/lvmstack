{
 "cells": [
  {
   "cell_type": "code",
   "execution_count": 1,
   "id": "858151c3-ad3f-43dc-a388-f7e1bf6edf6c",
   "metadata": {
    "tags": []
   },
   "outputs": [],
   "source": [
    "from lvmtipo.actors import lvm\n",
    "from cluplus.proxy import invoke\n",
    "\n",
    "from lvmagp.images import Image\n",
    "from plotimg import plot_images"
   ]
  },
  {
   "cell_type": "code",
   "execution_count": 2,
   "id": "6e206b0c-4f34-45a9-b275-df83f2f0fb6b",
   "metadata": {
    "tags": []
   },
   "outputs": [
    {
     "data": {
      "text/plain": [
       "[{'east': {'temperature': 46.375,\n",
       "   'cooler': nan,\n",
       "   'binning': [1, 1],\n",
       "   'area': [1600, 1100],\n",
       "   'state': 'online'},\n",
       "  'center': {'temperature': 48.0,\n",
       "   'cooler': nan,\n",
       "   'binning': [1, 1],\n",
       "   'area': [3208, 2200],\n",
       "   'state': 'online'}},\n",
       " {'east': {'temperature': 44.5,\n",
       "   'cooler': nan,\n",
       "   'binning': [1, 1],\n",
       "   'area': [1600, 1100],\n",
       "   'state': 'online'},\n",
       "  'west': {'temperature': 45.0,\n",
       "   'cooler': nan,\n",
       "   'binning': [1, 1],\n",
       "   'area': [1600, 1100],\n",
       "   'state': 'online'}},\n",
       " {'east': {'temperature': 45.0,\n",
       "   'cooler': nan,\n",
       "   'binning': [1, 1],\n",
       "   'area': [1600, 1100],\n",
       "   'state': 'online'},\n",
       "  'west': {'temperature': 42.875,\n",
       "   'cooler': nan,\n",
       "   'binning': [1, 1],\n",
       "   'area': [1600, 1100],\n",
       "   'state': 'online'}},\n",
       " {'east': {'temperature': 42.75,\n",
       "   'cooler': nan,\n",
       "   'binning': [1, 1],\n",
       "   'area': [1600, 1100],\n",
       "   'state': 'online'}}]"
      ]
     },
     "execution_count": 2,
     "metadata": {},
     "output_type": "execute_result"
    }
   ],
   "source": [
    "await invoke(lvm.sci.agc.start(), lvm.skyw.agc.start(), lvm.skye.agc.start(), lvm.spec.agc.start())\n",
    "await invoke(lvm.sci.agc.status(), lvm.skyw.agc.status(), lvm.skye.agc.status(), lvm.spec.agc.status())"
   ]
  },
  {
   "cell_type": "code",
   "execution_count": null,
   "id": "7826afb9-277f-4796-966c-6054202c58b5",
   "metadata": {},
   "outputs": [],
   "source": []
  }
 ],
 "metadata": {
  "kernelspec": {
   "display_name": "Python 3 (ipykernel)",
   "language": "python",
   "name": "python3"
  },
  "language_info": {
   "codemirror_mode": {
    "name": "ipython",
    "version": 3
   },
   "file_extension": ".py",
   "mimetype": "text/x-python",
   "name": "python",
   "nbconvert_exporter": "python",
   "pygments_lexer": "ipython3",
   "version": "3.10.9"
  }
 },
 "nbformat": 4,
 "nbformat_minor": 5
}
