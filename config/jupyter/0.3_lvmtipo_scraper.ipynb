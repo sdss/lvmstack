{
 "cells": [
  {
   "cell_type": "code",
   "execution_count": 16,
   "id": "eaa54ff8-579b-421a-9445-f5a96649f507",
   "metadata": {},
   "outputs": [],
   "source": [
    "import yaml\n",
    "from lvmtipo.scraper import Scraper\n",
    "\n",
    "config = \"\"\"\n",
    "lvm.sci.pwi:\n",
    "    ra_j2000_hours: ra_j2000_h\n",
    "    dec_j2000_degs: dec_j2000_d\n",
    "    altitude_degs: altitude_d\n",
    "    azimuth_degs: azimuth_d\n",
    "\n",
    "lvm.sci.foc:\n",
    "    Position: sci:foc_dt\n",
    "\n",
    "lvm.sci.km:\n",
    "    Position: sci:km_d\n",
    "    SkyPA: sci:sky_d\n",
    "\n",
    "lvm.sci.agcam:\n",
    "    east.temperature: east.temp\n",
    "    east.filename: east.file\n",
    "    west.temperature: west.temp\n",
    "    west.filename: west.file\n",
    "    center.temperature: center.temp\n",
    "    center.filename: center.file\n",
    "\"\"\"\n",
    "\n",
    "scraper = await Scraper(yaml.safe_load(config)).start()\n"
   ]
  },
  {
   "cell_type": "code",
   "execution_count": 17,
   "id": "fba13f87-41ae-4dd9-af74-6311ed9b01db",
   "metadata": {},
   "outputs": [
    {
     "name": "stdout",
     "output_type": "stream",
     "text": [
      "2023-02-09 14:01:54       sci:km_d: 63.1376\n",
      "2023-02-09 14:01:54      sci:sky_d: 126.2752\n",
      "2023-02-09 14:01:55     ra_j2000_h: 18.4031\n",
      "2023-02-09 14:01:55    dec_j2000_d: -34.3855\n",
      "2023-02-09 14:01:55     altitude_d: 84.1470\n",
      "2023-02-09 14:01:55      azimuth_d: 202.9711\n",
      "2023-02-09 14:01:55     sci:foc_dt: 70.0000\n",
      "2023-02-09 14:01:55      east.temp: 25.0000\n",
      "2023-02-09 14:01:55    center.temp: 25.0000\n",
      "2023-02-09 14:01:55      west.temp: 25.0000\n"
     ]
    }
   ],
   "source": [
    "from lvmtipo.actors import lvm\n",
    "\n",
    "await lvm.sci.start()\n",
    "\n",
    "await lvm.sci.km.status()\n",
    "await lvm.sci.foc.status()\n",
    "await lvm.sci.pwi.status()\n",
    "await lvm.sci.agc.status()\n",
    "\n",
    "for k, v in scraper.scraper_store.items():\n",
    "    print(f\"{v[1]} {k:>14}: {v[0]:.4f}\")"
   ]
  },
  {
   "cell_type": "code",
   "execution_count": null,
   "id": "5509fffd-fcc6-4d5a-94bf-b2712dd4c76c",
   "metadata": {},
   "outputs": [],
   "source": []
  }
 ],
 "metadata": {
  "kernelspec": {
   "display_name": "Python 3 (ipykernel)",
   "language": "python",
   "name": "python3"
  },
  "language_info": {
   "codemirror_mode": {
    "name": "ipython",
    "version": 3
   },
   "file_extension": ".py",
   "mimetype": "text/x-python",
   "name": "python",
   "nbconvert_exporter": "python",
   "pygments_lexer": "ipython3",
   "version": "3.10.8"
  }
 },
 "nbformat": 4,
 "nbformat_minor": 5
}
