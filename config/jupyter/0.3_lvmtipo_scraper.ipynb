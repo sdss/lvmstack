{
 "cells": [
  {
   "cell_type": "code",
   "execution_count": 1,
   "id": "eaa54ff8-579b-421a-9445-f5a96649f507",
   "metadata": {
    "tags": []
   },
   "outputs": [],
   "source": [
    "import yaml\n",
    "from lvmtipo.scraper import Scraper\n",
    "\n",
    "config = \"\"\"\n",
    "lvm.sci.pwi:\n",
    "    ra_j2000_hours: ra_j2000_h\n",
    "    dec_j2000_degs: dec_j2000_d\n",
    "    altitude_degs: altitude_d\n",
    "    azimuth_degs: azimuth_d\n",
    "\n",
    "lvm.sci.foc:\n",
    "    Position: foc_dt\n",
    "\n",
    "lvm.sci.km:\n",
    "    Position: km_d\n",
    "    SkyPA: sky_d\n",
    "\n",
    "lvm.sci.agcam:\n",
    "    east.temperature: east.temp\n",
    "    east.filename: east.file\n",
    "    west.temperature: west.temp\n",
    "    west.filename: west.file\n",
    "    center.temperature: center.temp\n",
    "    center.filename: center.file\n",
    "\"\"\"\n",
    "\n",
    "scraper = await Scraper(yaml.safe_load(config)).start()\n"
   ]
  },
  {
   "cell_type": "code",
   "execution_count": 2,
   "id": "fba13f87-41ae-4dd9-af74-6311ed9b01db",
   "metadata": {
    "tags": []
   },
   "outputs": [
    {
     "name": "stdout",
     "output_type": "stream",
     "text": [
      "2023-02-20 21:05:57           km_d: -135.0000\n",
      "2023-02-20 21:05:57          sky_d: -270.0000\n",
      "2023-02-20 21:05:57         foc_dt: 40.0000\n",
      "2023-02-20 21:07:05     ra_j2000_h: 0.0000\n",
      "2023-02-20 21:07:05    dec_j2000_d: 0.0000\n",
      "2023-02-20 21:07:05     altitude_d: 0.0000\n",
      "2023-02-20 21:07:05      azimuth_d: 0.0000\n",
      "2023-02-20 21:05:57      east.temp: 48.8750\n",
      "2023-02-20 21:05:57    center.temp: 49.8750\n",
      "2023-02-20 21:05:57      west.temp: 47.7500\n"
     ]
    }
   ],
   "source": [
    "from lvmtipo.actors import lvm\n",
    "\n",
    "await lvm.sci.start()\n",
    "\n",
    "await lvm.sci.km.status()\n",
    "await lvm.sci.foc.status()\n",
    "await lvm.sci.pwi.status()\n",
    "await lvm.sci.agc.status()\n",
    "\n",
    "for k, v in scraper.scraper_store.items():\n",
    "    print(f\"{v[1]} {k:>14}: {v[0]:.4f}\")"
   ]
  },
  {
   "cell_type": "code",
   "execution_count": 3,
   "id": "7e402a72-897e-4b86-95d4-9106f95d2faf",
   "metadata": {
    "tags": []
   },
   "outputs": [
    {
     "name": "stdout",
     "output_type": "stream",
     "text": [
      "2023-02-20 21:05:57           km_d: -135.0000\n",
      "2023-02-20 21:05:57          sky_d: -270.0000\n",
      "2023-02-20 21:05:57         foc_dt: 40.0000\n",
      "2023-02-20 21:07:05     ra_j2000_h: 0.0000\n",
      "2023-02-20 21:07:05    dec_j2000_d: 0.0000\n",
      "2023-02-20 21:07:05     altitude_d: 0.0000\n",
      "2023-02-20 21:07:05      azimuth_d: 0.0000\n",
      "2023-02-20 21:05:57      east.temp: 48.8750\n",
      "2023-02-20 21:05:57    center.temp: 49.8750\n",
      "2023-02-20 21:05:57      west.temp: 47.7500\n"
     ]
    }
   ],
   "source": [
    "for k, v in scraper.scraper_store.items():\n",
    "    print(f\"{v[1]} {k:>14}: {v[0]:.4f}\")"
   ]
  },
  {
   "cell_type": "code",
   "execution_count": null,
   "id": "493babdd-0b0c-4bbe-b3d9-0ffec895ef4e",
   "metadata": {},
   "outputs": [],
   "source": []
  }
 ],
 "metadata": {
  "kernelspec": {
   "display_name": "Python 3 (ipykernel)",
   "language": "python",
   "name": "python3"
  },
  "language_info": {
   "codemirror_mode": {
    "name": "ipython",
    "version": 3
   },
   "file_extension": ".py",
   "mimetype": "text/x-python",
   "name": "python",
   "nbconvert_exporter": "python",
   "pygments_lexer": "ipython3",
   "version": "3.10.9"
  }
 },
 "nbformat": 4,
 "nbformat_minor": 5
}
