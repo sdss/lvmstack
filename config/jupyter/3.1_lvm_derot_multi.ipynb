{
 "cells": [
  {
   "cell_type": "code",
   "execution_count": 5,
   "id": "2ef2b78e-b15e-4ac9-bf89-f5c6dab3b821",
   "metadata": {
    "tags": []
   },
   "outputs": [
    {
     "data": {
      "text/plain": [
       "[{'is_connected': True}, {'is_connected': True}, {'is_connected': True}]"
      ]
     },
     "execution_count": 5,
     "metadata": {},
     "output_type": "execute_result"
    }
   ],
   "source": [
    "from lvmtipo.actors import lvm\n",
    "from cluplus.proxy import invoke\n",
    "from pprint import pprint \n",
    "\n",
    "tels = [lvm.sci, lvm.skye, lvm.skyw]\n",
    "\n",
    "await invoke(*[t.start() for t in tels])\n",
    "await invoke(*[t.pwi.setConnected(True) for t in tels])\n",
    "\n",
    "#rc = await invoke(*[t.pwi.status() for t in tels], return_exceptions=True)\n",
    "#pprint(rc)\n",
    "#pprint(await invoke(*[t.km.status() for t in tels], return_exceptions=True))\n"
   ]
  },
  {
   "cell_type": "code",
   "execution_count": 19,
   "id": "414ce7d8-2f41-4b9e-8027-48e25fc82f8c",
   "metadata": {
    "tags": []
   },
   "outputs": [
    {
     "data": {
      "text/plain": [
       "[{'Reachable': True,\n",
       "  'AtHome': False,\n",
       "  'Moving': False,\n",
       "  'PositionSwitchStatus': 0,\n",
       "  'Position': 81.86311108942479,\n",
       "  'DeviceEncoder': {'Position': 3903536.0, 'Unit': 'STEPS'},\n",
       "  'Velocity': 0.0,\n",
       "  'AtLimit': False,\n",
       "  'CurrentTime': 130534376.0,\n",
       "  'Simulate': False,\n",
       "  'SkyPA': 163.72622221788498},\n",
       " {'Reachable': True,\n",
       "  'AtHome': False,\n",
       "  'Moving': False,\n",
       "  'PositionSwitchStatus': 0,\n",
       "  'Position': -67.63583334006975,\n",
       "  'DeviceEncoder': {'Position': 1212555.0, 'Unit': 'STEPS'},\n",
       "  'Velocity': 0.0,\n",
       "  'AtLimit': False,\n",
       "  'CurrentTime': 130529203.0,\n",
       "  'Simulate': False,\n",
       "  'SkyPA': -135.27166666801395},\n",
       " {'Reachable': True,\n",
       "  'AtHome': False,\n",
       "  'Moving': False,\n",
       "  'PositionSwitchStatus': 0,\n",
       "  'Position': -67.57394445118705,\n",
       "  'DeviceEncoder': {'Position': 1213669.0, 'Unit': 'STEPS'},\n",
       "  'Velocity': 0.0,\n",
       "  'AtLimit': False,\n",
       "  'CurrentTime': 130529176.0,\n",
       "  'Simulate': False,\n",
       "  'SkyPA': -135.14788889023743}]"
      ]
     },
     "execution_count": 19,
     "metadata": {},
     "output_type": "execute_result"
    }
   ],
   "source": [
    "# start slewing tels km\n",
    "reply = await invoke(*[t.pwi.status() for t in tels], return_exceptions=True)\n",
    "radec = [ r.unpack(\"ra_j2000_hours\", \"dec_j2000_degs\") for r in reply]\n",
    "await invoke(* [t.km.slewStart(* radec[i]) for i, t in enumerate(tels)])\n"
   ]
  },
  {
   "cell_type": "code",
   "execution_count": 20,
   "id": "66b78c5a-4245-4e65-87a3-a8c7bb006bf3",
   "metadata": {
    "tags": []
   },
   "outputs": [
    {
     "data": {
      "text/plain": [
       "[{'Reachable': True,\n",
       "  'AtHome': False,\n",
       "  'Moving': False,\n",
       "  'PositionSwitchStatus': 0,\n",
       "  'Position': 81.92933331164039,\n",
       "  'DeviceEncoder': {'Position': 3904728.0, 'Unit': 'STEPS'},\n",
       "  'Velocity': 0.0,\n",
       "  'AtLimit': False,\n",
       "  'CurrentTime': 130556386.0,\n",
       "  'Simulate': False,\n",
       "  'SkyPA': 163.85866666232806},\n",
       " {'Reachable': True,\n",
       "  'AtHome': False,\n",
       "  'Moving': False,\n",
       "  'PositionSwitchStatus': 0,\n",
       "  'Position': -67.58766667340791,\n",
       "  'DeviceEncoder': {'Position': 1213422.0, 'Unit': 'STEPS'},\n",
       "  'Velocity': 0.0,\n",
       "  'AtLimit': False,\n",
       "  'CurrentTime': 130556335.0,\n",
       "  'Simulate': False,\n",
       "  'SkyPA': -135.17533333468157},\n",
       " {'Reachable': True,\n",
       "  'AtHome': False,\n",
       "  'Moving': False,\n",
       "  'PositionSwitchStatus': 0,\n",
       "  'Position': -67.52594445119185,\n",
       "  'DeviceEncoder': {'Position': 1214533.0, 'Unit': 'STEPS'},\n",
       "  'Velocity': 0.0,\n",
       "  'AtLimit': False,\n",
       "  'CurrentTime': 130556252.0,\n",
       "  'Simulate': False,\n",
       "  'SkyPA': -135.05188889023836}]"
      ]
     },
     "execution_count": 20,
     "metadata": {},
     "output_type": "execute_result"
    }
   ],
   "source": [
    "await invoke(*[t.km.slewStop() for t in tels], return_exceptions=True)"
   ]
  },
  {
   "cell_type": "code",
   "execution_count": null,
   "id": "fcc8c0ae-9745-44cd-9ab8-8c11213fe348",
   "metadata": {},
   "outputs": [],
   "source": []
  }
 ],
 "metadata": {
  "kernelspec": {
   "display_name": "Python 3 (ipykernel)",
   "language": "python",
   "name": "python3"
  },
  "language_info": {
   "codemirror_mode": {
    "name": "ipython",
    "version": 3
   },
   "file_extension": ".py",
   "mimetype": "text/x-python",
   "name": "python",
   "nbconvert_exporter": "python",
   "pygments_lexer": "ipython3",
   "version": "3.10.9"
  }
 },
 "nbformat": 4,
 "nbformat_minor": 5
}
