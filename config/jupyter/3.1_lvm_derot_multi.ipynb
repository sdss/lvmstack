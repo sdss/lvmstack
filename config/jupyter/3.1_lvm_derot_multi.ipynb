{
 "cells": [
  {
   "cell_type": "code",
   "execution_count": null,
   "id": "2ef2b78e-b15e-4ac9-bf89-f5c6dab3b821",
   "metadata": {
    "tags": []
   },
   "outputs": [],
   "source": [
    "from lvmtipo.actors import lvm\n",
    "from cluplus.proxy import invoke, Proxy\n",
    "from pprint import pprint \n",
    "\n",
    "tels = [lvm.sci, lvm.skye, lvm.skyw, lvm.skyw]\n",
    "\n",
    "rc=await invoke(*[t.start() for t in tels])\n",
    "await invoke(*[t.pwi.setConnected(True) for t in tels])\n",
    "\n",
    "rc = await invoke(*[t.pwi.status() for t in tels], return_exceptions=True)\n",
    "\n",
    "pprint(rc)\n",
    "pprint(await invoke(*[t.km.status() for t in tels], return_exceptions=True))\n"
   ]
  },
  {
   "cell_type": "code",
   "execution_count": null,
   "id": "414ce7d8-2f41-4b9e-8027-48e25fc82f8c",
   "metadata": {
    "tags": []
   },
   "outputs": [],
   "source": [
    "# start slewing tels km\n",
    "reply = await invoke(*[t.pwi.status() for t in tels], return_exceptions=True)\n",
    "radec = [ r.unpack(\"ra_j2000_hours\", \"dec_j2000_degs\") for r in reply]\n",
    "await invoke(* [t.km.slewStart(* radec[i]) for i, t in enumerate(tels)])\n"
   ]
  },
  {
   "cell_type": "code",
   "execution_count": null,
   "id": "66b78c5a-4245-4e65-87a3-a8c7bb006bf3",
   "metadata": {
    "tags": []
   },
   "outputs": [],
   "source": [
    "await invoke(*[t.km.slewStop() for t in tels], return_exceptions=True)"
   ]
  }
 ],
 "metadata": {
  "kernelspec": {
   "display_name": "Python 3 (ipykernel)",
   "language": "python",
   "name": "python3"
  },
  "language_info": {
   "codemirror_mode": {
    "name": "ipython",
    "version": 3
   },
   "file_extension": ".py",
   "mimetype": "text/x-python",
   "name": "python",
   "nbconvert_exporter": "python",
   "pygments_lexer": "ipython3",
   "version": "3.10.9"
  }
 },
 "nbformat": 4,
 "nbformat_minor": 5
}
