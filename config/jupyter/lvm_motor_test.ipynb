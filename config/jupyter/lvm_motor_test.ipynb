{
 "cells": [
  {
   "cell_type": "code",
   "execution_count": 2,
   "id": "a5472486-f511-43c2-9061-e999aec8c406",
   "metadata": {},
   "outputs": [
    {
     "data": {
      "text/plain": [
       "<cluplus.proxy.Proxy at 0x7fe06a967e80>"
      ]
     },
     "execution_count": 2,
     "metadata": {},
     "output_type": "execute_result"
    }
   ],
   "source": [
    "from lvmtipo.actors import lvm\n",
    "\n",
    "await lvm.sci.foc.start()\n",
    "await lvm.sci.km.start()\n",
    "await lvm.spec.fibsel.start()\n"
   ]
  },
  {
   "cell_type": "code",
   "execution_count": null,
   "id": "e3776e5d-2d3d-4162-a8e5-50d24f7fc03b",
   "metadata": {},
   "outputs": [],
   "source": [
    "print(await lvm.sci.foc.moveToHome())\n",
    "#print(await lvm.sci.foc.moveToLimit(1))\n",
    "#print(await lvm.sci.foc.moveToLimit(-1))\n",
    "print(await lvm.sci.foc.moveRelative(0.5))\n",
    "print(await lvm.sci.foc.moveRelative(-0.5))"
   ]
  },
  {
   "cell_type": "code",
   "execution_count": 3,
   "id": "d491f267-8544-4428-9819-6ad40e8a4adf",
   "metadata": {},
   "outputs": [
    {
     "name": "stdout",
     "output_type": "stream",
     "text": [
      "{'Reachable': True, 'AtHome': False, 'Moving': False, 'PositionSwitchStatus': 0, 'Position': 44.99999998199999, 'DeviceEncoder': {'Position': 3240000.0, 'Unit': 'STEPS'}, 'Velocity': 0.0, 'AtLimit': False, 'CurrentTime': 1168260745.0, 'Simulate': False, 'SkyPA': 89.99999999639999}\n"
     ]
    }
   ],
   "source": [
    "#print(await lvm.sci.km.moveToHome())\n",
    "#print(await lvm.sci.km.moveAbsolute(30))\n",
    "print(await lvm.sci.km.moveAbsolute(45, \"DEG\"))\n",
    "\n",
    "#print(await lvm.sci.km.moveToLimit(-1))\n",
    "#print(await lvm.sci.km.moveToLimit(1))\n"
   ]
  },
  {
   "cell_type": "code",
   "execution_count": null,
   "id": "4ec29f3b-bba4-4dd2-b0eb-fac5521a7ef8",
   "metadata": {},
   "outputs": [],
   "source": [
    "print(await lvm.spec.fibsel.moveToHome())\n",
    "print(await lvm.spec.fibsel.moveRelative(-100))\n",
    "print(await lvm.spec.fibsel.moveRelative(100))"
   ]
  },
  {
   "cell_type": "code",
   "execution_count": null,
   "id": "83a88701-80fe-4917-b26e-15243822c866",
   "metadata": {},
   "outputs": [],
   "source": [
    "from lvmtipo.actors import lvm\n",
    "\n",
    "await lvm.sci.km.start()\n"
   ]
  },
  {
   "cell_type": "code",
   "execution_count": null,
   "id": "019e338b-065f-4001-afad-f9aeac3acc73",
   "metadata": {},
   "outputs": [],
   "source": [
    "#await lvm.sci.km.moveToHome()\n",
    "#await lvm.skye.km.moveRelative(-100)\n",
    "\n",
    "await lvm.sci.km.slewStart(13., 49.)\n"
   ]
  },
  {
   "cell_type": "code",
   "execution_count": null,
   "id": "d289d3f6-b460-4165-b4be-0bc2159e0759",
   "metadata": {},
   "outputs": [],
   "source": [
    "await lvm.sci.ag.start()\n",
    "await lvm.sci.ag.guideStart(pause=True, force=True)\n",
    "\n",
    "await lvm.sci.pwi.start()\n"
   ]
  },
  {
   "cell_type": "code",
   "execution_count": null,
   "id": "8848ff7e-f550-41bf-9104-3fcd4431d4f9",
   "metadata": {},
   "outputs": [],
   "source": [
    "await lvm.sci.pwi.stop()"
   ]
  },
  {
   "cell_type": "code",
   "execution_count": null,
   "id": "a28bc7e7-917c-4df8-b746-adec85266bea",
   "metadata": {},
   "outputs": [],
   "source": [
    "ra_off_d = 10\n",
    "dec_off_d = 0\n",
    "\n",
    "await lvm.sci.pwi.offset(ra_add_arcsec = ra_off_d, dec_add_arcsec = dec_off_d)\n"
   ]
  },
  {
   "cell_type": "code",
   "execution_count": null,
   "id": "e08456c6-cf60-47a1-867b-525f28a00e35",
   "metadata": {},
   "outputs": [],
   "source": [
    "await lvm.sci.km.slewStop()"
   ]
  },
  {
   "cell_type": "code",
   "execution_count": null,
   "id": "0b045732-02c0-4055-9041-383a79e141fd",
   "metadata": {},
   "outputs": [],
   "source": []
  }
 ],
 "metadata": {
  "kernelspec": {
   "display_name": "Python 3 (ipykernel)",
   "language": "python",
   "name": "python3"
  },
  "language_info": {
   "codemirror_mode": {
    "name": "ipython",
    "version": 3
   },
   "file_extension": ".py",
   "mimetype": "text/x-python",
   "name": "python",
   "nbconvert_exporter": "python",
   "pygments_lexer": "ipython3",
   "version": "3.10.8"
  }
 },
 "nbformat": 4,
 "nbformat_minor": 5
}
