{
 "cells": [
  {
   "cell_type": "code",
   "execution_count": 16,
   "id": "a5472486-f511-43c2-9061-e999aec8c406",
   "metadata": {},
   "outputs": [
    {
     "data": {
      "text/plain": [
       "<cluplus.proxy.Proxy at 0x7fbbf02c9450>"
      ]
     },
     "execution_count": 16,
     "metadata": {},
     "output_type": "execute_result"
    }
   ],
   "source": [
    "from lvmtipo.actors import lvm\n",
    "\n",
    "await lvm.sci.foc.start()\n",
    "await lvm.sci.km.start()\n",
    "await lvm.spec.fibsel.start()\n"
   ]
  },
  {
   "cell_type": "code",
   "execution_count": 17,
   "id": "e3776e5d-2d3d-4162-a8e5-50d24f7fc03b",
   "metadata": {},
   "outputs": [
    {
     "name": "stdout",
     "output_type": "stream",
     "text": [
      "{'Reachable': True, 'AtHome': False, 'Moving': False, 'PositionSwitchStatus': 0, 'Position': 20.0, 'DeviceEncoder': {'Position': 0.0, 'Unit': 'STEPS'}, 'Velocity': 0.0, 'AtLimit': False}\n",
      "{'Reachable': True, 'AtHome': False, 'Moving': False, 'PositionSwitchStatus': 0, 'Position': 40.831, 'DeviceEncoder': {'Position': 20831.0, 'Unit': 'STEPS'}, 'Velocity': 0.0, 'AtLimit': True}\n",
      "{'Reachable': True, 'AtHome': False, 'Moving': False, 'PositionSwitchStatus': 0, 'Position': 0.0, 'DeviceEncoder': {'Position': -20000.0, 'Unit': 'STEPS'}, 'Velocity': 0.0, 'AtLimit': True}\n"
     ]
    }
   ],
   "source": [
    "print(await lvm.sci.foc.moveToHome())\n",
    "print(await lvm.sci.foc.moveToLimit(1))\n",
    "print(await lvm.sci.foc.moveToLimit(-1))"
   ]
  },
  {
   "cell_type": "code",
   "execution_count": 18,
   "id": "d491f267-8544-4428-9819-6ad40e8a4adf",
   "metadata": {},
   "outputs": [
    {
     "name": "stdout",
     "output_type": "stream",
     "text": [
      "{'Reachable': True, 'AtHome': False, 'Moving': False, 'PositionSwitchStatus': 0, 'Position': 0.0, 'DeviceEncoder': {'Position': 0.0, 'Unit': 'STEPS'}, 'Velocity': 0.0, 'AtLimit': True, 'CurrentTime': 3019009.0}\n",
      "{'Reachable': True, 'AtHome': False, 'Moving': False, 'PositionSwitchStatus': 0, 'Position': 0.0, 'DeviceEncoder': {'Position': 0.0, 'Unit': 'STEPS'}, 'Velocity': 0.0, 'AtLimit': True, 'CurrentTime': 3020405.0}\n",
      "{'Reachable': True, 'AtHome': False, 'Moving': False, 'PositionSwitchStatus': 0, 'Position': 212.9918888675897, 'DeviceEncoder': {'Position': 3833854.0, 'Unit': 'STEPS'}, 'Velocity': 0.0, 'AtLimit': True, 'CurrentTime': 3044095.0}\n"
     ]
    }
   ],
   "source": [
    "print(await lvm.sci.km.moveToHome())\n",
    "print(await lvm.sci.km.moveToLimit(-1))\n",
    "print(await lvm.sci.km.moveToLimit(1))\n"
   ]
  },
  {
   "cell_type": "code",
   "execution_count": 19,
   "id": "4ec29f3b-bba4-4dd2-b0eb-fac5521a7ef8",
   "metadata": {},
   "outputs": [
    {
     "name": "stdout",
     "output_type": "stream",
     "text": [
      "{'Reachable': True, 'AtHome': False, 'Moving': False, 'PositionSwitchStatus': 0, 'Position': 0, 'DeviceEncoder': {'Position': 0, 'Unit': 'STEPS'}, 'Velocity': 0.0}\n"
     ]
    },
    {
     "ename": "Exception",
     "evalue": "Unknown module type Boost.Python-ArgumentError:Python argument types in\n    MoccaWheel.moveRelativeStart(MoccaWheel, float, str)\ndid not match C++ signature:\n    moveRelativeStart(Basda::MoccaWheelServiceWorkerInterfacePy {lvalue}, int)\n    moveRelativeStart(Basda::MoccaWheelServiceWorkerInterfacePy {lvalue}, int, std::__cxx11::basic_string<char, std::char_traits<char>, std::allocator<char> >)",
     "output_type": "error",
     "traceback": [
      "\u001b[0;31m---------------------------------------------------------------------------\u001b[0m",
      "\u001b[0;31mException\u001b[0m                                 Traceback (most recent call last)",
      "Input \u001b[0;32mIn [19]\u001b[0m, in \u001b[0;36m<cell line: 2>\u001b[0;34m()\u001b[0m\n\u001b[1;32m      1\u001b[0m \u001b[38;5;28mprint\u001b[39m(\u001b[38;5;28;01mawait\u001b[39;00m lvm\u001b[38;5;241m.\u001b[39mspec\u001b[38;5;241m.\u001b[39mfibsel\u001b[38;5;241m.\u001b[39mmoveToHome())\n\u001b[0;32m----> 2\u001b[0m \u001b[38;5;28mprint\u001b[39m(\u001b[38;5;28;01mawait\u001b[39;00m lvm\u001b[38;5;241m.\u001b[39mspec\u001b[38;5;241m.\u001b[39mfibsel\u001b[38;5;241m.\u001b[39mmoveRelative(\u001b[38;5;241m-\u001b[39m\u001b[38;5;241m1\u001b[39m))\n\u001b[1;32m      3\u001b[0m \u001b[38;5;28mprint\u001b[39m(\u001b[38;5;28;01mawait\u001b[39;00m lvm\u001b[38;5;241m.\u001b[39mspec\u001b[38;5;241m.\u001b[39mfibsel\u001b[38;5;241m.\u001b[39mmoveRelative(\u001b[38;5;241m1\u001b[39m))\n",
      "File \u001b[0;32m/opt/conda/lib/python3.10/site-packages/cluplus/proxy.py:162\u001b[0m, in \u001b[0;36mProxy.call_command\u001b[0;34m(self, command, callback, nowait, object_hook, *args, **kwargs)\u001b[0m\n\u001b[1;32m    159\u001b[0m ret \u001b[38;5;241m=\u001b[39m \u001b[38;5;28;01mawait\u001b[39;00m fu\n\u001b[1;32m    161\u001b[0m \u001b[38;5;28;01mif\u001b[39;00m \u001b[38;5;28mhasattr\u001b[39m(ret, \u001b[38;5;124m\"\u001b[39m\u001b[38;5;124mstatus\u001b[39m\u001b[38;5;124m\"\u001b[39m) \u001b[38;5;129;01mand\u001b[39;00m ret\u001b[38;5;241m.\u001b[39mstatus\u001b[38;5;241m.\u001b[39mdid_fail:\n\u001b[0;32m--> 162\u001b[0m     \u001b[38;5;28;01mraise\u001b[39;00m \u001b[38;5;28mself\u001b[39m\u001b[38;5;241m.\u001b[39m_errorMapToException(ret\u001b[38;5;241m.\u001b[39mreplies[\u001b[38;5;241m-\u001b[39m\u001b[38;5;241m1\u001b[39m]\u001b[38;5;241m.\u001b[39mmessage[\u001b[38;5;124m'\u001b[39m\u001b[38;5;124merror\u001b[39m\u001b[38;5;124m'\u001b[39m])\n\u001b[1;32m    164\u001b[0m \u001b[38;5;28;01mreturn\u001b[39;00m ProxyDict(ret\u001b[38;5;241m.\u001b[39mreplies[\u001b[38;5;241m-\u001b[39m\u001b[38;5;241m1\u001b[39m]\u001b[38;5;241m.\u001b[39mmessage)\n",
      "\u001b[0;31mException\u001b[0m: Unknown module type Boost.Python-ArgumentError:Python argument types in\n    MoccaWheel.moveRelativeStart(MoccaWheel, float, str)\ndid not match C++ signature:\n    moveRelativeStart(Basda::MoccaWheelServiceWorkerInterfacePy {lvalue}, int)\n    moveRelativeStart(Basda::MoccaWheelServiceWorkerInterfacePy {lvalue}, int, std::__cxx11::basic_string<char, std::char_traits<char>, std::allocator<char> >)"
     ]
    }
   ],
   "source": [
    "print(await lvm.spec.fibsel.moveToHome())\n",
    "print(await lvm.spec.fibsel.moveRelative(-1))\n",
    "print(await lvm.spec.fibsel.moveRelative(1))"
   ]
  },
  {
   "cell_type": "code",
   "execution_count": null,
   "id": "500fd79e-d1ea-43a7-a835-341ce4fc27ad",
   "metadata": {},
   "outputs": [],
   "source": []
  }
 ],
 "metadata": {
  "kernelspec": {
   "display_name": "Python 3 (ipykernel)",
   "language": "python",
   "name": "python3"
  },
  "language_info": {
   "codemirror_mode": {
    "name": "ipython",
    "version": 3
   },
   "file_extension": ".py",
   "mimetype": "text/x-python",
   "name": "python",
   "nbconvert_exporter": "python",
   "pygments_lexer": "ipython3",
   "version": "3.10.5"
  }
 },
 "nbformat": 4,
 "nbformat_minor": 5
}
