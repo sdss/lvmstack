{
 "cells": [
  {
   "cell_type": "code",
   "execution_count": null,
   "id": "a5472486-f511-43c2-9061-e999aec8c406",
   "metadata": {},
   "outputs": [],
   "source": [
    "from lvmtipo.actors import lvm\n",
    "\n",
    "await lvm.sci.foc.start()\n",
    "await lvm.sci.km.start()\n",
    "await lvm.spec.fibsel.start()\n"
   ]
  },
  {
   "cell_type": "code",
   "execution_count": null,
   "id": "e3776e5d-2d3d-4162-a8e5-50d24f7fc03b",
   "metadata": {},
   "outputs": [],
   "source": [
    "print(await lvm.sci.foc.moveToHome())\n",
    "#print(await lvm.sci.foc.moveToLimit(1))\n",
    "#print(await lvm.sci.foc.moveToLimit(-1))\n",
    "print(await lvm.sci.foc.moveRelative(0.5))\n",
    "print(await lvm.sci.foc.moveRelative(-0.5))"
   ]
  },
  {
   "cell_type": "code",
   "execution_count": null,
   "id": "d491f267-8544-4428-9819-6ad40e8a4adf",
   "metadata": {},
   "outputs": [],
   "source": [
    "#print(await lvm.sci.km.moveToHome())\n",
    "#print(await lvm.sci.km.moveAbsolute(30))\n",
    "print(await lvm.sci.km.moveRelative(30))\n",
    "\n",
    "#print(await lvm.sci.km.moveToLimit(-1))\n",
    "#print(await lvm.sci.km.moveToLimit(1))\n"
   ]
  },
  {
   "cell_type": "code",
   "execution_count": null,
   "id": "4ec29f3b-bba4-4dd2-b0eb-fac5521a7ef8",
   "metadata": {},
   "outputs": [],
   "source": [
    "print(await lvm.spec.fibsel.moveToHome())\n",
    "print(await lvm.spec.fibsel.moveRelative(-100))\n",
    "print(await lvm.spec.fibsel.moveRelative(100))"
   ]
  }
 ],
 "metadata": {
  "kernelspec": {
   "display_name": "Python 3 (ipykernel)",
   "language": "python",
   "name": "python3"
  },
  "language_info": {
   "codemirror_mode": {
    "name": "ipython",
    "version": 3
   },
   "file_extension": ".py",
   "mimetype": "text/x-python",
   "name": "python",
   "nbconvert_exporter": "python",
   "pygments_lexer": "ipython3",
   "version": "3.10.6"
  }
 },
 "nbformat": 4,
 "nbformat_minor": 5
}
