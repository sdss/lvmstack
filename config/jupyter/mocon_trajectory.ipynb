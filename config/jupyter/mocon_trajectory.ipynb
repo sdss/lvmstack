{
 "cells": [
  {
   "cell_type": "code",
   "execution_count": null,
   "id": "82995d70-3680-4ccf-a36f-4eed3bb6b5da",
   "metadata": {},
   "outputs": [],
   "source": [
    "import asyncio\n",
    "import math\n",
    "import numpy\n",
    "import astropy.coordinates\n",
    "import astropy.time\n",
    "import astropy.units as u\n",
    "\n",
    "from lvmtipo.site import Site\n",
    "from lvmtipo.siderostat import Siderostat\n",
    "from lvmtipo.fiber import Fiber\n",
    "from lvmtipo.target import Target\n",
    "from lvmtipo.actors import lvm\n",
    "\n",
    "device_module = 2\n",
    "derot_buffer = 100\n",
    "\n",
    "await lvm.sci.km.start()\n",
    "await lvm.sci.pwi.start()\n",
    "\n",
    "print(await lvm.sci.km.status())\n",
    "print(await lvm.sci.pwi.status())\n"
   ]
  },
  {
   "cell_type": "code",
   "execution_count": 17,
   "id": "98f58bc5-63a5-461b-9830-10cd3abec010",
   "metadata": {},
   "outputs": [
    {
     "name": "stdout",
     "output_type": "stream",
     "text": [
      "<SkyCoord (ICRS): (ra, dec) in deg\n",
      "    (0., 0.)>\n",
      "[[16276, 3120, 2682892, 0, 0], [16276, 3122, 2683667, 0, 0], [16276, 3123, 2684442, 0, 0], [16276, 3124, 2685218, 0, 0], [16276, 3126, 2685994, 0, 0], [16276, 3127, 2686770, 0, 0], [0, 0, 2687547, 0, 0]]\n"
     ]
    }
   ],
   "source": [
    "\n",
    "delta_time=2.0\n",
    "azang = 180.0\n",
    "medSign = 1\n",
    "sid = Siderostat(azang=azang, medSign=medSign)\n",
    "\n",
    "homeOffset = 135.0\n",
    "homeIsWest = False\n",
    "geoloc = Site(name = \"MPIA\")\n",
    "\n",
    "ra_h, dec_d = (await lvm.sci.pwi.status()).flatten().unpack(\"ra_j2000_hours\", \"dec_j2000_degs\")\n",
    "\n",
    "targ = astropy.coordinates.SkyCoord(ra=ra_h, dec=dec_d, unit=(u.hourangle, u.deg))\n",
    "target = Target(targ)\n",
    "\n",
    "delta_time=10\n",
    "polynoms=6\n",
    "\n",
    "now = astropy.time.Time.now()\n",
    "traj = sid.mpiaMocon(geoloc, \n",
    "              target,\n",
    "              None,\n",
    "              deltaTime=delta_time,\n",
    "              homeIsWest=homeIsWest,\n",
    "              homeOffset=homeOffset,\n",
    "              polyN=polynoms,\n",
    "              time=now)\n",
    "\n",
    "print(targ)\n",
    "print(traj)"
   ]
  },
  {
   "cell_type": "code",
   "execution_count": 30,
   "id": "4ae3f1b5-23e1-4b0d-ab6a-69e4c6264c80",
   "metadata": {},
   "outputs": [
    {
     "name": "stdout",
     "output_type": "stream",
     "text": [
      "{'ChatRc': ['1 226 2 1']}\n",
      "{'ChatRc': ['1 220 2 1']}\n",
      "{'ChatRc': ['1 221 2 1']}\n",
      "{'ChatRc': ['1 221 2 1']}\n",
      "{'ChatRc': ['1 221 2 1']}\n",
      "{'ChatRc': ['1 221 2 1']}\n",
      "{'ChatRc': ['1 221 2 1']}\n",
      "{'ChatRc': ['1 221 2 1']}\n",
      "{'ChatRc': ['1 221 2 1']}\n",
      "{'ChatRc': ['1 222 2 1']}\n",
      "{'ChatRc': ['1 225 2 2 1', '1 225 2 1']}\n"
     ]
    }
   ],
   "source": [
    "\n",
    "await lvm.sci.km.moveAbsolute(traj[0][2], \"STEPS\")\n",
    "\n",
    "# clear buffer\n",
    "try:\n",
    "   print(await lvm.sci.km.chat(1, 226, device_module))\n",
    "\n",
    "except Exception as ex:\n",
    "   pass\n",
    "\n",
    "# create buffer\n",
    "print (await lvm.sci.km.chat(1, 220, device_module, derot_buffer))\n",
    "\n",
    "# upload trajectory\n",
    "for i, t in enumerate(traj):\n",
    "   print (await lvm.sci.km.chat(1, 221, device_module, 0, f\"{i} {t[0]} {t[1]} {t[2]} {t[3]} {t[4]}\"))\n",
    "\n",
    "\n",
    "# start profile\n",
    "print(await lvm.sci.km.chat(1, 222, device_module, 0))\n",
    "\n",
    "await asyncio.sleep(2.0)\n",
    "print(await lvm.sci.km.chat(1, 225, device_module))\n",
    "\n",
    "\n",
    "  "
   ]
  },
  {
   "cell_type": "code",
   "execution_count": 31,
   "id": "008ea53c-464a-4df0-8b9e-8343918b7037",
   "metadata": {},
   "outputs": [
    {
     "name": "stdout",
     "output_type": "stream",
     "text": [
      "2\n",
      "3\n",
      "4\n",
      "5\n",
      "6\n",
      "7\n"
     ]
    }
   ],
   "source": [
    "moidx = 0\n",
    "while moidx < len(traj):\n",
    "    try:\n",
    "       rc = (await lvm.sci.km.chat(1, 225, device_module)).unpack()\n",
    "       moidx = int(rc[0].split(' ')[-1])\n",
    "       print(moidx)\n",
    "       await asyncio.sleep(delta_time)\n",
    "\n",
    "    except Exception as ex:\n",
    "       print(ex)\n"
   ]
  },
  {
   "cell_type": "code",
   "execution_count": 27,
   "id": "ed1a31d4-32f7-4203-b672-88efdad72e9a",
   "metadata": {},
   "outputs": [
    {
     "name": "stdout",
     "output_type": "stream",
     "text": [
      "{'ChatRc': ['1 224 2 1']}\n"
     ]
    }
   ],
   "source": [
    "print(await lvm.sci.km.chat(1, 224, device_module))\n"
   ]
  }
 ],
 "metadata": {
  "kernelspec": {
   "display_name": "Python 3 (ipykernel)",
   "language": "python",
   "name": "python3"
  },
  "language_info": {
   "codemirror_mode": {
    "name": "ipython",
    "version": 3
   },
   "file_extension": ".py",
   "mimetype": "text/x-python",
   "name": "python",
   "nbconvert_exporter": "python",
   "pygments_lexer": "ipython3",
   "version": "3.10.6"
  }
 },
 "nbformat": 4,
 "nbformat_minor": 5
}
