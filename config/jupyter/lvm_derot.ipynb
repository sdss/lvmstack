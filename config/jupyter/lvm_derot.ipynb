{
 "cells": [
  {
   "cell_type": "code",
   "execution_count": 2,
   "id": "2ef2b78e-b15e-4ac9-bf89-f5c6dab3b821",
   "metadata": {},
   "outputs": [
    {
     "data": {
      "text/plain": [
       "{'Reachable': True,\n",
       " 'AtHome': False,\n",
       " 'Moving': False,\n",
       " 'PositionSwitchStatus': 0,\n",
       " 'Position': -40.31827778724595,\n",
       " 'DeviceEncoder': {'Position': 1704271.0, 'Unit': 'STEPS'},\n",
       " 'Velocity': 0.0,\n",
       " 'AtLimit': False,\n",
       " 'CurrentTime': 306754.0,\n",
       " 'Simulate': False}"
      ]
     },
     "execution_count": 2,
     "metadata": {},
     "output_type": "execute_result"
    }
   ],
   "source": [
    "from lvmtipo.actors import lvm\n",
    "\n",
    "await lvm.sci.km.start()\n",
    "await lvm.sci.km.status()\n"
   ]
  },
  {
   "cell_type": "code",
   "execution_count": 3,
   "id": "d67ea61e-37de-4c16-a071-8ca5610c6ab2",
   "metadata": {},
   "outputs": [
    {
     "data": {
      "text/plain": [
       "{'Reachable': True,\n",
       " 'AtHome': False,\n",
       " 'Moving': False,\n",
       " 'PositionSwitchStatus': 0,\n",
       " 'Position': -95.36816667062985,\n",
       " 'DeviceEncoder': {'Position': 713373.0, 'Unit': 'STEPS'},\n",
       " 'Velocity': 0.0,\n",
       " 'AtLimit': False,\n",
       " 'CurrentTime': 440964.0,\n",
       " 'Simulate': False}"
      ]
     },
     "execution_count": 3,
     "metadata": {},
     "output_type": "execute_result"
    }
   ],
   "source": [
    "await lvm.sci.km.slewStart(15, 38)"
   ]
  },
  {
   "cell_type": "code",
   "execution_count": 4,
   "id": "66b78c5a-4245-4e65-87a3-a8c7bb006bf3",
   "metadata": {},
   "outputs": [
    {
     "data": {
      "text/plain": [
       "{'Reachable': True,\n",
       " 'AtHome': False,\n",
       " 'Moving': False,\n",
       " 'PositionSwitchStatus': 0,\n",
       " 'Position': -95.39344444840509,\n",
       " 'DeviceEncoder': {'Position': 712918.0, 'Unit': 'STEPS'},\n",
       " 'Velocity': 0.0,\n",
       " 'AtLimit': False,\n",
       " 'CurrentTime': 463209.0,\n",
       " 'Simulate': False}"
      ]
     },
     "execution_count": 4,
     "metadata": {},
     "output_type": "execute_result"
    }
   ],
   "source": [
    "await lvm.sci.km.slewStop()"
   ]
  },
  {
   "cell_type": "code",
   "execution_count": null,
   "id": "bcd60a42-c4cc-454a-b4db-d1ddd6cd38bf",
   "metadata": {},
   "outputs": [],
   "source": []
  }
 ],
 "metadata": {
  "kernelspec": {
   "display_name": "Python 3 (ipykernel)",
   "language": "python",
   "name": "python3"
  },
  "language_info": {
   "codemirror_mode": {
    "name": "ipython",
    "version": 3
   },
   "file_extension": ".py",
   "mimetype": "text/x-python",
   "name": "python",
   "nbconvert_exporter": "python",
   "pygments_lexer": "ipython3",
   "version": "3.10.6"
  }
 },
 "nbformat": 4,
 "nbformat_minor": 5
}
