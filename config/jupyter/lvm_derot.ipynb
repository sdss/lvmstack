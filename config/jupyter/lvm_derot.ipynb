{
 "cells": [
  {
   "cell_type": "code",
   "execution_count": 2,
   "id": "2ef2b78e-b15e-4ac9-bf89-f5c6dab3b821",
   "metadata": {},
   "outputs": [
    {
     "data": {
      "text/plain": [
       "<cluplus.proxy.Proxy at 0x7f0878eac730>"
      ]
     },
     "execution_count": 2,
     "metadata": {},
     "output_type": "execute_result"
    }
   ],
   "source": [
    "from lvmtipo.actors import lvm\n",
    "\n",
    "await lvm.sci.km.start()\n",
    "await lvm.sci.km.status()\n",
    "\n",
    "await lvm.sci.pwi.start()"
   ]
  },
  {
   "cell_type": "code",
   "execution_count": 18,
   "id": "629d5ee9-fb5b-4b26-b4fa-7a12be06ee48",
   "metadata": {},
   "outputs": [
    {
     "name": "stdout",
     "output_type": "stream",
     "text": [
      "ra_h:dec_d 7.75503048229952:28.0258335169353\n"
     ]
    },
    {
     "data": {
      "text/plain": [
       "{'Reachable': True,\n",
       " 'AtHome': False,\n",
       " 'Moving': False,\n",
       " 'PositionSwitchStatus': 254,\n",
       " 'Position': -83.9647777828813,\n",
       " 'DeviceEncoder': {'Position': 918634.0, 'Unit': 'STEPS'},\n",
       " 'Velocity': 0.0,\n",
       " 'AtLimit': False,\n",
       " 'CurrentTime': 1668635263378864.0,\n",
       " 'Simulate': True,\n",
       " 'SkyPA': -167.92955555657625}"
      ]
     },
     "execution_count": 18,
     "metadata": {},
     "output_type": "execute_result"
    }
   ],
   "source": [
    "ra_h, dec_d = (await lvm.sci.pwi.status()).flatten().unpack(\"ra_j2000_hours\", \"dec_j2000_degs\")\n",
    "print(f\"ra_h:dec_d {ra_h}:{dec_d}\")\n",
    "\n",
    "await lvm.sci.km.slewStart(ra_h, dec_d)"
   ]
  },
  {
   "cell_type": "code",
   "execution_count": 16,
   "id": "66b78c5a-4245-4e65-87a3-a8c7bb006bf3",
   "metadata": {},
   "outputs": [
    {
     "data": {
      "text/plain": [
       "{'Reachable': True,\n",
       " 'AtHome': False,\n",
       " 'Moving': False,\n",
       " 'PositionSwitchStatus': 254,\n",
       " 'Position': -39.357277787342056,\n",
       " 'DeviceEncoder': {'Position': 1721569.0, 'Unit': 'STEPS'},\n",
       " 'Velocity': 0.0,\n",
       " 'AtLimit': False,\n",
       " 'CurrentTime': 1668634675549534.0,\n",
       " 'Simulate': True,\n",
       " 'SkyPA': -78.7145555574684}"
      ]
     },
     "execution_count": 16,
     "metadata": {},
     "output_type": "execute_result"
    }
   ],
   "source": [
    "await lvm.sci.km.slewStop()"
   ]
  },
  {
   "cell_type": "code",
   "execution_count": 10,
   "id": "d6ab2638-9e74-4800-81f2-c9f78bb95ed4",
   "metadata": {},
   "outputs": [
    {
     "data": {
      "text/plain": [
       "{'is_connected': True}"
      ]
     },
     "execution_count": 10,
     "metadata": {},
     "output_type": "execute_result"
    }
   ],
   "source": [
    "await lvm.sci.pwi.setConnected(True, statusTick=1.0)"
   ]
  },
  {
   "cell_type": "code",
   "execution_count": null,
   "id": "5a8c027f-9611-448c-90b7-557d3474254b",
   "metadata": {},
   "outputs": [],
   "source": []
  }
 ],
 "metadata": {
  "kernelspec": {
   "display_name": "Python 3 (ipykernel)",
   "language": "python",
   "name": "python3"
  },
  "language_info": {
   "codemirror_mode": {
    "name": "ipython",
    "version": 3
   },
   "file_extension": ".py",
   "mimetype": "text/x-python",
   "name": "python",
   "nbconvert_exporter": "python",
   "pygments_lexer": "ipython3",
   "version": "3.10.6"
  }
 },
 "nbformat": 4,
 "nbformat_minor": 5
}
