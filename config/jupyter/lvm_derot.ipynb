{
 "cells": [
  {
   "cell_type": "code",
   "execution_count": 16,
   "id": "2ef2b78e-b15e-4ac9-bf89-f5c6dab3b821",
   "metadata": {},
   "outputs": [
    {
     "data": {
      "text/plain": [
       "<cluplus.proxy.Proxy at 0x7f260219cee0>"
      ]
     },
     "execution_count": 16,
     "metadata": {},
     "output_type": "execute_result"
    }
   ],
   "source": [
    "from lvmtipo.actors import lvm\n",
    "\n",
    "await lvm.sci.km.start()\n",
    "await lvm.sci.km.status()\n",
    "\n",
    "await lvm.sci.pwi.start()"
   ]
  },
  {
   "cell_type": "code",
   "execution_count": 17,
   "id": "629d5ee9-fb5b-4b26-b4fa-7a12be06ee48",
   "metadata": {},
   "outputs": [
    {
     "name": "stdout",
     "output_type": "stream",
     "text": [
      "ra_h:dec_d 22.5274405263819:50.2825767548355\n"
     ]
    },
    {
     "data": {
      "text/plain": [
       "{'Reachable': True,\n",
       " 'AtHome': False,\n",
       " 'Moving': False,\n",
       " 'PositionSwitchStatus': 0,\n",
       " 'Position': 55.961444425348304,\n",
       " 'DeviceEncoder': {'Position': 3437306.0, 'Unit': 'STEPS'},\n",
       " 'Velocity': 0.0,\n",
       " 'AtLimit': False,\n",
       " 'CurrentTime': 25937384.0,\n",
       " 'Simulate': False}"
      ]
     },
     "execution_count": 17,
     "metadata": {},
     "output_type": "execute_result"
    }
   ],
   "source": [
    "ra_h, dec_d = (await lvm.sci.pwi.status()).flatten().unpack(\"ra_j2000_hours\", \"dec_j2000_degs\")\n",
    "print(f\"ra_h:dec_d {ra_h}:{dec_d}\")\n",
    "\n",
    "await lvm.sci.km.slewStart(ra_h, dec_d)"
   ]
  },
  {
   "cell_type": "code",
   "execution_count": 18,
   "id": "66b78c5a-4245-4e65-87a3-a8c7bb006bf3",
   "metadata": {},
   "outputs": [
    {
     "data": {
      "text/plain": [
       "{'Reachable': True,\n",
       " 'AtHome': False,\n",
       " 'Moving': True,\n",
       " 'PositionSwitchStatus': 0,\n",
       " 'Position': 56.74749998082524,\n",
       " 'DeviceEncoder': {'Position': 3451455.0, 'Unit': 'STEPS'},\n",
       " 'Velocity': 0.0,\n",
       " 'AtLimit': False,\n",
       " 'CurrentTime': 26440046.0,\n",
       " 'Simulate': False}"
      ]
     },
     "execution_count": 18,
     "metadata": {},
     "output_type": "execute_result"
    }
   ],
   "source": [
    "await lvm.sci.km.slewStop()"
   ]
  }
 ],
 "metadata": {
  "kernelspec": {
   "display_name": "Python 3 (ipykernel)",
   "language": "python",
   "name": "python3"
  },
  "language_info": {
   "codemirror_mode": {
    "name": "ipython",
    "version": 3
   },
   "file_extension": ".py",
   "mimetype": "text/x-python",
   "name": "python",
   "nbconvert_exporter": "python",
   "pygments_lexer": "ipython3",
   "version": "3.10.6"
  }
 },
 "nbformat": 4,
 "nbformat_minor": 5
}
