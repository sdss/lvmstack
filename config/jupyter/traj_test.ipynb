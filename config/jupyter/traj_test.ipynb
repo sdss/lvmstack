{
 "cells": [
  {
   "cell_type": "code",
   "execution_count": null,
   "id": "e0d8d0df-fd06-4bca-ba71-d28e9ed91f36",
   "metadata": {},
   "outputs": [],
   "source": [
    "from lvmtipo.actors import lvm\n",
    "\n",
    "await lvm.sci.km.start()\n",
    "await lvm.sci.km.status()\n",
    "\n",
    "\n"
   ]
  },
  {
   "cell_type": "code",
   "execution_count": null,
   "id": "bd8a104c-555e-41b8-a436-1ae523e68696",
   "metadata": {},
   "outputs": [],
   "source": []
  },
  {
   "cell_type": "code",
   "execution_count": null,
   "id": "2d33669e-433f-40a4-b3c6-010b99a048ab",
   "metadata": {},
   "outputs": [],
   "source": [
    "# clear buffer\n",
    "try:\n",
    "    await lvm.sci.km.chat(1, 226, 2)\n",
    "except Exception as e:\n",
    "    pass\n",
    "\n",
    "# create buffer\n",
    "await lvm.sci.km.chat(1, 220, 2, 20)"
   ]
  },
  {
   "cell_type": "code",
   "execution_count": null,
   "id": "51cdffd2-d27e-4772-876f-cb37b54c078c",
   "metadata": {},
   "outputs": [],
   "source": []
  },
  {
   "cell_type": "code",
   "execution_count": null,
   "id": "39725b8b-ef25-41c2-83be-01145a43f110",
   "metadata": {},
   "outputs": [],
   "source": []
  }
 ],
 "metadata": {
  "kernelspec": {
   "display_name": "Python 3 (ipykernel)",
   "language": "python",
   "name": "python3"
  },
  "language_info": {
   "codemirror_mode": {
    "name": "ipython",
    "version": 3
   },
   "file_extension": ".py",
   "mimetype": "text/x-python",
   "name": "python",
   "nbconvert_exporter": "python",
   "pygments_lexer": "ipython3",
   "version": "3.10.6"
  }
 },
 "nbformat": 4,
 "nbformat_minor": 5
}
