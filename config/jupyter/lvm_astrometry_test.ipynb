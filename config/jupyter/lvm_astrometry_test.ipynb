{
 "cells": [
  {
   "cell_type": "code",
   "execution_count": null,
   "id": "231fcb00-01f6-43cd-bf3c-e957e4cb4641",
   "metadata": {},
   "outputs": [],
   "source": [
    "from logging import DEBUG, INFO\n",
    "from sdsstools import get_logger\n",
    "from sdsstools.logger import StreamFormatter\n",
    "\n",
    "logger = get_logger(\"astro.net\")\n",
    "logger.sh.setLevel(DEBUG)\n",
    "logger.sh.formatter = StreamFormatter(fmt='%(asctime)s %(name)s \\033[1m%(message)s\\033[21m')\n",
    "logger.debug(\"hello world\")\n"
   ]
  },
  {
   "cell_type": "code",
   "execution_count": null,
   "id": "8182cb74-971f-4865-9233-ed213d98d819",
   "metadata": {},
   "outputs": [],
   "source": [
    "import astropy\n",
    "import astrometry\n",
    "\n",
    "solver = astrometry.Solver(\n",
    "    astrometry.series_5200.index_files(\n",
    "        cache_directory=\"astrometry_cache\",\n",
    "        scales={6},\n",
    "    )\n",
    ")\n",
    "# only first iteration\n",
    "logodds_callback = astrometry.Action.STOP\n",
    "# full\n",
    "#logodds_callback = astrometry.Action.CONTINUE\n"
   ]
  },
  {
   "cell_type": "code",
   "execution_count": null,
   "id": "9291e086-db4f-44c1-a790-b19546e98de3",
   "metadata": {},
   "outputs": [],
   "source": [
    "from cluplus.proxy import invoke\n",
    "from lvmtipo.actors import lvm\n",
    "\n",
    "telescope_subsystem_name = \"sci\"\n",
    "tss = await lvm.from_string(telescope_subsystem_name).start()\n",
    "\n",
    "await invoke(tss.pwi.status(), tss.km.status())\n"
   ]
  },
  {
   "cell_type": "code",
   "execution_count": null,
   "id": "3f3e35af-ec6d-4e02-b62a-99d3f8860223",
   "metadata": {},
   "outputs": [],
   "source": [
    "from lvmagp.images import Image\n",
    "from lvmagp.images.processors.detection import DaophotSourceDetection, SepSourceDetection\n",
    "\n",
    "from plotimg import plot_images\n",
    "\n",
    "# define source detection\n",
    "source_detection = SepSourceDetection()\n",
    "#source_detection = DaophotSourceDetection()\n",
    "\n",
    "source_count = 17\n",
    "\n",
    "logger.debug(\"Expose\")\n",
    "filenames = (await tss.agc.expose(0.5)).flatten().unpack(\"*.filename\") \n",
    "images = [Image.from_file(f) for f in filenames]\n",
    "image = images[0]\n",
    "\n",
    "plot_images(images)"
   ]
  },
  {
   "cell_type": "code",
   "execution_count": null,
   "id": "ea59495e-f700-44e1-822e-24df824aa207",
   "metadata": {},
   "outputs": [],
   "source": [
    "arcsec_per_pixel=1/image.header['PIXELSC']*image.header['BINX']\n",
    "print(f\"{image.header['RA']=}\")\n",
    "print(f\"{image.header['DEC']=}\")\n",
    "print(f\"{arcsec_per_pixel=}\")\n",
    "\n",
    "logger.debug(\"Source detect\")\n",
    "image = await source_detection(image)\n",
    "if image.catalog is None:\n",
    "    logger.warning(\"No catalog found in image.\")\n",
    "    \n",
    "logger.debug(\"Sort\")\n",
    "sources = image.catalog\n",
    "sources.sort(\"peak\")\n",
    "sources.reverse()\n",
    "sources = sources[:source_count]\n",
    "#logger.debug(f\"{sources}\")\n",
    "\n",
    "\n",
    "logger.debug(\"Solve start\")\n",
    "solution = solver.solve(\n",
    "    stars_xs=sources['x'],\n",
    "    stars_ys=sources['y'],\n",
    "    size_hint=astrometry.SizeHint(\n",
    "        lower_arcsec_per_pixel=arcsec_per_pixel-0.1,\n",
    "        upper_arcsec_per_pixel=arcsec_per_pixel+0.1,\n",
    "    ),\n",
    "    position_hint=astrometry.PositionHint(\n",
    "        ra_deg=image.header['RA'],\n",
    "        dec_deg=image.header['DEC'],\n",
    "        radius_deg=1,\n",
    "    ),\n",
    "    solve_id=None,\n",
    "    tune_up_logodds_threshold=14.0, # None disables tune-up (SIP distortion)\n",
    "    output_logodds_threshold=21.0,\n",
    "    logodds_callback=lambda logodds_list: logodds_callback\n",
    ")\n",
    "logger.debug(\"Solve done\")\n",
    "\n",
    "if solution.has_match():\n",
    "    print(f\"{solution.best_match().center_ra_deg=}\")\n",
    "    print(f\"{solution.best_match().center_dec_deg=}\")\n",
    "    print(f\"{solution.best_match().scale_arcsec_per_pixel=}\")\n",
    "    wcs = astropy.wcs.WCS(solution.best_match().wcs_fields)\n",
    "    pixels = wcs.all_world2pix(\n",
    "        [[star.ra_deg, star.dec_deg] for star in solution.best_match().stars],\n",
    "        0,\n",
    "    )\n",
    "    #print(f\"{wcs}\")"
   ]
  },
  {
   "cell_type": "code",
   "execution_count": null,
   "id": "d27c1459-9354-4a38-85f1-be02e91f8542",
   "metadata": {},
   "outputs": [],
   "source": []
  }
 ],
 "metadata": {
  "kernelspec": {
   "display_name": "Python 3 (ipykernel)",
   "language": "python",
   "name": "python3"
  },
  "language_info": {
   "codemirror_mode": {
    "name": "ipython",
    "version": 3
   },
   "file_extension": ".py",
   "mimetype": "text/x-python",
   "name": "python",
   "nbconvert_exporter": "python",
   "pygments_lexer": "ipython3",
   "version": "3.10.6"
  }
 },
 "nbformat": 4,
 "nbformat_minor": 5
}
