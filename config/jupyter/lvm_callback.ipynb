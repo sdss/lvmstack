{
 "cells": [
  {
   "cell_type": "code",
   "execution_count": null,
   "id": "fba13f87-41ae-4dd9-af74-6311ed9b01db",
   "metadata": {},
   "outputs": [],
   "source": [
    "from lvmtipo.actors import lvm\n",
    "\n",
    "sci = await lvm.sci.start()"
   ]
  },
  {
   "cell_type": "code",
   "execution_count": null,
   "id": "066a15b3-03b5-474d-9827-31e743d8d5ca",
   "metadata": {},
   "outputs": [],
   "source": [
    "from logging import DEBUG, INFO\n",
    "from sdsstools import get_logger\n",
    "logger = get_logger(\"test\")\n",
    "\n",
    "logger.sh.setLevel(INFO)\n"
   ]
  },
  {
   "cell_type": "code",
   "execution_count": null,
   "id": "6e40a731-0b85-40e1-a307-2f538d86a756",
   "metadata": {},
   "outputs": [],
   "source": [
    "from logging import DEBUG, INFO\n",
    "\n",
    "logger.sh.setLevel(DEBUG)\n",
    "\n",
    "def callback(reply):\n",
    "    logger.debug(f\"{reply.message.body}\")\n",
    "\n",
    "rc = await sci.agc.expose(1, callback=callback)\n",
    "logger.info(str(rc))"
   ]
  }
 ],
 "metadata": {
  "kernelspec": {
   "display_name": "Python 3 (ipykernel)",
   "language": "python",
   "name": "python3"
  },
  "language_info": {
   "codemirror_mode": {
    "name": "ipython",
    "version": 3
   },
   "file_extension": ".py",
   "mimetype": "text/x-python",
   "name": "python",
   "nbconvert_exporter": "python",
   "pygments_lexer": "ipython3",
   "version": "3.10.6"
  }
 },
 "nbformat": 4,
 "nbformat_minor": 5
}
