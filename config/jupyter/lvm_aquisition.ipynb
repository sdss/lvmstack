{
 "cells": [
  {
   "cell_type": "code",
   "execution_count": 28,
   "id": "bc924b2b-a0f7-4fa2-a682-f5822d2f24c1",
   "metadata": {},
   "outputs": [
    {
     "name": "stderr",
     "output_type": "stream",
     "text": [
      "\u001b[0;35m[DEBUG]: \u001b[0mmove tel/km 19.583333333333332h:-30.616666666666667d & temp2foc 42\n",
      "\u001b[0;35m[DEBUG]: \u001b[0mfake astrometry at radec 19.583333333333332h:-30.616666666666667d\n",
      "\u001b[0;35m[DEBUG]: \u001b[0mcorrect tel/km 0.2:0.3/0.0 & focus offset -0.2\n",
      "\u001b[0;35m[DEBUG]: \u001b[0mdone \n"
     ]
    }
   ],
   "source": [
    "from logging import DEBUG\n",
    "\n",
    "from astropy.coordinates import SkyCoord, Angle\n",
    "\n",
    "from lvmtipo.actors import lvm\n",
    "from lvm.tel.aquisition import aquisition\n",
    "\n",
    "tssn=\"sci\"\n",
    "\n",
    "telsubsys = await lvm.from_string(tssn).start()\n",
    "await telsubsys.pwi.setConnected(True, statusTick = 1.0)\n",
    "\n",
    "\n",
    "ra = Angle('19 35 hour')\n",
    "dec = Angle('-30 37 deg')\n",
    "exptime = 3.0 \n",
    "\n",
    "await aquisition(telsubsys, ra, dec, exptime, DEBUG)\n"
   ]
  },
  {
   "cell_type": "code",
   "execution_count": 29,
   "id": "f1a626d2-6b8d-4ed5-b824-d07032ea3612",
   "metadata": {},
   "outputs": [
    {
     "data": {
      "text/plain": [
       "{'state': 'GUIDE'}"
      ]
     },
     "execution_count": 29,
     "metadata": {},
     "output_type": "execute_result"
    }
   ],
   "source": [
    "await lvm.sci.ag.guideStart()"
   ]
  },
  {
   "cell_type": "code",
   "execution_count": 31,
   "id": "37e55202-05fc-4f23-bdcb-1ad0a170b34d",
   "metadata": {},
   "outputs": [
    {
     "data": {
      "text/plain": [
       "{'is_tracking': True,\n",
       " 'is_connected': True,\n",
       " 'is_slewing': False,\n",
       " 'is_enabled': True,\n",
       " 'ra_j2000_hours': 19.583522741948,\n",
       " 'dec_j2000_degs': -30.6138112452894,\n",
       " 'ra_apparent_hours': 19.6074316670653,\n",
       " 'dec_apparent_degs': -30.5652893149135,\n",
       " 'altitude_degs': 41.5151221509253,\n",
       " 'azimuth_degs': 145.348298011413,\n",
       " 'field_angle_rate_at_target_degs_per_sec': 0.00453398064722989,\n",
       " 'field_angle_at_target_degs': -40.7304747402143,\n",
       " 'field_angle_here_degs': -40.7350929082858,\n",
       " 'axis0': {'dist_to_target_arcsec': -0.005300040037423,\n",
       "  'is_enabled': True,\n",
       "  'position_degs': 145.348298011413,\n",
       "  'rms_error_arcsec': 0.00427896238944061,\n",
       "  'servo_error_arcsec': 0.0},\n",
       " 'axis1': {'dist_to_target_arcsec': -0.00341050039081341,\n",
       "  'is_enabled': True,\n",
       "  'position_degs': 41.5151221509253,\n",
       "  'rms_error_arcsec': 0.0027600393508301,\n",
       "  'servo_error_arcsec': 0.0}}"
      ]
     },
     "execution_count": 31,
     "metadata": {},
     "output_type": "execute_result"
    }
   ],
   "source": [
    "ra_off_d = -10\n",
    "dec_off_d = -10\n",
    "\n",
    "await lvm.sci.pwi.offset(ra_add_arcsec = ra_off_d, dec_add_arcsec = dec_off_d)"
   ]
  },
  {
   "cell_type": "code",
   "execution_count": 25,
   "id": "666c766e-0f8e-42b4-aabc-e5e76b92544a",
   "metadata": {},
   "outputs": [
    {
     "data": {
      "text/plain": [
       "{'state': 'IDLE'}"
      ]
     },
     "execution_count": 25,
     "metadata": {},
     "output_type": "execute_result"
    }
   ],
   "source": [
    "await lvm.sci.ag.guideStop()"
   ]
  },
  {
   "cell_type": "code",
   "execution_count": 26,
   "id": "44f339b8-43a3-4948-b620-9dc56839ed3e",
   "metadata": {},
   "outputs": [
    {
     "data": {
      "text/plain": [
       "{'Reachable': True,\n",
       " 'AtHome': False,\n",
       " 'Moving': False,\n",
       " 'PositionSwitchStatus': 254,\n",
       " 'Position': -78.42601482188974,\n",
       " 'DeviceEncoder': {'Position': 1018331.733307818, 'Unit': 'STEPS'},\n",
       " 'Velocity': 0.0,\n",
       " 'AtLimit': False,\n",
       " 'CurrentTime': 1663855987237554.0}"
      ]
     },
     "execution_count": 26,
     "metadata": {},
     "output_type": "execute_result"
    }
   ],
   "source": [
    "await lvm.sci.km.slewStop()"
   ]
  },
  {
   "cell_type": "code",
   "execution_count": null,
   "id": "1d0dc2b0-c27a-4259-8179-8f393e900fb8",
   "metadata": {},
   "outputs": [],
   "source": [
    "from logging import DEBUG, INFO\n",
    "from sdsstools import get_logger\n",
    "\n",
    "logger = get_logger(\"lvm_tel_aquisition\")\n",
    "logger.sh.setLevel(DEBUG)\n",
    "\n",
    "logger.debug(\"test\")\n"
   ]
  },
  {
   "cell_type": "code",
   "execution_count": 20,
   "id": "e7d55b4b-3abb-47a4-8a69-ac045313b922",
   "metadata": {},
   "outputs": [
    {
     "data": {
      "text/plain": [
       "{'Reachable': True,\n",
       " 'AtHome': False,\n",
       " 'Moving': False,\n",
       " 'PositionSwitchStatus': 254,\n",
       " 'Position': 130.76934448699126,\n",
       " 'DeviceEncoder': {'Position': 2353848.2010012274, 'Unit': 'STEPS'},\n",
       " 'Velocity': 0.0,\n",
       " 'AtLimit': False,\n",
       " 'CurrentTime': 1663847175043784.0}"
      ]
     },
     "execution_count": 20,
     "metadata": {},
     "output_type": "execute_result"
    }
   ],
   "source": [
    "\n",
    "ra = Angle('16 35 hour')/15\n",
    "dec = Angle('-26 37 deg')\n",
    "            \n",
    "await telsubsys.km.status()\n",
    "await telsubsys.km.slewStart(ra.hour, dec.deg)"
   ]
  },
  {
   "cell_type": "code",
   "execution_count": 21,
   "id": "db966d66-8077-4b91-ad5b-f1dde62a058e",
   "metadata": {},
   "outputs": [
    {
     "data": {
      "text/plain": [
       "{'Reachable': True,\n",
       " 'AtHome': False,\n",
       " 'Moving': False,\n",
       " 'PositionSwitchStatus': 254,\n",
       " 'Position': -78.07823390741314,\n",
       " 'DeviceEncoder': {'Position': 1024591.7897690227, 'Unit': 'STEPS'},\n",
       " 'Velocity': 0.0,\n",
       " 'AtLimit': False,\n",
       " 'CurrentTime': 1663855930763561.0}"
      ]
     },
     "execution_count": 21,
     "metadata": {},
     "output_type": "execute_result"
    }
   ],
   "source": [
    "await telsubsys.km.slewStop()"
   ]
  },
  {
   "cell_type": "code",
   "execution_count": null,
   "id": "2bcab222-9372-45a8-8982-76e67680feaf",
   "metadata": {},
   "outputs": [],
   "source": []
  },
  {
   "cell_type": "code",
   "execution_count": null,
   "id": "9d48b0c5-50e0-4842-8fd6-e261a426159d",
   "metadata": {},
   "outputs": [],
   "source": []
  },
  {
   "cell_type": "code",
   "execution_count": null,
   "id": "cf836ead-ec3a-4151-b2f6-91e0265a803f",
   "metadata": {},
   "outputs": [],
   "source": []
  }
 ],
 "metadata": {
  "kernelspec": {
   "display_name": "Python 3 (ipykernel)",
   "language": "python",
   "name": "python3"
  },
  "language_info": {
   "codemirror_mode": {
    "name": "ipython",
    "version": 3
   },
   "file_extension": ".py",
   "mimetype": "text/x-python",
   "name": "python",
   "nbconvert_exporter": "python",
   "pygments_lexer": "ipython3",
   "version": "3.10.6"
  }
 },
 "nbformat": 4,
 "nbformat_minor": 5
}
