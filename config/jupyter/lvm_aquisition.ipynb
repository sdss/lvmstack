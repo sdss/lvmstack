{
 "cells": [
  {
   "cell_type": "code",
   "execution_count": 4,
   "id": "bc924b2b-a0f7-4fa2-a682-f5822d2f24c1",
   "metadata": {},
   "outputs": [
    {
     "name": "stderr",
     "output_type": "stream",
     "text": [
      "\u001b[0;35m[DEBUG]: \u001b[0mmove tel/km 1.2833333333333332h:-56.81666666666667d & temp2foc 42\n",
      "\u001b[0;35m[DEBUG]: \u001b[0mfake astrometry at radec 1.2833333333333332h:-56.81666666666667d\n",
      "\u001b[0;35m[DEBUG]: \u001b[0mcorrect tel/km 0.2:0.3/0.0 & focus offset -0.2\n",
      "\u001b[0;35m[DEBUG]: \u001b[0mdone \n"
     ]
    }
   ],
   "source": [
    "from logging import DEBUG\n",
    "\n",
    "from astropy.coordinates import SkyCoord, Angle\n",
    "\n",
    "from lvmtipo.actors import lvm\n",
    "from lvm.tel.aquisition import aquisition\n",
    "\n",
    "telsubsys = await lvm.from_string('sci').start()\n",
    "ra = Angle('1 17 hours')\n",
    "dec = Angle('-56 49 deg')\n",
    "exptime = 3.0 \n",
    "\n",
    "await aquisition(telsubsys, ra, dec, exptime, DEBUG)\n"
   ]
  },
  {
   "cell_type": "code",
   "execution_count": 5,
   "id": "44f339b8-43a3-4948-b620-9dc56839ed3e",
   "metadata": {},
   "outputs": [
    {
     "data": {
      "text/plain": [
       "{'Reachable': True,\n",
       " 'AtHome': False,\n",
       " 'Moving': False,\n",
       " 'PositionSwitchStatus': 254,\n",
       " 'Position': 30.06428061708223,\n",
       " 'DeviceEncoder': {'Position': 640345.1257193579, 'Unit': 'STEPS'},\n",
       " 'Velocity': 0.0,\n",
       " 'AtLimit': False,\n",
       " 'CurrentTime': 1660934597569235.0}"
      ]
     },
     "execution_count": 5,
     "metadata": {},
     "output_type": "execute_result"
    }
   ],
   "source": [
    "await lvm.sci.km.slewStop()"
   ]
  },
  {
   "cell_type": "code",
   "execution_count": null,
   "id": "1d0dc2b0-c27a-4259-8179-8f393e900fb8",
   "metadata": {},
   "outputs": [],
   "source": [
    "from logging import DEBUG, INFO\n",
    "from sdsstools import get_logger\n",
    "\n",
    "logger = get_logger(\"lvm_tel_aquisition\")\n",
    "logger.sh.setLevel(DEBUG)\n",
    "\n",
    "logger.debug(\"test\")\n"
   ]
  }
 ],
 "metadata": {
  "kernelspec": {
   "display_name": "Python 3 (ipykernel)",
   "language": "python",
   "name": "python3"
  },
  "language_info": {
   "codemirror_mode": {
    "name": "ipython",
    "version": 3
   },
   "file_extension": ".py",
   "mimetype": "text/x-python",
   "name": "python",
   "nbconvert_exporter": "python",
   "pygments_lexer": "ipython3",
   "version": "3.10.5"
  }
 },
 "nbformat": 4,
 "nbformat_minor": 5
}
