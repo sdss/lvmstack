{
 "cells": [
  {
   "cell_type": "code",
   "execution_count": null,
   "id": "bc924b2b-a0f7-4fa2-a682-f5822d2f24c1",
   "metadata": {},
   "outputs": [],
   "source": [
    "from logging import DEBUG\n",
    "\n",
    "from astropy.coordinates import SkyCoord, Angle\n",
    "\n",
    "from lvmtipo.actors import lvm\n",
    "from lvm.tel.aquisition import aquisition\n",
    "\n",
    "telsubsys = await lvm.from_string('sci').start()\n",
    "ra = Angle('1 17 hours')\n",
    "dec = Angle('-56 49 deg')\n",
    "exptime = 3.0 \n",
    "\n",
    "await aquisition(telsubsys, ra, dec, exptime, DEBUG)\n"
   ]
  },
  {
   "cell_type": "code",
   "execution_count": null,
   "id": "44f339b8-43a3-4948-b620-9dc56839ed3e",
   "metadata": {},
   "outputs": [],
   "source": [
    "await lvm.sci.km.slewStop()"
   ]
  },
  {
   "cell_type": "code",
   "execution_count": null,
   "id": "1d0dc2b0-c27a-4259-8179-8f393e900fb8",
   "metadata": {},
   "outputs": [],
   "source": [
    "from logging import DEBUG, INFO\n",
    "from sdsstools import get_logger\n",
    "\n",
    "logger = get_logger(\"lvm_tel_aquisition\")\n",
    "logger.sh.setLevel(DEBUG)\n",
    "\n",
    "logger.debug(\"test\")\n"
   ]
  }
 ],
 "metadata": {
  "kernelspec": {
   "display_name": "Python 3 (ipykernel)",
   "language": "python",
   "name": "python3"
  },
  "language_info": {
   "codemirror_mode": {
    "name": "ipython",
    "version": 3
   },
   "file_extension": ".py",
   "mimetype": "text/x-python",
   "name": "python",
   "nbconvert_exporter": "python",
   "pygments_lexer": "ipython3",
   "version": "3.10.5"
  }
 },
 "nbformat": 4,
 "nbformat_minor": 5
}
