{
 "cells": [
  {
   "cell_type": "code",
   "execution_count": null,
   "id": "bc924b2b-a0f7-4fa2-a682-f5822d2f24c1",
   "metadata": {},
   "outputs": [],
   "source": [
    "from logging import DEBUG\n",
    "\n",
    "from astropy.coordinates import SkyCoord, Angle\n",
    "\n",
    "from lvmtipo.actors import lvm\n",
    "from lvm.tel.aquisition import aquisition\n",
    "\n",
    "tssn=\"skyw\"\n",
    "\n",
    "telsubsys = await lvm.from_string(tssn).start()\n",
    "ra = Angle('4 17 hours')\n",
    "dec = Angle('-30 49 deg')\n",
    "exptime = 3.0 \n",
    "\n",
    "await aquisition(telsubsys, ra, dec, exptime, DEBUG)\n"
   ]
  },
  {
   "cell_type": "code",
   "execution_count": null,
   "id": "f1a626d2-6b8d-4ed5-b824-d07032ea3612",
   "metadata": {},
   "outputs": [],
   "source": [
    "await lvm.sci.ag.guideStart()"
   ]
  },
  {
   "cell_type": "code",
   "execution_count": null,
   "id": "37e55202-05fc-4f23-bdcb-1ad0a170b34d",
   "metadata": {},
   "outputs": [],
   "source": [
    "ra_off_h = 0\n",
    "dec_off_d = -5\n",
    "\n",
    "await lvm.sci.pwi.offset(ra_add_arcsec = ra_off_h, dec_add_arcsec = dec_off_d)"
   ]
  },
  {
   "cell_type": "code",
   "execution_count": null,
   "id": "666c766e-0f8e-42b4-aabc-e5e76b92544a",
   "metadata": {},
   "outputs": [],
   "source": [
    "await lvm.sci.ag.guideStop()"
   ]
  },
  {
   "cell_type": "code",
   "execution_count": null,
   "id": "44f339b8-43a3-4948-b620-9dc56839ed3e",
   "metadata": {},
   "outputs": [],
   "source": [
    "await lvm.sci.km.slewStop()"
   ]
  },
  {
   "cell_type": "code",
   "execution_count": null,
   "id": "1d0dc2b0-c27a-4259-8179-8f393e900fb8",
   "metadata": {},
   "outputs": [],
   "source": [
    "from logging import DEBUG, INFO\n",
    "from sdsstools import get_logger\n",
    "\n",
    "logger = get_logger(\"lvm_tel_aquisition\")\n",
    "logger.sh.setLevel(DEBUG)\n",
    "\n",
    "logger.debug(\"test\")\n"
   ]
  }
 ],
 "metadata": {
  "kernelspec": {
   "display_name": "Python 3 (ipykernel)",
   "language": "python",
   "name": "python3"
  },
  "language_info": {
   "codemirror_mode": {
    "name": "ipython",
    "version": 3
   },
   "file_extension": ".py",
   "mimetype": "text/x-python",
   "name": "python",
   "nbconvert_exporter": "python",
   "pygments_lexer": "ipython3",
   "version": "3.10.6"
  }
 },
 "nbformat": 4,
 "nbformat_minor": 5
}
