{
 "cells": [
  {
   "cell_type": "code",
   "execution_count": 160,
   "id": "5a801967-96a9-40bd-b810-62ecfc8a1a5a",
   "metadata": {},
   "outputs": [
    {
     "data": {
      "text/plain": [
       "{'is_connected': True}"
      ]
     },
     "execution_count": 160,
     "metadata": {},
     "output_type": "execute_result"
    }
   ],
   "source": [
    "from logging import DEBUG\n",
    "\n",
    "from astropy.coordinates import SkyCoord, Angle\n",
    "\n",
    "from lvmtipo.actors import lvm\n",
    "from lvm.tel.aquisition import aquisition\n",
    "\n",
    "tssn=\"sci\"\n",
    "\n",
    "telsubsys = await lvm.from_string(tssn).start()\n",
    "await telsubsys.pwi.setConnected(True, statusTick = 1.0)\n"
   ]
  },
  {
   "cell_type": "code",
   "execution_count": 166,
   "id": "bc924b2b-a0f7-4fa2-a682-f5822d2f24c1",
   "metadata": {},
   "outputs": [
    {
     "name": "stderr",
     "output_type": "stream",
     "text": [
      "\u001b[0;35m[DEBUG]: \u001b[0mmove tel/km 16.333333333333332h:28.616666666666667d & temp2foc 42\n",
      "\u001b[0;35m[DEBUG]: \u001b[0mfake astrometry at radec 16.333333333333332h:28.616666666666667d\n",
      "\u001b[0;35m[DEBUG]: \u001b[0mcorrect tel/km 0.2:0.3/0.0 & focus offset -0.2\n",
      "\u001b[0;35m[DEBUG]: \u001b[0mdone \n"
     ]
    }
   ],
   "source": [
    "ra = Angle('16 20 hours')\n",
    "dec = Angle('28 37 deg')\n",
    "exptime = 3.0 \n",
    "\n",
    "if (await lvm.sci.ag.status()).unpack() != \"IDLE\": await lvm.sci.ag.guideStop()\n",
    "    \n",
    "await aquisition(telsubsys, ra, dec, exptime, DEBUG)\n"
   ]
  },
  {
   "cell_type": "code",
   "execution_count": 186,
   "id": "f3ec0bbd-88b3-43c5-9e8e-a3c3e796b5c0",
   "metadata": {},
   "outputs": [
    {
     "data": {
      "text/plain": [
       "{'state': 'PAUSE'}"
      ]
     },
     "execution_count": 186,
     "metadata": {},
     "output_type": "execute_result"
    }
   ],
   "source": [
    "await lvm.sci.ag.guideStart(pause=True, force=True)"
   ]
  },
  {
   "cell_type": "code",
   "execution_count": 182,
   "id": "37e55202-05fc-4f23-bdcb-1ad0a170b34d",
   "metadata": {},
   "outputs": [
    {
     "data": {
      "text/plain": [
       "{'is_tracking': True,\n",
       " 'is_connected': True,\n",
       " 'is_slewing': False,\n",
       " 'is_enabled': True,\n",
       " 'ra_j2000_hours': 16.3337373337308,\n",
       " 'dec_j2000_degs': 28.6218424574593,\n",
       " 'ra_apparent_hours': 16.3486486498204,\n",
       " 'dec_apparent_degs': 28.5715169110394,\n",
       " 'altitude_degs': 63.8698109373294,\n",
       " 'azimuth_degs': 321.777769178014,\n",
       " 'field_angle_rate_at_target_degs_per_sec': -0.00736235088240651,\n",
       " 'field_angle_at_target_degs': 135.848774253772,\n",
       " 'field_angle_here_degs': 135.866570999261,\n",
       " 'axis0': {'dist_to_target_arcsec': -0.107452117161604,\n",
       "  'is_enabled': True,\n",
       "  'position_degs': 321.777709465597,\n",
       "  'rms_error_arcsec': 0.3884817281736,\n",
       "  'servo_error_arcsec': 0.0},\n",
       " 'axis1': {'dist_to_target_arcsec': -0.000905544252334912,\n",
       "  'is_enabled': True,\n",
       "  'position_degs': 63.8697851690261,\n",
       "  'rms_error_arcsec': 0.00269538954743427,\n",
       "  'servo_error_arcsec': 0.0}}"
      ]
     },
     "execution_count": 182,
     "metadata": {},
     "output_type": "execute_result"
    }
   ],
   "source": [
    "ra_off_d = 20\n",
    "dec_off_d = 0\n",
    "\n",
    "#await lvm.sci.pwi.offset(ra_add_arcsec = ra_off_d, dec_add_arcsec = dec_off_d)\n",
    "#await lvm.sci.pwi.offset(ra_add_gradual_offset_arcsec = ra_off_d, dec_add_gradual_offset_arcsec = dec_off_d)\n",
    "await lvm.sci.pwi.offset(axis0_add_arcsec = ra_off_d, axis1_add_arcsec = dec_off_d)"
   ]
  },
  {
   "cell_type": "code",
   "execution_count": 183,
   "id": "9c6bf068-df93-483f-baf8-2f71085fadcc",
   "metadata": {},
   "outputs": [
    {
     "data": {
      "text/plain": [
       "{'state': 'GUIDE'}"
      ]
     },
     "execution_count": 183,
     "metadata": {},
     "output_type": "execute_result"
    }
   ],
   "source": [
    "await lvm.sci.ag.guidePause(False)"
   ]
  },
  {
   "cell_type": "code",
   "execution_count": 165,
   "id": "65f469d0-9d11-419f-a815-ca4e245f2652",
   "metadata": {},
   "outputs": [
    {
     "data": {
      "text/plain": [
       "{'state': 'PAUSE'}"
      ]
     },
     "execution_count": 165,
     "metadata": {},
     "output_type": "execute_result"
    }
   ],
   "source": [
    "await lvm.sci.ag.guidePause(True)"
   ]
  },
  {
   "cell_type": "code",
   "execution_count": 187,
   "id": "f1a626d2-6b8d-4ed5-b824-d07032ea3612",
   "metadata": {},
   "outputs": [
    {
     "data": {
      "text/plain": [
       "{'state': 'IDLE'}"
      ]
     },
     "execution_count": 187,
     "metadata": {},
     "output_type": "execute_result"
    }
   ],
   "source": [
    "await lvm.sci.ag.guideStop()"
   ]
  },
  {
   "cell_type": "code",
   "execution_count": null,
   "id": "44f339b8-43a3-4948-b620-9dc56839ed3e",
   "metadata": {},
   "outputs": [],
   "source": [
    "await lvm.sci.km.slewStop()"
   ]
  },
  {
   "cell_type": "code",
   "execution_count": null,
   "id": "1d0dc2b0-c27a-4259-8179-8f393e900fb8",
   "metadata": {},
   "outputs": [],
   "source": [
    "from logging import DEBUG, INFO\n",
    "from sdsstools import get_logger\n",
    "\n",
    "logger = get_logger(\"lvm_tel_aquisition\")\n",
    "logger.sh.setLevel(DEBUG)\n",
    "\n",
    "logger.debug(\"test\")\n"
   ]
  },
  {
   "cell_type": "code",
   "execution_count": null,
   "id": "db966d66-8077-4b91-ad5b-f1dde62a058e",
   "metadata": {},
   "outputs": [],
   "source": [
    "await telsubsys.km.slewStop()\n",
    "await telsubsys.pwi.setConnected(True, statusTick = -1.0)"
   ]
  },
  {
   "cell_type": "code",
   "execution_count": null,
   "id": "e7d55b4b-3abb-47a4-8a69-ac045313b922",
   "metadata": {},
   "outputs": [],
   "source": [
    "\n",
    "ra = Angle('16 35 hour')/15\n",
    "dec = Angle('-26 37 deg')\n",
    "            \n",
    "await telsubsys.km.status()\n",
    "await telsubsys.km.slewStart(ra.hour, dec.deg)"
   ]
  },
  {
   "cell_type": "code",
   "execution_count": null,
   "id": "2bcab222-9372-45a8-8982-76e67680feaf",
   "metadata": {},
   "outputs": [],
   "source": []
  },
  {
   "cell_type": "code",
   "execution_count": null,
   "id": "9d48b0c5-50e0-4842-8fd6-e261a426159d",
   "metadata": {},
   "outputs": [],
   "source": []
  },
  {
   "cell_type": "code",
   "execution_count": null,
   "id": "cf836ead-ec3a-4151-b2f6-91e0265a803f",
   "metadata": {},
   "outputs": [],
   "source": []
  }
 ],
 "metadata": {
  "kernelspec": {
   "display_name": "Python 3 (ipykernel)",
   "language": "python",
   "name": "python3"
  },
  "language_info": {
   "codemirror_mode": {
    "name": "ipython",
    "version": 3
   },
   "file_extension": ".py",
   "mimetype": "text/x-python",
   "name": "python",
   "nbconvert_exporter": "python",
   "pygments_lexer": "ipython3",
   "version": "3.10.6"
  }
 },
 "nbformat": 4,
 "nbformat_minor": 5
}
