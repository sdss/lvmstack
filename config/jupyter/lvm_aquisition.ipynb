{
 "cells": [
  {
   "cell_type": "code",
   "execution_count": null,
   "id": "5a801967-96a9-40bd-b810-62ecfc8a1a5a",
   "metadata": {},
   "outputs": [],
   "source": [
    "from logging import DEBUG\n",
    "\n",
    "from astropy.coordinates import SkyCoord, Angle\n",
    "\n",
    "from lvmtipo.actors import lvm\n",
    "from lvm.tel.aquisition import aquisition\n",
    "\n",
    "tssn=\"sci\"\n",
    "\n",
    "telsubsys = await lvm.from_string(tssn).start()\n",
    "await telsubsys.pwi.setConnected(True, statusTick = 1.0)\n"
   ]
  },
  {
   "cell_type": "code",
   "execution_count": null,
   "id": "bc924b2b-a0f7-4fa2-a682-f5822d2f24c1",
   "metadata": {},
   "outputs": [],
   "source": [
    "ra = Angle('11 20 hours')\n",
    "dec = Angle('54 37 deg')\n",
    "exptime = 3.0 \n",
    "\n",
    "if (await lvm.sci.ag.status()).unpack() != \"IDLE\": await lvm.sci.ag.guideStop()\n",
    "    \n",
    "await aquisition(telsubsys, ra, dec, exptime, DEBUG)\n"
   ]
  },
  {
   "cell_type": "code",
   "execution_count": null,
   "id": "f3ec0bbd-88b3-43c5-9e8e-a3c3e796b5c0",
   "metadata": {},
   "outputs": [],
   "source": [
    "await lvm.sci.ag.guideStart(pause=True, force=True)"
   ]
  },
  {
   "cell_type": "code",
   "execution_count": null,
   "id": "b99c6a90-380d-4bbb-a4cf-44140b64d515",
   "metadata": {},
   "outputs": [],
   "source": [
    "await lvm.sci.agc.reconnect()"
   ]
  },
  {
   "cell_type": "code",
   "execution_count": null,
   "id": "37e55202-05fc-4f23-bdcb-1ad0a170b34d",
   "metadata": {},
   "outputs": [],
   "source": [
    "ra_off_d = 10\n",
    "dec_off_d = 0\n",
    "\n",
    "await lvm.sci.pwi.offset(ra_add_arcsec = ra_off_d, dec_add_arcsec = dec_off_d)\n"
   ]
  },
  {
   "cell_type": "code",
   "execution_count": null,
   "id": "9c6bf068-df93-483f-baf8-2f71085fadcc",
   "metadata": {},
   "outputs": [],
   "source": [
    "await lvm.sci.ag.guidePause(False)"
   ]
  },
  {
   "cell_type": "code",
   "execution_count": null,
   "id": "65f469d0-9d11-419f-a815-ca4e245f2652",
   "metadata": {},
   "outputs": [],
   "source": [
    "await lvm.sci.ag.guidePause(True)"
   ]
  },
  {
   "cell_type": "code",
   "execution_count": null,
   "id": "7c46a81f-bab5-4bdb-b661-fda24658997f",
   "metadata": {},
   "outputs": [],
   "source": [
    "await lvm.sci.ag.status()"
   ]
  },
  {
   "cell_type": "code",
   "execution_count": null,
   "id": "f1a626d2-6b8d-4ed5-b824-d07032ea3612",
   "metadata": {},
   "outputs": [],
   "source": [
    "await lvm.sci.ag.guideStop()"
   ]
  },
  {
   "cell_type": "code",
   "execution_count": null,
   "id": "44f339b8-43a3-4948-b620-9dc56839ed3e",
   "metadata": {},
   "outputs": [],
   "source": [
    "await lvm.sci.km.slewStop()"
   ]
  },
  {
   "cell_type": "code",
   "execution_count": null,
   "id": "1d0dc2b0-c27a-4259-8179-8f393e900fb8",
   "metadata": {},
   "outputs": [],
   "source": [
    "from logging import DEBUG, INFO\n",
    "from sdsstools import get_logger\n",
    "\n",
    "logger = get_logger(\"lvm_tel_aquisition\")\n",
    "logger.sh.setLevel(DEBUG)\n",
    "\n",
    "logger.debug(\"test\")\n"
   ]
  },
  {
   "cell_type": "code",
   "execution_count": null,
   "id": "db966d66-8077-4b91-ad5b-f1dde62a058e",
   "metadata": {},
   "outputs": [],
   "source": [
    "await telsubsys.km.slewStop()\n",
    "await telsubsys.pwi.setConnected(True, statusTick = -1.0)"
   ]
  },
  {
   "cell_type": "code",
   "execution_count": null,
   "id": "e8a04014-3f84-4710-93e6-7983d51c369c",
   "metadata": {},
   "outputs": [],
   "source": [
    "await telsubsys.km.moveRelative(90, \"DEG\")\n",
    "await telsubsys.km.status()"
   ]
  },
  {
   "cell_type": "code",
   "execution_count": null,
   "id": "e7d55b4b-3abb-47a4-8a69-ac045313b922",
   "metadata": {},
   "outputs": [],
   "source": [
    "\n",
    "ra = Angle('16 35 hour')/15\n",
    "dec = Angle('-26 37 deg')\n",
    "            \n",
    "await telsubsys.km.status()\n",
    "await telsubsys.km.slewStart(ra.hour, dec.deg)"
   ]
  }
 ],
 "metadata": {
  "kernelspec": {
   "display_name": "Python 3 (ipykernel)",
   "language": "python",
   "name": "python3"
  },
  "language_info": {
   "codemirror_mode": {
    "name": "ipython",
    "version": 3
   },
   "file_extension": ".py",
   "mimetype": "text/x-python",
   "name": "python",
   "nbconvert_exporter": "python",
   "pygments_lexer": "ipython3",
   "version": "3.10.6"
  }
 },
 "nbformat": 4,
 "nbformat_minor": 5
}
