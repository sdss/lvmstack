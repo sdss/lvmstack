{
 "cells": [
  {
   "cell_type": "code",
   "execution_count": 7,
   "id": "9643d008-245b-4ffb-90b2-757fe3b8082b",
   "metadata": {},
   "outputs": [
    {
     "data": {
      "text/plain": [
       "{'Reachable': True,\n",
       " 'AtHome': True,\n",
       " 'Moving': False,\n",
       " 'PositionSwitchStatus': 254,\n",
       " 'Position': 0.0,\n",
       " 'DeviceEncoder': {'Position': 0.0, 'Unit': 'STEPS'},\n",
       " 'Velocity': 0.0,\n",
       " 'AtLimit': False}"
      ]
     },
     "execution_count": 7,
     "metadata": {},
     "output_type": "execute_result"
    }
   ],
   "source": [
    "from cluplus.proxy import Proxy\n",
    "\n",
    "foc_skye = await Proxy(\"lvm.skye.foc\").start()\n",
    "    \n",
    "await foc_skye.status()"
   ]
  },
  {
   "cell_type": "code",
   "execution_count": 8,
   "id": "57212dea-7a93-4c63-9a96-a59886f418a8",
   "metadata": {},
   "outputs": [
    {
     "data": {
      "text/plain": [
       "{'Reachable': True,\n",
       " 'AtHome': False,\n",
       " 'Moving': False,\n",
       " 'PositionSwitchStatus': 254,\n",
       " 'Position': 10000.0,\n",
       " 'DeviceEncoder': {'Position': 10000.0, 'Unit': 'STEPS'},\n",
       " 'Velocity': 0.0,\n",
       " 'AtLimit': False}"
      ]
     },
     "execution_count": 8,
     "metadata": {},
     "output_type": "execute_result"
    }
   ],
   "source": [
    "from lvmtipo.actors import lvm\n",
    "\n",
    "await lvm.spec.foc.start()\n",
    "await lvm.spec.foc.status()\n"
   ]
  },
  {
   "cell_type": "code",
   "execution_count": 9,
   "id": "4cc21b3f-8589-4ba3-8f4e-567c31bba72f",
   "metadata": {},
   "outputs": [
    {
     "data": {
      "text/plain": [
       "{'Reachable': True,\n",
       " 'AtHome': False,\n",
       " 'Moving': False,\n",
       " 'PositionSwitchStatus': 254,\n",
       " 'Position': 20000.0,\n",
       " 'DeviceEncoder': {'Position': 20000.0, 'Unit': 'STEPS'},\n",
       " 'Velocity': 0.0,\n",
       " 'AtLimit': False}"
      ]
     },
     "execution_count": 9,
     "metadata": {},
     "output_type": "execute_result"
    }
   ],
   "source": [
    "await lvm.spec.foc.moveRelative(100,\"UM\")"
   ]
  },
  {
   "cell_type": "code",
   "execution_count": 10,
   "id": "7578da99-4827-4d93-af9e-b6fd1977f084",
   "metadata": {},
   "outputs": [
    {
     "name": "stdout",
     "output_type": "stream",
     "text": [
      "reachable: True, position: 20000.0\n"
     ]
    }
   ],
   "source": [
    "reachable, position = (await lvm.spec.foc.status()).flatten().unpack('Reachable', 'DeviceEncoder.Position')\n",
    "\n",
    "print(f\"reachable: {reachable}, position: {position}\")\n"
   ]
  },
  {
   "cell_type": "code",
   "execution_count": 11,
   "id": "56037111-6cd7-40aa-8072-0994dabdf4c6",
   "metadata": {},
   "outputs": [
    {
     "name": "stderr",
     "output_type": "stream",
     "text": [
      "\u001b[1;33m[WARNING]: \u001b[0mactor lvm.skyw.pwi currently not reachable.\n",
      "\u001b[1;33m[WARNING]: \u001b[0mactor lvm.skyw.agcam currently not reachable.\n",
      "\u001b[1;33m[WARNING]: \u001b[0mactor lvm.skyw.ag currently not reachable.\n",
      "\u001b[1;33m[WARNING]: \u001b[0mactor lvm.skye.pwi currently not reachable.\n",
      "\u001b[1;33m[WARNING]: \u001b[0mactor lvm.skye.agcam currently not reachable.\n",
      "\u001b[1;33m[WARNING]: \u001b[0mactor lvm.skye.ag currently not reachable.\n",
      "\u001b[1;33m[WARNING]: \u001b[0mactor lvm.spec.pwi currently not reachable.\n",
      "\u001b[1;33m[WARNING]: \u001b[0mactor lvm.spec.agcam currently not reachable.\n",
      "\u001b[1;33m[WARNING]: \u001b[0mactor lvm.spec.ag currently not reachable.\n",
      "\u001b[1;33m[WARNING]: \u001b[0mactor lvmnps currently not reachable.\n",
      "\u001b[1;33m[WARNING]: \u001b[0mactor lvmieb currently not reachable.\n",
      "\u001b[1;33m[WARNING]: \u001b[0mactor lvmecp currently not reachable.\n",
      "\u001b[1;33m[WARNING]: \u001b[0mactor lvmscp currently not reachable.\n"
     ]
    },
    {
     "data": {
      "text/plain": [
       "<cluplus.proxy.Proxy at 0x7fb726c90df0>"
      ]
     },
     "execution_count": 11,
     "metadata": {},
     "output_type": "execute_result"
    }
   ],
   "source": [
    "from lvmtipo.actors import lvm\n",
    "from cluplus.proxy import invoke\n",
    "\n",
    "await lvm.sci.start()\n",
    "await lvm.skyw.start()\n",
    "await lvm.skye.start()\n",
    "await lvm.spec.start()\n",
    "\n",
    "await lvm.nps.start()\n",
    "await lvm.ieb.start()\n",
    "await lvm.ecp.start()\n",
    "await lvm.scp.start()\n"
   ]
  },
  {
   "cell_type": "code",
   "execution_count": 6,
   "id": "be3fcfd5-fc73-4b47-bd3d-8880a294c4a7",
   "metadata": {},
   "outputs": [
    {
     "data": {
      "text/plain": [
       "[{'Reachable': True,\n",
       "  'AtHome': False,\n",
       "  'Moving': False,\n",
       "  'PositionSwitchStatus': 254,\n",
       "  'Position': 42.0,\n",
       "  'DeviceEncoder': {'Position': -166700.0, 'Unit': 'STEPS'},\n",
       "  'Velocity': 0.0,\n",
       "  'AtLimit': False},\n",
       " {'Reachable': True,\n",
       "  'AtHome': True,\n",
       "  'Moving': False,\n",
       "  'PositionSwitchStatus': 254,\n",
       "  'Position': 0.0,\n",
       "  'DeviceEncoder': {'Position': 0.0, 'Unit': 'STEPS'},\n",
       "  'Velocity': 0.0,\n",
       "  'AtLimit': False,\n",
       "  'CurrentTime': 1660912063094685.0},\n",
       " {'state': 'GUIDE'},\n",
       " {'east': {'temperature': 25,\n",
       "   'cooler': nan,\n",
       "   'binning': [4, 4],\n",
       "   'area': [0, 0, 400.0, 275.0]},\n",
       "  'west': {'temperature': 25,\n",
       "   'cooler': nan,\n",
       "   'binning': [4, 4],\n",
       "   'area': [0, 0, 400.0, 275.0]}},\n",
       " {'is_tracking': True,\n",
       "  'is_connected': True,\n",
       "  'is_slewing': False,\n",
       "  'is_enabled': True,\n",
       "  'ra_j2000_hours': 8.7266471406182,\n",
       "  'dec_j2000_degs': -33.1863064854195,\n",
       "  'ra_apparent_hours': 8.74120458081017,\n",
       "  'dec_apparent_degs': -33.2645480878626,\n",
       "  'altitude_degs': 50.4326164094307,\n",
       "  'azimuth_degs': 108.285858307161,\n",
       "  'field_angle_rate_at_target_degs_per_sec': 0.00180009288643835,\n",
       "  'field_angle_here_degs': -96.6910654115428,\n",
       "  'field_angle_at_target_degs': -96.6910653541996,\n",
       "  'axis0': {'dist_to_target_arcsec': 0.000183619202737078,\n",
       "   'is_enabled': True,\n",
       "   'position_degs': 108.285819506402,\n",
       "   'rms_error_arcsec': 0.000428375252291215,\n",
       "   'servo_error_arcsec': 0.0},\n",
       "  'axis1': {'dist_to_target_arcsec': -0.000945781762576687,\n",
       "   'is_enabled': True,\n",
       "   'position_degs': 50.4328270869447,\n",
       "   'rms_error_arcsec': 0.00229783202771219,\n",
       "   'servo_error_arcsec': 0.0},\n",
       "  'model': {'filename': '',\n",
       "   'num_points_enabled': 0,\n",
       "   'num_points_total': 0,\n",
       "   'rms_error_arcsec': 0.0},\n",
       "  'geometry': 0},\n",
       " {'Reachable': True,\n",
       "  'AtHome': True,\n",
       "  'Moving': False,\n",
       "  'PositionSwitchStatus': 254,\n",
       "  'Position': 0.0,\n",
       "  'DeviceEncoder': {'Position': 0.0, 'Unit': 'STEPS'},\n",
       "  'Velocity': 0.0,\n",
       "  'AtLimit': False},\n",
       " {'Reachable': True,\n",
       "  'AtHome': True,\n",
       "  'Moving': False,\n",
       "  'PositionSwitchStatus': 254,\n",
       "  'Position': 0.0,\n",
       "  'DeviceEncoder': {'Position': 0.0, 'Unit': 'STEPS'},\n",
       "  'Velocity': 0.0,\n",
       "  'AtLimit': False,\n",
       "  'CurrentTime': 1660912063092954.0},\n",
       " Exception(\"Failed routing message to consumer 'lvm.skyw.ag'.\"),\n",
       " Exception(\"Failed routing message to consumer 'lvm.skyw.agcam'.\"),\n",
       " Exception(\"Failed routing message to consumer 'lvm.skyw.pwi'.\"),\n",
       " {'Reachable': True,\n",
       "  'AtHome': True,\n",
       "  'Moving': False,\n",
       "  'PositionSwitchStatus': 254,\n",
       "  'Position': 0.0,\n",
       "  'DeviceEncoder': {'Position': 0.0, 'Unit': 'STEPS'},\n",
       "  'Velocity': 0.0,\n",
       "  'AtLimit': False},\n",
       " {'Reachable': True,\n",
       "  'AtHome': True,\n",
       "  'Moving': False,\n",
       "  'PositionSwitchStatus': 254,\n",
       "  'Position': 0.0,\n",
       "  'DeviceEncoder': {'Position': 0.0, 'Unit': 'STEPS'},\n",
       "  'Velocity': 0.0,\n",
       "  'AtLimit': False,\n",
       "  'CurrentTime': 1660912063095102.0},\n",
       " Exception(\"Failed routing message to consumer 'lvm.skye.ag'.\"),\n",
       " Exception(\"Failed routing message to consumer 'lvm.skye.agcam'.\"),\n",
       " Exception(\"Failed routing message to consumer 'lvm.skye.pwi'.\"),\n",
       " {'Reachable': True,\n",
       "  'AtHome': False,\n",
       "  'Moving': False,\n",
       "  'PositionSwitchStatus': 254,\n",
       "  'Position': 10000.0,\n",
       "  'DeviceEncoder': {'Position': 10000.0, 'Unit': 'STEPS'},\n",
       "  'Velocity': 0.0,\n",
       "  'AtLimit': False},\n",
       " {'Reachable': True,\n",
       "  'AtHome': True,\n",
       "  'Moving': False,\n",
       "  'PositionSwitchStatus': 248,\n",
       "  'Position': 0,\n",
       "  'DeviceEncoder': {'Position': 0, 'Unit': 'STEPS'},\n",
       "  'Velocity': 0.0},\n",
       " Exception(\"Failed routing message to consumer 'lvm.spec.ag'.\"),\n",
       " Exception(\"Failed routing message to consumer 'lvm.spec.agcam'.\"),\n",
       " Exception(\"Failed routing message to consumer 'lvm.spec.pwi'.\"),\n",
       " Exception(\"Failed routing message to consumer 'lvmnps'.\"),\n",
       " Exception(\"Failed routing message to consumer 'lvmieb'.\"),\n",
       " Exception(\"Failed routing message to consumer 'lvmecp'.\"),\n",
       " Exception(\"Failed routing message to consumer 'lvmscp'.\")]"
      ]
     },
     "execution_count": 6,
     "metadata": {},
     "output_type": "execute_result"
    }
   ],
   "source": [
    "await invoke(lvm.sci.foc.status(), lvm.sci.km.status(), lvm.sci.ag.status(), lvm.sci.agc.status(), lvm.sci.pwi.status(),\n",
    "             lvm.skyw.foc.status(), lvm.skyw.km.status(), lvm.skyw.ag.status(), lvm.skyw.agc.status(), lvm.skyw.pwi.status(),\n",
    "             lvm.skye.foc.status(), lvm.skye.km.status(), lvm.skye.ag.status(), lvm.skye.agc.status(), lvm.skye.pwi.status(),\n",
    "             lvm.spec.foc.status(), lvm.spec.fibsel.status(), lvm.spec.ag.status(), lvm.spec.agc.status(), lvm.spec.pwi.status(),\n",
    "             lvm.nps.status(), lvm.ieb.ping(), lvm.ecp.ping(), lvm.scp.ping(),\n",
    "             return_exceptions=True)\n"
   ]
  },
  {
   "cell_type": "code",
   "execution_count": null,
   "id": "4e131b2b-23b0-4e5e-85d2-a0398f51e094",
   "metadata": {},
   "outputs": [],
   "source": []
  }
 ],
 "metadata": {
  "kernelspec": {
   "display_name": "Python 3 (ipykernel)",
   "language": "python",
   "name": "python3"
  },
  "language_info": {
   "codemirror_mode": {
    "name": "ipython",
    "version": 3
   },
   "file_extension": ".py",
   "mimetype": "text/x-python",
   "name": "python",
   "nbconvert_exporter": "python",
   "pygments_lexer": "ipython3",
   "version": "3.10.5"
  }
 },
 "nbformat": 4,
 "nbformat_minor": 5
}
