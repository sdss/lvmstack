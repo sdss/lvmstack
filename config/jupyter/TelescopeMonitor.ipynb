{
 "cells": [
  {
   "cell_type": "code",
   "execution_count": 1,
   "id": "01aaf8e8-b516-4b48-bfc9-e15f097f2dd4",
   "metadata": {},
   "outputs": [],
   "source": [
    "def default(tel):\n",
    "  return f\"\"\"\n",
    "lvm.{tel}.pwi:\n",
    "    ra_j2000_hours: {tel}:ra_j2000_h\n",
    "    dec_j2000_degs: {tel}:dec_j2000_d\n",
    "    altitude_degs: {tel}:altitude_d\n",
    "    azimuth_degs: {tel}:azimuth_d\n",
    "\n",
    "lvm.{tel}.foc:\n",
    "    Position: {tel}:foc_dt\n",
    "\n",
    "lvm.{tel}.km:\n",
    "    Position: {tel}:km_d\n",
    "    SkyPA: {tel}:sky_d\n",
    "\n",
    "lvm.tel:\n",
    "    temperature: bentemp\n",
    "    humidity: benhum\n",
    "    pressure: benpress\n",
    "\n",
    "lvm.{tel}.agcam:\n",
    "    east.temperature: {tel}:east.temp\n",
    "    east.filename: {tel}:east.file\n",
    "    west.temperature: {tel}:west.temp\n",
    "    west.filename: {tel}:west.file\n",
    "    center.temperature: {tel}:center.temp\n",
    "    center.filename: {tel}:center.file\n",
    "\"\"\"\n",
    "\n",
    "\n",
    "tel = ['sci', 'skye', 'skyw', 'spec']\n"
   ]
  },
  {
   "cell_type": "code",
   "execution_count": 2,
   "id": "6eef27bd",
   "metadata": {},
   "outputs": [
    {
     "data": {
      "application/vnd.jupyter.widget-view+json": {
       "model_id": "13b009dda69748f88338eb8d2ee54bef",
       "version_major": 2,
       "version_minor": 0
      },
      "text/plain": [
       "DataGrid(auto_fit_columns=True, auto_fit_params={'area': 'body', 'padding': 120, 'numCols': 5}, corner_rendere…"
      ]
     },
     "metadata": {},
     "output_type": "display_data"
    },
    {
     "ename": "CancelledError",
     "evalue": "",
     "output_type": "error",
     "traceback": [
      "\u001b[0;31m---------------------------------------------------------------------------\u001b[0m",
      "\u001b[0;31mCancelledError\u001b[0m                            Traceback (most recent call last)",
      "Cell \u001b[0;32mIn[2], line 43\u001b[0m\n\u001b[1;32m     41\u001b[0m             \u001b[38;5;66;03m# print(f\"{sk[0] if len(sk) > 1 else 'sci'} {key2index[sk[-1]]} {v[0]}\")\u001b[39;00m\n\u001b[1;32m     42\u001b[0m             grid\u001b[38;5;241m.\u001b[39mset_cell_value(sk[\u001b[38;5;241m0\u001b[39m] \u001b[38;5;28;01mif\u001b[39;00m \u001b[38;5;28mlen\u001b[39m(sk) \u001b[38;5;241m>\u001b[39m \u001b[38;5;241m1\u001b[39m \u001b[38;5;28;01melse\u001b[39;00m \u001b[38;5;124m'\u001b[39m\u001b[38;5;124msci\u001b[39m\u001b[38;5;124m'\u001b[39m, key2index[sk[\u001b[38;5;241m-\u001b[39m\u001b[38;5;241m1\u001b[39m]] ,v[\u001b[38;5;241m0\u001b[39m])\n\u001b[0;32m---> 43\u001b[0m         \u001b[38;5;28;01mawait\u001b[39;00m asyncio\u001b[38;5;241m.\u001b[39msleep(\u001b[38;5;241m1.0\u001b[39m)\n\u001b[1;32m     45\u001b[0m \u001b[38;5;66;03m#file=\"/data/lvm/sci/agcam/east/20221128/lvm.sci.agcam.east_00000002.fits\"\u001b[39;00m\n\u001b[1;32m     46\u001b[0m \u001b[38;5;66;03m#grid.set_cell_value(\"sci\", 11, file)\u001b[39;00m\n",
      "File \u001b[0;32m/opt/conda/lib/python3.10/asyncio/tasks.py:605\u001b[0m, in \u001b[0;36msleep\u001b[0;34m(delay, result)\u001b[0m\n\u001b[1;32m    601\u001b[0m h \u001b[38;5;241m=\u001b[39m loop\u001b[38;5;241m.\u001b[39mcall_later(delay,\n\u001b[1;32m    602\u001b[0m                     futures\u001b[38;5;241m.\u001b[39m_set_result_unless_cancelled,\n\u001b[1;32m    603\u001b[0m                     future, result)\n\u001b[1;32m    604\u001b[0m \u001b[38;5;28;01mtry\u001b[39;00m:\n\u001b[0;32m--> 605\u001b[0m     \u001b[38;5;28;01mreturn\u001b[39;00m \u001b[38;5;28;01mawait\u001b[39;00m future\n\u001b[1;32m    606\u001b[0m \u001b[38;5;28;01mfinally\u001b[39;00m:\n\u001b[1;32m    607\u001b[0m     h\u001b[38;5;241m.\u001b[39mcancel()\n",
      "\u001b[0;31mCancelledError\u001b[0m: "
     ]
    }
   ],
   "source": [
    "import yaml\n",
    "import asyncio\n",
    "from lvmtipo.scraper import Scraper\n",
    "\n",
    "import numpy as np\n",
    "import pandas as pd\n",
    "\n",
    "from functools import reduce\n",
    "from cluplus.proxy import flatten\n",
    "\n",
    "from ipydatagrid import TextRenderer, DataGrid\n",
    "\n",
    "\n",
    "config = {t: yaml.safe_load(default(t)) for t in tel}\n",
    "key2index = {k.split(\":\")[-1]: i for i, k in enumerate(flatten(config['sci']).values())}\n",
    "\n",
    "df = pd.DataFrame(\n",
    "    data={\n",
    "        \"Key\": key2index.keys(),\n",
    "        **{t: [''] * len(key2index.keys()) for t in tel}\n",
    "    }\n",
    ")\n",
    "default_renderer = TextRenderer(\n",
    "    text_elide_direction=\"left\",\n",
    ")\n",
    "\n",
    "grid = DataGrid(df, index_name=\"\", default_renderer=default_renderer)\n",
    "grid.auto_fit_columns = True\n",
    "grid.auto_fit_params = {\"area\": \"body\", \"padding\": 120, \"numCols\": 5}\n",
    "display(grid)\n",
    "\n",
    "client = await Scraper(reduce(lambda a, b: dict(a, **b), config.values())).start()\n",
    "log = client.log\n",
    "\n",
    "while(True):\n",
    "        for k, v in client.scraper_store.items():\n",
    "            sk = k.split(':')\n",
    "            grid.set_cell_value(sk[0] if len(sk) > 1 else 'sci', key2index[sk[-1]] ,v[0])\n",
    "        await asyncio.sleep(1.0)\n"
   ]
  }
 ],
 "metadata": {
  "kernelspec": {
   "display_name": "Python 3 (ipykernel)",
   "language": "python",
   "name": "python3"
  },
  "language_info": {
   "codemirror_mode": {
    "name": "ipython",
    "version": 3
   },
   "file_extension": ".py",
   "mimetype": "text/x-python",
   "name": "python",
   "nbconvert_exporter": "python",
   "pygments_lexer": "ipython3",
   "version": "3.10.8"
  }
 },
 "nbformat": 4,
 "nbformat_minor": 5
}
