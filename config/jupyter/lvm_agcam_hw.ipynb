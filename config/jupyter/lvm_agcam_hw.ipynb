{
 "cells": [
  {
   "cell_type": "code",
   "execution_count": null,
   "id": "a725c8e1-fd76-4293-bd6b-33527c5300b9",
   "metadata": {},
   "outputs": [],
   "source": [
    "%matplotlib inline\n",
    "from lvmtipo.actors import lvm\n",
    "from lvmagp.images import Image\n",
    "from plotimg import plot_images\n",
    "\n",
    "await lvm.spec.agc.start()\n",
    "\n",
    "filename = (await lvm.spec.agc.expose(0.0042)).flatten().unpack(\"*.filename\") \n",
    "print(filename)\n",
    "plot_images([Image.from_file(filename)])\n"
   ]
  },
  {
   "cell_type": "code",
   "execution_count": null,
   "id": "fa89cee2-6513-4712-b1e5-b5dca790833b",
   "metadata": {},
   "outputs": [],
   "source": [
    "%matplotlib inline\n",
    "\n",
    "from cluplus.proxy import invoke\n",
    "from lvmtipo.actors import lvm\n",
    "from lvmagp.images import Image\n",
    "from plotimg import plot_images\n",
    "\n",
    "await lvm.spec.agc.start()\n",
    "await lvm.skye.agc.start()\n",
    "\n",
    "exptime = 0.0042\n",
    "rc = await invoke(lvm.skye.agc.expose(exptime), lvm.spec.agc.expose(exptime))\n",
    "filenames = rc.flatten().unpack(\"*.filename\")\n",
    "\n",
    "print(filenames)\n",
    "plot_images([Image.from_file(f) for f in filenames])"
   ]
  }
 ],
 "metadata": {
  "kernelspec": {
   "display_name": "Python 3 (ipykernel)",
   "language": "python",
   "name": "python3"
  },
  "language_info": {
   "codemirror_mode": {
    "name": "ipython",
    "version": 3
   },
   "file_extension": ".py",
   "mimetype": "text/x-python",
   "name": "python",
   "nbconvert_exporter": "python",
   "pygments_lexer": "ipython3",
   "version": "3.10.6"
  }
 },
 "nbformat": 4,
 "nbformat_minor": 5
}
