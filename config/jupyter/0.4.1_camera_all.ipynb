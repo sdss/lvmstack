{
 "cells": [
  {
   "cell_type": "code",
   "execution_count": null,
   "id": "858151c3-ad3f-43dc-a388-f7e1bf6edf6c",
   "metadata": {
    "tags": []
   },
   "outputs": [],
   "source": [
    "from itertools import chain\n",
    "\n",
    "from lvmtipo.actors import lvm\n",
    "from cluplus.proxy import invoke\n",
    "\n",
    "from lvmagp.images import Image\n",
    "from lvm.plotimg import plot_images"
   ]
  },
  {
   "cell_type": "code",
   "execution_count": null,
   "id": "6e206b0c-4f34-45a9-b275-df83f2f0fb6b",
   "metadata": {
    "tags": []
   },
   "outputs": [],
   "source": [
    "await invoke(lvm.sci.agc.start(), lvm.skyw.agc.start(), lvm.skye.agc.start(), lvm.spec.agc.start())\n",
    "await invoke(lvm.sci.agc.status(), lvm.skyw.agc.status(), lvm.skye.agc.status(), lvm.spec.agc.status(),\n",
    "             return_exceptions=True)\n"
   ]
  },
  {
   "cell_type": "code",
   "execution_count": null,
   "id": "81d6c69b-f42d-47dd-97aa-997f05ea5db3",
   "metadata": {
    "tags": []
   },
   "outputs": [],
   "source": [
    "exptime = 0.1"
   ]
  },
  {
   "cell_type": "code",
   "execution_count": null,
   "id": "76509324-f0eb-4013-aa87-d20f67b9508e",
   "metadata": {
    "tags": []
   },
   "outputs": [],
   "source": [
    "await invoke(lvm.sci.agc.reconnect(),\n",
    "             lvm.skye.agc.reconnect(),\n",
    "             lvm.skyw.agc.reconnect(),\n",
    "             lvm.spec.agc.reconnect(),\n",
    "             return_exceptions=True)"
   ]
  },
  {
   "cell_type": "code",
   "execution_count": null,
   "id": "ac23340b-c50f-4756-b54a-8129c16d97fb",
   "metadata": {
    "tags": []
   },
   "outputs": [],
   "source": [
    "\n",
    "rc = await invoke(lvm.sci.agc.expose(exptime),\n",
    "                  lvm.skye.agc.expose(exptime),\n",
    "                  lvm.skyw.agc.expose(exptime),\n",
    "                  lvm.spec.agc.expose(exptime),\n",
    "                  return_exceptions=True)\n",
    "print(rc)\n",
    "filenames = rc.flatten().unpack('*filename')\n",
    "print(filenames)\n",
    "images = [Image.from_file(f) for f in filenames]\n",
    "plot_images(images, figdisp=\"v\")\n"
   ]
  },
  {
   "cell_type": "code",
   "execution_count": null,
   "id": "89e823d9-957a-4c56-b2cc-e124269bb6a3",
   "metadata": {
    "tags": []
   },
   "outputs": [],
   "source": [
    "await lvm.skyw.agc.reconnect()"
   ]
  },
  {
   "cell_type": "code",
   "execution_count": null,
   "id": "4ef3ff7f-60ee-4d30-9ef2-13c7483e7a8f",
   "metadata": {
    "tags": []
   },
   "outputs": [],
   "source": [
    "rc = await lvm.sci.agc.expose( exptime)\n",
    "filenames = rc.flatten().unpack(\"*.filename\")\n",
    "images = [Image.from_file(f) for f in filenames]\n",
    "plot_images(images)"
   ]
  },
  {
   "cell_type": "code",
   "execution_count": null,
   "id": "2809117b-fb78-445d-8d5a-fe933cedf27b",
   "metadata": {
    "tags": []
   },
   "outputs": [],
   "source": [
    "rc = await lvm.skyw.agc.expose( exptime)\n",
    "filenames = rc.flatten().unpack(\"*.filename\")\n",
    "images = [Image.from_file(f) for f in filenames]\n",
    "plot_images(images)\n"
   ]
  },
  {
   "cell_type": "code",
   "execution_count": null,
   "id": "6b22193a-744e-48f7-a716-8eadf175e75a",
   "metadata": {
    "tags": []
   },
   "outputs": [],
   "source": [
    "rc = await lvm.skye.agc.expose( exptime)\n",
    "filenames = rc.flatten().unpack(\"*.filename\")\n",
    "images = [Image.from_file(f) for f in filenames]\n",
    "plot_images(images)\n"
   ]
  },
  {
   "cell_type": "code",
   "execution_count": null,
   "id": "f48265bb-4d4a-4bd2-bbe7-9b8ec38642c6",
   "metadata": {
    "tags": []
   },
   "outputs": [],
   "source": [
    "try:\n",
    "    rc = await lvm.spec.agc.expose( exptime)\n",
    "    filename = rc.flatten().unpack(\"*.filename\")\n",
    "    images = [Image.from_file(f) for f in [filename]]\n",
    "    plot_images(images)\n",
    "\n",
    "except Exception as ex:\n",
    "    print(ex)\n",
    "\n"
   ]
  },
  {
   "cell_type": "code",
   "execution_count": null,
   "id": "dec1ef5c-b62c-4fca-8db8-78f36ecddf4b",
   "metadata": {},
   "outputs": [],
   "source": []
  },
  {
   "cell_type": "code",
   "execution_count": null,
   "id": "6de69221-daca-4bad-a9f2-f46747eb62ac",
   "metadata": {},
   "outputs": [],
   "source": []
  }
 ],
 "metadata": {
  "kernelspec": {
   "display_name": "Python 3 (ipykernel)",
   "language": "python",
   "name": "python3"
  },
  "language_info": {
   "codemirror_mode": {
    "name": "ipython",
    "version": 3
   },
   "file_extension": ".py",
   "mimetype": "text/x-python",
   "name": "python",
   "nbconvert_exporter": "python",
   "pygments_lexer": "ipython3",
   "version": "3.10.9"
  }
 },
 "nbformat": 4,
 "nbformat_minor": 5
}
