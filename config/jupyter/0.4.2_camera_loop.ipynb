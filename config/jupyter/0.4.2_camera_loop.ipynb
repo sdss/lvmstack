{
 "cells": [
  {
   "cell_type": "code",
   "execution_count": 11,
   "id": "855a40d2-78d7-4211-a025-7e4c22180b1d",
   "metadata": {
    "tags": []
   },
   "outputs": [
    {
     "data": {
      "text/plain": [
       "{'east': {'state': 'online'},\n",
       " 'center': {'state': 'online'},\n",
       " 'west': {'state': 'online'}}"
      ]
     },
     "execution_count": 11,
     "metadata": {},
     "output_type": "execute_result"
    }
   ],
   "source": [
    "%matplotlib inline \n",
    "#%matplotlib widget \n",
    "\n",
    "import asyncio\n",
    "\n",
    "from cluplus.proxy import invoke\n",
    "\n",
    "from lvmtipo.actors import lvm\n",
    "from lvmagp.images import Image\n",
    "from lvm.plotimg import plot_images\n",
    "\n",
    "from IPython.display import clear_output\n",
    "\n",
    "tel = lvm.from_string(\"sci\")\n",
    "\n",
    "await tel.start()\n",
    "await tel.pwi.setConnected(True)\n",
    "await tel.agc.reconnect()"
   ]
  },
  {
   "cell_type": "code",
   "execution_count": 10,
   "id": "3a4930fe-39a9-417d-bbf7-f05f1f63bc73",
   "metadata": {
    "tags": []
   },
   "outputs": [
    {
     "ename": "Exception",
     "evalue": "Unknown module type _Nice-Exception:::Basda::MoCon::LimitSwitchException: Limit switch settings are wrong, broken cable or collision detected. (If no limits are in use, bridge the limit switches with ground!)",
     "output_type": "error",
     "traceback": [
      "\u001b[0;31m---------------------------------------------------------------------------\u001b[0m",
      "\u001b[0;31mException\u001b[0m                                 Traceback (most recent call last)",
      "Cell \u001b[0;32mIn[10], line 4\u001b[0m\n\u001b[1;32m      1\u001b[0m \u001b[38;5;28;01mfrom\u001b[39;00m \u001b[38;5;21;01mlvmtipo\u001b[39;00m\u001b[38;5;21;01m.\u001b[39;00m\u001b[38;5;21;01mactors\u001b[39;00m \u001b[38;5;28;01mimport\u001b[39;00m lvm\n\u001b[1;32m      3\u001b[0m \u001b[38;5;28;01mawait\u001b[39;00m lvm\u001b[38;5;241m.\u001b[39msci\u001b[38;5;241m.\u001b[39mkm\u001b[38;5;241m.\u001b[39mstart()\n\u001b[0;32m----> 4\u001b[0m \u001b[38;5;28;01mawait\u001b[39;00m lvm\u001b[38;5;241m.\u001b[39msci\u001b[38;5;241m.\u001b[39mkm\u001b[38;5;241m.\u001b[39mstatus()\n\u001b[1;32m      5\u001b[0m \u001b[38;5;28;01mawait\u001b[39;00m lvm\u001b[38;5;241m.\u001b[39msci\u001b[38;5;241m.\u001b[39mpwi\u001b[38;5;241m.\u001b[39mstart()\n",
      "File \u001b[0;32m~/lvm/cluplus/python/cluplus/proxy.py:190\u001b[0m, in \u001b[0;36mProxy.call_command\u001b[0;34m(self, command, callback, time_limit, nowait, nosync, object_hook, *args, **kwargs)\u001b[0m\n\u001b[1;32m    187\u001b[0m \u001b[38;5;28;01mif\u001b[39;00m nosync: \u001b[38;5;28;01mreturn\u001b[39;00m\n\u001b[1;32m    188\u001b[0m \u001b[38;5;28;01mif\u001b[39;00m nowait: \u001b[38;5;28;01mreturn\u001b[39;00m \u001b[38;5;28mself\u001b[39m\u001b[38;5;241m.\u001b[39m_handle_command_reply(fu)\n\u001b[0;32m--> 190\u001b[0m \u001b[38;5;28;01mreturn\u001b[39;00m \u001b[38;5;28;01mawait\u001b[39;00m \u001b[38;5;28mself\u001b[39m\u001b[38;5;241m.\u001b[39m_handle_command_reply(fu)\n",
      "File \u001b[0;32m~/lvm/cluplus/python/cluplus/proxy.py:149\u001b[0m, in \u001b[0;36mProxy._handle_command_reply\u001b[0;34m(self, fu)\u001b[0m\n\u001b[1;32m    146\u001b[0m ret \u001b[38;5;241m=\u001b[39m \u001b[38;5;28;01mawait\u001b[39;00m fu\n\u001b[1;32m    148\u001b[0m \u001b[38;5;28;01mif\u001b[39;00m \u001b[38;5;28mhasattr\u001b[39m(ret, \u001b[38;5;124m\"\u001b[39m\u001b[38;5;124mstatus\u001b[39m\u001b[38;5;124m\"\u001b[39m) \u001b[38;5;129;01mand\u001b[39;00m ret\u001b[38;5;241m.\u001b[39mstatus\u001b[38;5;241m.\u001b[39mdid_fail:\n\u001b[0;32m--> 149\u001b[0m     \u001b[38;5;28;01mraise\u001b[39;00m \u001b[38;5;28mself\u001b[39m\u001b[38;5;241m.\u001b[39m_errorMapToException(ret\u001b[38;5;241m.\u001b[39mreplies[\u001b[38;5;241m-\u001b[39m\u001b[38;5;241m1\u001b[39m]\u001b[38;5;241m.\u001b[39mmessage[\u001b[38;5;124m'\u001b[39m\u001b[38;5;124merror\u001b[39m\u001b[38;5;124m'\u001b[39m])\n\u001b[1;32m    151\u001b[0m \u001b[38;5;28;01mreturn\u001b[39;00m ProxyDict(ret\u001b[38;5;241m.\u001b[39mreplies[\u001b[38;5;241m-\u001b[39m\u001b[38;5;241m1\u001b[39m]\u001b[38;5;241m.\u001b[39mmessage)\n",
      "\u001b[0;31mException\u001b[0m: Unknown module type _Nice-Exception:::Basda::MoCon::LimitSwitchException: Limit switch settings are wrong, broken cable or collision detected. (If no limits are in use, bridge the limit switches with ground!)"
     ]
    }
   ],
   "source": [
    "from lvmtipo.actors import lvm\n",
    "\n",
    "await lvm.sci.km.start()\n",
    "await lvm.sci.km.status()\n",
    "await lvm.sci.pwi.start()"
   ]
  },
  {
   "cell_type": "code",
   "execution_count": 4,
   "id": "8fe03028-75b0-4e12-bc90-13175048001d",
   "metadata": {
    "tags": []
   },
   "outputs": [
    {
     "data": {
      "text/plain": [
       "{'is_slewing': False,\n",
       " 'is_tracking': False,\n",
       " 'is_enabled': True,\n",
       " 'axis0': {'is_enabled': True},\n",
       " 'axis1': {'is_enabled': True}}"
      ]
     },
     "execution_count": 4,
     "metadata": {},
     "output_type": "execute_result"
    }
   ],
   "source": [
    "await lvm.sci.pwi.stop()"
   ]
  },
  {
   "cell_type": "code",
   "execution_count": 4,
   "id": "c13f1abf-0821-43fd-9a75-debfdc7b28b9",
   "metadata": {
    "tags": []
   },
   "outputs": [
    {
     "name": "stdout",
     "output_type": "stream",
     "text": [
      "ra_h:dec_d 5.73893910194978:-1.19750583149404\n"
     ]
    },
    {
     "data": {
      "text/plain": [
       "{'Reachable': True,\n",
       " 'AtHome': False,\n",
       " 'Moving': False,\n",
       " 'PositionSwitchStatus': 0,\n",
       " 'Position': -3.9931111242117936,\n",
       " 'DeviceEncoder': {'Position': 2358124.0, 'Unit': 'STEPS'},\n",
       " 'Velocity': 0.0,\n",
       " 'AtLimit': False,\n",
       " 'CurrentTime': 182079409.0,\n",
       " 'Simulate': False,\n",
       " 'SkyPA': -7.986222224842379}"
      ]
     },
     "execution_count": 4,
     "metadata": {},
     "output_type": "execute_result"
    }
   ],
   "source": [
    "ra_h, dec_d = (await lvm.sci.pwi.status()).flatten().unpack(\"ra_j2000_hours\", \"dec_j2000_degs\")\n",
    "print(f\"ra_h:dec_d {ra_h}:{dec_d}\")\n",
    "\n",
    "await lvm.sci.km.slewStart(ra_h, dec_d)"
   ]
  },
  {
   "cell_type": "code",
   "execution_count": null,
   "id": "d86abd42-f3e5-459f-87ec-5c7fca01674e",
   "metadata": {
    "tags": []
   },
   "outputs": [
    {
     "name": "stdout",
     "output_type": "stream",
     "text": [
      "['/data/lvm/sci/agcam/east/20230222/lvm.sci.agcam.east_00000192.fits', '/data/lvm/sci/agcam/center/20230222/lvm.sci.agcam.center_00000192.fits', '/data/lvm/sci/agcam/west/20230222/lvm.sci.agcam.west_00000192.fits']\n"
     ]
    }
   ],
   "source": [
    "exptime = 5\n",
    "\n",
    "while True:\n",
    "    rc = await tel.agc.expose( exptime)\n",
    "    filenames = rc.flatten().unpack(\"*.filename\")\n",
    "    clear_output()\n",
    "    print(filenames)\n",
    "    images = [Image.from_file(f) for f in filenames]\n",
    "    plot_images([images[1]])\n",
    "    print()"
   ]
  },
  {
   "cell_type": "code",
   "execution_count": null,
   "id": "2b7fade7-8576-4568-a96c-a95f11446893",
   "metadata": {},
   "outputs": [],
   "source": []
  },
  {
   "cell_type": "code",
   "execution_count": 9,
   "id": "7826afb9-277f-4796-966c-6054202c58b5",
   "metadata": {},
   "outputs": [
    {
     "data": {
      "text/plain": [
       "{'ra_j2000_hours': 6.50001576541968, 'dec_j2000_degs': 4.9501780204231}"
      ]
     },
     "execution_count": 9,
     "metadata": {},
     "output_type": "execute_result"
    }
   ],
   "source": [
    "await tel.pwi.gotoRaDecJ2000(6.5, 4.95)\n"
   ]
  }
 ],
 "metadata": {
  "kernelspec": {
   "display_name": "Python 3 (ipykernel)",
   "language": "python",
   "name": "python3"
  },
  "language_info": {
   "codemirror_mode": {
    "name": "ipython",
    "version": 3
   },
   "file_extension": ".py",
   "mimetype": "text/x-python",
   "name": "python",
   "nbconvert_exporter": "python",
   "pygments_lexer": "ipython3",
   "version": "3.10.9"
  }
 },
 "nbformat": 4,
 "nbformat_minor": 5
}
