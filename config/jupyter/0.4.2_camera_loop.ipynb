{
 "cells": [
  {
   "cell_type": "code",
   "execution_count": 1,
   "id": "7a7b00f8-b026-40e9-8ddf-b27a5bcfc07e",
   "metadata": {
    "tags": []
   },
   "outputs": [
    {
     "name": "stderr",
     "output_type": "stream",
     "text": [
      "\u001b[1;33m[WARNING]: \u001b[0mactor lvm.sci.ag currently not reachable.\n",
      "\u001b[1;33m[WARNING]: \u001b[0mactor lvm.sci.agcam currently not reachable.\n",
      "\u001b[1;33m[WARNING]: \u001b[0mactor lvm.sci.foc currently not reachable.\n",
      "\u001b[1;33m[WARNING]: \u001b[0mactor lvm.sci.km currently not reachable.\n"
     ]
    },
    {
     "ename": "Exception",
     "evalue": "Failed routing message to consumer 'lvm.sci.agcam'.",
     "output_type": "error",
     "traceback": [
      "\u001b[0;31m---------------------------------------------------------------------------\u001b[0m",
      "\u001b[0;31mException\u001b[0m                                 Traceback (most recent call last)",
      "Cell \u001b[0;32mIn[1], line 18\u001b[0m\n\u001b[1;32m     16\u001b[0m \u001b[38;5;28;01mawait\u001b[39;00m tel\u001b[38;5;241m.\u001b[39mstart()\n\u001b[1;32m     17\u001b[0m \u001b[38;5;28;01mawait\u001b[39;00m tel\u001b[38;5;241m.\u001b[39mpwi\u001b[38;5;241m.\u001b[39msetConnected(\u001b[38;5;28;01mTrue\u001b[39;00m, statusTick\u001b[38;5;241m=\u001b[39m\u001b[38;5;241m1.0\u001b[39m)\n\u001b[0;32m---> 18\u001b[0m \u001b[38;5;28;01mawait\u001b[39;00m tel\u001b[38;5;241m.\u001b[39magc\u001b[38;5;241m.\u001b[39mreconnect()\n\u001b[1;32m     20\u001b[0m exptime \u001b[38;5;241m=\u001b[39m \u001b[38;5;241m30\u001b[39m\n\u001b[1;32m     22\u001b[0m \u001b[38;5;28;01mwhile\u001b[39;00m \u001b[38;5;28;01mTrue\u001b[39;00m:\n",
      "File \u001b[0;32m~/lvm/cluplus/python/cluplus/proxy.py:190\u001b[0m, in \u001b[0;36mProxy.call_command\u001b[0;34m(self, command, callback, time_limit, nowait, nosync, object_hook, *args, **kwargs)\u001b[0m\n\u001b[1;32m    187\u001b[0m \u001b[38;5;28;01mif\u001b[39;00m nosync: \u001b[38;5;28;01mreturn\u001b[39;00m\n\u001b[1;32m    188\u001b[0m \u001b[38;5;28;01mif\u001b[39;00m nowait: \u001b[38;5;28;01mreturn\u001b[39;00m \u001b[38;5;28mself\u001b[39m\u001b[38;5;241m.\u001b[39m_handle_command_reply(fu)\n\u001b[0;32m--> 190\u001b[0m \u001b[38;5;28;01mreturn\u001b[39;00m \u001b[38;5;28;01mawait\u001b[39;00m \u001b[38;5;28mself\u001b[39m\u001b[38;5;241m.\u001b[39m_handle_command_reply(fu)\n",
      "File \u001b[0;32m~/lvm/cluplus/python/cluplus/proxy.py:149\u001b[0m, in \u001b[0;36mProxy._handle_command_reply\u001b[0;34m(self, fu)\u001b[0m\n\u001b[1;32m    146\u001b[0m ret \u001b[38;5;241m=\u001b[39m \u001b[38;5;28;01mawait\u001b[39;00m fu\n\u001b[1;32m    148\u001b[0m \u001b[38;5;28;01mif\u001b[39;00m \u001b[38;5;28mhasattr\u001b[39m(ret, \u001b[38;5;124m\"\u001b[39m\u001b[38;5;124mstatus\u001b[39m\u001b[38;5;124m\"\u001b[39m) \u001b[38;5;129;01mand\u001b[39;00m ret\u001b[38;5;241m.\u001b[39mstatus\u001b[38;5;241m.\u001b[39mdid_fail:\n\u001b[0;32m--> 149\u001b[0m     \u001b[38;5;28;01mraise\u001b[39;00m \u001b[38;5;28mself\u001b[39m\u001b[38;5;241m.\u001b[39m_errorMapToException(ret\u001b[38;5;241m.\u001b[39mreplies[\u001b[38;5;241m-\u001b[39m\u001b[38;5;241m1\u001b[39m]\u001b[38;5;241m.\u001b[39mmessage[\u001b[38;5;124m'\u001b[39m\u001b[38;5;124merror\u001b[39m\u001b[38;5;124m'\u001b[39m])\n\u001b[1;32m    151\u001b[0m \u001b[38;5;28;01mreturn\u001b[39;00m ProxyDict(ret\u001b[38;5;241m.\u001b[39mreplies[\u001b[38;5;241m-\u001b[39m\u001b[38;5;241m1\u001b[39m]\u001b[38;5;241m.\u001b[39mmessage)\n",
      "\u001b[0;31mException\u001b[0m: Failed routing message to consumer 'lvm.sci.agcam'."
     ]
    }
   ],
   "source": [
    "%matplotlib inline \n",
    "#%matplotlib widget \n",
    "\n",
    "import asyncio\n",
    "\n",
    "from cluplus.proxy import invoke\n",
    "\n",
    "from lvmtipo.actors import lvm\n",
    "from lvmagp.images import Image\n",
    "from plotimg import plot_images\n",
    "\n",
    "from IPython.display import clear_output\n",
    "\n",
    "tel = lvm.from_string(\"sci\")\n",
    "\n",
    "await tel.start()\n",
    "await tel.pwi.setConnected(True, statusTick=1.0)\n",
    "await tel.agc.reconnect()\n",
    "\n",
    "exptime = 30\n",
    "\n",
    "while True:\n",
    "    rc = await tel.agc.expose( exptime)\n",
    "    filenames = rc.flatten().unpack(\"*.filename\")\n",
    "    clear_output()\n",
    "    print(filenames)\n",
    "    images = [Image.from_file(f) for f in filenames]\n",
    "    plot_images([images[1]])\n",
    "    print()"
   ]
  },
  {
   "cell_type": "code",
   "execution_count": 9,
   "id": "7826afb9-277f-4796-966c-6054202c58b5",
   "metadata": {},
   "outputs": [
    {
     "data": {
      "text/plain": [
       "{'ra_j2000_hours': 6.50001576541968, 'dec_j2000_degs': 4.9501780204231}"
      ]
     },
     "execution_count": 9,
     "metadata": {},
     "output_type": "execute_result"
    }
   ],
   "source": [
    "await tel.pwi.gotoRaDecJ2000(6.5, 4.95)\n"
   ]
  }
 ],
 "metadata": {
  "kernelspec": {
   "display_name": "Python 3 (ipykernel)",
   "language": "python",
   "name": "python3"
  },
  "language_info": {
   "codemirror_mode": {
    "name": "ipython",
    "version": 3
   },
   "file_extension": ".py",
   "mimetype": "text/x-python",
   "name": "python",
   "nbconvert_exporter": "python",
   "pygments_lexer": "ipython3",
   "version": "3.10.9"
  }
 },
 "nbformat": 4,
 "nbformat_minor": 5
}
