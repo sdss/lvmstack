{
 "cells": [
  {
   "cell_type": "code",
   "execution_count": 1,
   "id": "fba13f87-41ae-4dd9-af74-6311ed9b01db",
   "metadata": {},
   "outputs": [],
   "source": [
    "from lvmtipo.actors import lvm\n",
    "\n",
    "await lvm.sci.start()\n",
    "await lvm.skye.start()\n",
    "\n",
    "from clu import AMQPClient, CommandStatus\n"
   ]
  },
  {
   "cell_type": "code",
   "execution_count": 2,
   "id": "066a15b3-03b5-474d-9827-31e743d8d5ca",
   "metadata": {},
   "outputs": [],
   "source": [
    "from logging import DEBUG, INFO\n",
    "from sdsstools import get_logger\n",
    "\n",
    "logger = get_logger(\"test\")\n",
    "\n",
    "logger.sh.setLevel(DEBUG)\n",
    "#logger.sh.setLevel(INFO)"
   ]
  },
  {
   "cell_type": "code",
   "execution_count": 3,
   "id": "6e40a731-0b85-40e1-a307-2f538d86a756",
   "metadata": {},
   "outputs": [
    {
     "name": "stderr",
     "output_type": "stream",
     "text": [
      "\u001b[0;35m[DEBUG]: \u001b[0mCommandStatus.RUNNING: {}\n",
      "\u001b[0;35m[DEBUG]: \u001b[0mCommandStatus.RUNNING: {'east': {'state': 'integrating', 'image_type': 'object', 'remaining_time': 1.0, 'exposure_time': 1.0, 'current_stack': 1, 'n_stack': 1}}\n",
      "\u001b[0;35m[DEBUG]: \u001b[0mCommandStatus.RUNNING: {'east': {'state': 'integrating', 'image_type': 'object', 'remaining_time': 1.0, 'exposure_time': 1.0, 'current_stack': 1, 'n_stack': 1}}\n",
      "\u001b[0;35m[DEBUG]: \u001b[0mCommandStatus.RUNNING: {'west': {'state': 'integrating', 'image_type': 'object', 'remaining_time': 1.0, 'exposure_time': 1.0, 'current_stack': 1, 'n_stack': 1}}\n",
      "\u001b[0;35m[DEBUG]: \u001b[0mCommandStatus.RUNNING: {'west': {'state': 'integrating', 'image_type': 'object', 'remaining_time': 1.0, 'exposure_time': 1.0, 'current_stack': 1, 'n_stack': 1}}\n",
      "\u001b[0;35m[DEBUG]: \u001b[0mCommandStatus.RUNNING: {'east': {'state': 'done', 'image_type': 'object', 'remaining_time': 0.0, 'exposure_time': 1.0, 'current_stack': 1, 'n_stack': 1}}\n",
      "\u001b[0;35m[DEBUG]: \u001b[0mCommandStatus.RUNNING: {'east': {'state': 'post_processing', 'image_type': 'object'}}\n",
      "\u001b[0;35m[DEBUG]: \u001b[0mCommandStatus.RUNNING: {'east': {'state': 'written', 'filename': '/data/lvm/skye/agcam/east/20230209/lvm.skye.agcam.east_00000034.fits'}}\n",
      "\u001b[0;35m[DEBUG]: \u001b[0mCommandStatus.RUNNING: {'west': {'state': 'done', 'image_type': 'object', 'remaining_time': 0.0, 'exposure_time': 1.0, 'current_stack': 1, 'n_stack': 1}}\n",
      "\u001b[0;35m[DEBUG]: \u001b[0mCommandStatus.RUNNING: {'west': {'state': 'post_processing', 'image_type': 'object'}}\n",
      "\u001b[0;35m[DEBUG]: \u001b[0mCommandStatus.RUNNING: {'west': {'state': 'written', 'filename': '/data/lvm/skye/agcam/west/20230209/lvm.skye.agcam.west_00000034.fits'}}\n",
      "\u001b[0;35m[DEBUG]: \u001b[0mCommandStatus.DONE: {'east': {'state': 'written', 'filename': '/data/lvm/skye/agcam/east/20230209/lvm.skye.agcam.east_00000034.fits'}, 'west': {'state': 'written', 'filename': '/data/lvm/skye/agcam/west/20230209/lvm.skye.agcam.west_00000034.fits'}}\n",
      "\u001b[0;34m[INFO]: \u001b[0m[{'east': {'state': 'written', 'filename': '/data/lvm/sci/agcam/east/20230209/lvm.sci.agcam.east_00000066.fits'}, 'center': {'state': 'written', 'filename': '/data/lvm/sci/agcam/center/20230209/lvm.sci.agcam.center_00000066.fits'}, 'west': {'state': 'written', 'filename': '/data/lvm/sci/agcam/west/20230209/lvm.sci.agcam.west_00000066.fits'}}, {'east': {'state': 'written', 'filename': '/data/lvm/skye/agcam/east/20230209/lvm.skye.agcam.east_00000034.fits'}, 'west': {'state': 'written', 'filename': '/data/lvm/skye/agcam/west/20230209/lvm.skye.agcam.west_00000034.fits'}}]\n"
     ]
    }
   ],
   "source": [
    "def callback(reply):\n",
    "    logger.debug(f\"{reply.command_status}: {reply}\")\n",
    "\n",
    "fu1 = await lvm.sci.agc.expose(1, nowait=True)\n",
    "fu2 = await lvm.skye.agc.expose(1, nowait=True, callback=callback)\n",
    "\n",
    "rc1 = await fu1\n",
    "rc2 = await fu2\n",
    "\n",
    "logger.info(str([rc1, rc2]))"
   ]
  }
 ],
 "metadata": {
  "kernelspec": {
   "display_name": "Python 3 (ipykernel)",
   "language": "python",
   "name": "python3"
  },
  "language_info": {
   "codemirror_mode": {
    "name": "ipython",
    "version": 3
   },
   "file_extension": ".py",
   "mimetype": "text/x-python",
   "name": "python",
   "nbconvert_exporter": "python",
   "pygments_lexer": "ipython3",
   "version": "3.10.8"
  }
 },
 "nbformat": 4,
 "nbformat_minor": 5
}
