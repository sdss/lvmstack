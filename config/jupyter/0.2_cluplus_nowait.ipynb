{
 "cells": [
  {
   "cell_type": "code",
   "execution_count": 1,
   "id": "fba13f87-41ae-4dd9-af74-6311ed9b01db",
   "metadata": {},
   "outputs": [
    {
     "name": "stderr",
     "output_type": "stream",
     "text": [
      "\u001b[1;33m[WARNING]: \u001b[0mactor lvm.sci.agcam currently not reachable.\n"
     ]
    },
    {
     "data": {
      "text/plain": [
       "lvmtipo.actors.lvm.skye"
      ]
     },
     "execution_count": 1,
     "metadata": {},
     "output_type": "execute_result"
    }
   ],
   "source": [
    "from lvmtipo.actors import lvm\n",
    "\n",
    "await lvm.sci.start()\n",
    "await lvm.skye.start()"
   ]
  },
  {
   "cell_type": "code",
   "execution_count": 2,
   "id": "066a15b3-03b5-474d-9827-31e743d8d5ca",
   "metadata": {},
   "outputs": [],
   "source": [
    "from logging import DEBUG, INFO\n",
    "from sdsstools import get_logger\n",
    "\n",
    "logger = get_logger(\"test\")\n",
    "\n",
    "logger.sh.setLevel(DEBUG)\n",
    "#logger.sh.setLevel(INFO)"
   ]
  },
  {
   "cell_type": "code",
   "execution_count": 3,
   "id": "f0478223-550c-4a26-920e-9ad782a4d4b6",
   "metadata": {},
   "outputs": [
    {
     "name": "stderr",
     "output_type": "stream",
     "text": [
      "\u001b[1;33m[WARNING]: \u001b[0m\u001b[0;39m__commands: cannot modify a done command with status <CommandStatus.RUNNING: 32>.\u001b[0m \u001b[0;36m(CluWarning)\u001b[0m\n",
      "\u001b[1;33m[WARNING]: \u001b[0m\u001b[0;39m__commands: cannot modify a done command with status <CommandStatus.DONE: 1>.\u001b[0m \u001b[0;36m(CluWarning)\u001b[0m\n",
      "\u001b[0;34m[INFO]: \u001b[0m[{'east': {'state': 'written', 'filename': '/data/lvm/sci/agcam/east/20230209/lvm.sci.agcam.east_00000177.fits'}, 'center': {'state': 'written', 'filename': '/data/lvm/sci/agcam/center/20230209/lvm.sci.agcam.center_00000177.fits'}, 'west': {'state': 'written', 'filename': '/data/lvm/sci/agcam/west/20230209/lvm.sci.agcam.west_00000177.fits'}}, {'east': {'state': 'written', 'filename': '/data/lvm/skye/agcam/east/20230209/lvm.skye.agcam.east_00000070.fits'}, 'west': {'state': 'written', 'filename': '/data/lvm/skye/agcam/west/20230209/lvm.skye.agcam.west_00000070.fits'}}]\n"
     ]
    }
   ],
   "source": [
    "fu1 = await lvm.sci.agc.expose(1, nowait=True)\n",
    "fu2 = await lvm.skye.agc.expose(1, nowait=True)\n",
    "\n",
    "rc1 = await fu1\n",
    "rc2 = await fu2\n",
    "\n",
    "logger.info(str([rc1, rc2]))"
   ]
  },
  {
   "cell_type": "code",
   "execution_count": 4,
   "id": "6e40a731-0b85-40e1-a307-2f538d86a756",
   "metadata": {},
   "outputs": [
    {
     "name": "stderr",
     "output_type": "stream",
     "text": [
      "\u001b[0;35m[DEBUG]: \u001b[0mlvm.sci.agcam:CommandStatus.RUNNING: {}\n",
      "\u001b[0;35m[DEBUG]: \u001b[0mlvm.skye.agcam:CommandStatus.RUNNING: {}\n",
      "\u001b[0;35m[DEBUG]: \u001b[0mlvm.skye.agcam:CommandStatus.RUNNING: {'east': {'state': 'integrating', 'image_type': 'object', 'remaining_time': 1.0, 'exposure_time': 1.0, 'current_stack': 1, 'n_stack': 1}}\n",
      "\u001b[0;35m[DEBUG]: \u001b[0mlvm.skye.agcam:CommandStatus.RUNNING: {'east': {'state': 'integrating', 'image_type': 'object', 'remaining_time': 1.0, 'exposure_time': 1.0, 'current_stack': 1, 'n_stack': 1}}\n",
      "\u001b[0;35m[DEBUG]: \u001b[0mlvm.skye.agcam:CommandStatus.RUNNING: {'west': {'state': 'integrating', 'image_type': 'object', 'remaining_time': 1.0, 'exposure_time': 1.0, 'current_stack': 1, 'n_stack': 1}}\n",
      "\u001b[0;35m[DEBUG]: \u001b[0mlvm.skye.agcam:CommandStatus.RUNNING: {'west': {'state': 'integrating', 'image_type': 'object', 'remaining_time': 1.0, 'exposure_time': 1.0, 'current_stack': 1, 'n_stack': 1}}\n",
      "\u001b[0;35m[DEBUG]: \u001b[0mlvm.sci.agcam:CommandStatus.RUNNING: {'east': {'state': 'integrating', 'image_type': 'object', 'remaining_time': 1.0, 'exposure_time': 1.0, 'current_stack': 1, 'n_stack': 1}}\n",
      "\u001b[0;35m[DEBUG]: \u001b[0mlvm.sci.agcam:CommandStatus.RUNNING: {'east': {'state': 'integrating', 'image_type': 'object', 'remaining_time': 1.0, 'exposure_time': 1.0, 'current_stack': 1, 'n_stack': 1}}\n",
      "\u001b[0;35m[DEBUG]: \u001b[0mlvm.sci.agcam:CommandStatus.RUNNING: {'center': {'state': 'integrating', 'image_type': 'object', 'remaining_time': 1.0, 'exposure_time': 1.0, 'current_stack': 1, 'n_stack': 1}}\n",
      "\u001b[0;35m[DEBUG]: \u001b[0mlvm.sci.agcam:CommandStatus.RUNNING: {'center': {'state': 'integrating', 'image_type': 'object', 'remaining_time': 1.0, 'exposure_time': 1.0, 'current_stack': 1, 'n_stack': 1}}\n",
      "\u001b[0;35m[DEBUG]: \u001b[0mlvm.sci.agcam:CommandStatus.RUNNING: {'west': {'state': 'integrating', 'image_type': 'object', 'remaining_time': 1.0, 'exposure_time': 1.0, 'current_stack': 1, 'n_stack': 1}}\n",
      "\u001b[0;35m[DEBUG]: \u001b[0mlvm.sci.agcam:CommandStatus.RUNNING: {'west': {'state': 'integrating', 'image_type': 'object', 'remaining_time': 1.0, 'exposure_time': 1.0, 'current_stack': 1, 'n_stack': 1}}\n"
     ]
    }
   ],
   "source": [
    "from clu import CommandStatus\n",
    "\n",
    "# with nosync and callback its perfect for UIs\n",
    "def callback(reply):\n",
    "    if reply.command_status == CommandStatus.DONE:\n",
    "       logger.info(f\"{reply.sender}: {reply}\")\n",
    "    else:\n",
    "       logger.debug(f\"{reply.sender}:{reply.command_status}: {reply}\")\n",
    "\n",
    "await lvm.sci.agc.expose(1, nosync=True, callback=callback)\n",
    "await lvm.skye.agc.expose(1, nosync=True, callback=callback)\n",
    "\n",
    "# we have to keep the loop running for callbacks.\n",
    "import asyncio\n",
    "await asyncio.sleep(10)"
   ]
  },
  {
   "cell_type": "code",
   "execution_count": null,
   "id": "723c5e4f-2130-469f-9a9e-ea2dbfa1b393",
   "metadata": {},
   "outputs": [],
   "source": []
  }
 ],
 "metadata": {
  "kernelspec": {
   "display_name": "Python 3 (ipykernel)",
   "language": "python",
   "name": "python3"
  },
  "language_info": {
   "codemirror_mode": {
    "name": "ipython",
    "version": 3
   },
   "file_extension": ".py",
   "mimetype": "text/x-python",
   "name": "python",
   "nbconvert_exporter": "python",
   "pygments_lexer": "ipython3",
   "version": "3.10.9"
  }
 },
 "nbformat": 4,
 "nbformat_minor": 5
}
