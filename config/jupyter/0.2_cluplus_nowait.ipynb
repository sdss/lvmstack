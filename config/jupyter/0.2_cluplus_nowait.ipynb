{
 "cells": [
  {
   "cell_type": "code",
   "execution_count": 3,
   "id": "fba13f87-41ae-4dd9-af74-6311ed9b01db",
   "metadata": {
    "tags": []
   },
   "outputs": [
    {
     "data": {
      "text/plain": [
       "lvmtipo.actors.lvm.skye"
      ]
     },
     "execution_count": 3,
     "metadata": {},
     "output_type": "execute_result"
    }
   ],
   "source": [
    "from lvmtipo.actors import lvm\n",
    "\n",
    "await lvm.sci.start()\n",
    "await lvm.skye.start()"
   ]
  },
  {
   "cell_type": "code",
   "execution_count": 5,
   "id": "066a15b3-03b5-474d-9827-31e743d8d5ca",
   "metadata": {
    "tags": []
   },
   "outputs": [],
   "source": [
    "from logging import DEBUG, INFO\n",
    "from sdsstools import get_logger\n",
    "\n",
    "logger = get_logger(\"test\")\n",
    "\n",
    "logger.sh.setLevel(DEBUG)\n",
    "#logger.sh.setLevel(INFO)"
   ]
  },
  {
   "cell_type": "code",
   "execution_count": 6,
   "id": "f0478223-550c-4a26-920e-9ad782a4d4b6",
   "metadata": {
    "tags": []
   },
   "outputs": [
    {
     "ename": "Exception",
     "evalue": "('one or more cameras failed to expose.', {'east': {'state': 'failed', 'error': {'exception_module': 'basecam.exceptions', 'exception_type': 'ExposureError', 'exception_message': 'arv-device-error-quark: GigEVision write_register error (access-denied) (3)'}}, 'west': {'state': 'failed', 'error': {'exception_module': 'basecam.exceptions', 'exception_type': 'ExposureError', 'exception_message': 'arv-device-error-quark: GigEVision write_register error (access-denied) (3)'}}})",
     "output_type": "error",
     "traceback": [
      "\u001b[0;31m---------------------------------------------------------------------------\u001b[0m",
      "\u001b[0;31mException\u001b[0m                                 Traceback (most recent call last)",
      "Cell \u001b[0;32mIn[6], line 5\u001b[0m\n\u001b[1;32m      2\u001b[0m fu2 \u001b[38;5;241m=\u001b[39m \u001b[38;5;28;01mawait\u001b[39;00m lvm\u001b[38;5;241m.\u001b[39mskye\u001b[38;5;241m.\u001b[39magc\u001b[38;5;241m.\u001b[39mexpose(\u001b[38;5;241m1\u001b[39m, nowait\u001b[38;5;241m=\u001b[39m\u001b[38;5;28;01mTrue\u001b[39;00m)\n\u001b[1;32m      4\u001b[0m rc1 \u001b[38;5;241m=\u001b[39m \u001b[38;5;28;01mawait\u001b[39;00m fu1\n\u001b[0;32m----> 5\u001b[0m rc2 \u001b[38;5;241m=\u001b[39m \u001b[38;5;28;01mawait\u001b[39;00m fu2\n\u001b[1;32m      7\u001b[0m logger\u001b[38;5;241m.\u001b[39minfo(\u001b[38;5;28mstr\u001b[39m([rc1, rc2]))\n",
      "File \u001b[0;32m~/lvm/cluplus/python/cluplus/proxy.py:149\u001b[0m, in \u001b[0;36mProxy._handle_command_reply\u001b[0;34m(self, fu)\u001b[0m\n\u001b[1;32m    146\u001b[0m ret \u001b[38;5;241m=\u001b[39m \u001b[38;5;28;01mawait\u001b[39;00m fu\n\u001b[1;32m    148\u001b[0m \u001b[38;5;28;01mif\u001b[39;00m \u001b[38;5;28mhasattr\u001b[39m(ret, \u001b[38;5;124m\"\u001b[39m\u001b[38;5;124mstatus\u001b[39m\u001b[38;5;124m\"\u001b[39m) \u001b[38;5;129;01mand\u001b[39;00m ret\u001b[38;5;241m.\u001b[39mstatus\u001b[38;5;241m.\u001b[39mdid_fail:\n\u001b[0;32m--> 149\u001b[0m     \u001b[38;5;28;01mraise\u001b[39;00m \u001b[38;5;28mself\u001b[39m\u001b[38;5;241m.\u001b[39m_errorMapToException(ret\u001b[38;5;241m.\u001b[39mreplies[\u001b[38;5;241m-\u001b[39m\u001b[38;5;241m1\u001b[39m]\u001b[38;5;241m.\u001b[39mmessage[\u001b[38;5;124m'\u001b[39m\u001b[38;5;124merror\u001b[39m\u001b[38;5;124m'\u001b[39m])\n\u001b[1;32m    151\u001b[0m \u001b[38;5;28;01mreturn\u001b[39;00m ProxyDict(ret\u001b[38;5;241m.\u001b[39mreplies[\u001b[38;5;241m-\u001b[39m\u001b[38;5;241m1\u001b[39m]\u001b[38;5;241m.\u001b[39mmessage)\n",
      "\u001b[0;31mException\u001b[0m: ('one or more cameras failed to expose.', {'east': {'state': 'failed', 'error': {'exception_module': 'basecam.exceptions', 'exception_type': 'ExposureError', 'exception_message': 'arv-device-error-quark: GigEVision write_register error (access-denied) (3)'}}, 'west': {'state': 'failed', 'error': {'exception_module': 'basecam.exceptions', 'exception_type': 'ExposureError', 'exception_message': 'arv-device-error-quark: GigEVision write_register error (access-denied) (3)'}}})"
     ]
    }
   ],
   "source": [
    "fu1 = await lvm.sci.agc.expose(1, nowait=True)\n",
    "fu2 = await lvm.skye.agc.expose(1, nowait=True)\n",
    "\n",
    "rc1 = await fu1\n",
    "rc2 = await fu2\n",
    "\n",
    "logger.info(str([rc1, rc2]))"
   ]
  },
  {
   "cell_type": "code",
   "execution_count": 7,
   "id": "6e40a731-0b85-40e1-a307-2f538d86a756",
   "metadata": {},
   "outputs": [
    {
     "name": "stderr",
     "output_type": "stream",
     "text": [
      "\u001b[0;35m[DEBUG]: \u001b[0mlvm.sci.agcam:CommandStatus.RUNNING: {}\n",
      "\u001b[0;35m[DEBUG]: \u001b[0mlvm.skye.agcam:CommandStatus.RUNNING: {}\n",
      "\u001b[0;35m[DEBUG]: \u001b[0mlvm.sci.agcam:CommandStatus.RUNNING: {'east': {'error': {'exception_module': 'basecam.exceptions', 'exception_type': 'ExposureError', 'exception_message': 'arv-device-error-quark: GigEVision write_register error (access-denied) (3)'}}}\n",
      "\u001b[0;35m[DEBUG]: \u001b[0mlvm.skye.agcam:CommandStatus.RUNNING: {'east': {'error': {'exception_module': 'basecam.exceptions', 'exception_type': 'ExposureError', 'exception_message': 'arv-device-error-quark: GigEVision write_register error (access-denied) (3)'}}}\n",
      "\u001b[0;35m[DEBUG]: \u001b[0mlvm.sci.agcam:CommandStatus.RUNNING: {'east': {'state': 'integrating', 'image_type': 'object', 'remaining_time': 1.0, 'exposure_time': 1.0, 'current_stack': 1, 'n_stack': 1}}\n",
      "\u001b[0;35m[DEBUG]: \u001b[0mlvm.skye.agcam:CommandStatus.RUNNING: {'east': {'state': 'integrating', 'image_type': 'object', 'remaining_time': 1.0, 'exposure_time': 1.0, 'current_stack': 1, 'n_stack': 1}}\n",
      "\u001b[0;35m[DEBUG]: \u001b[0mlvm.sci.agcam:CommandStatus.RUNNING: {'east': {'state': 'failed', 'image_type': 'object', 'remaining_time': 0.0, 'exposure_time': 1.0, 'current_stack': 0, 'n_stack': 0}}\n",
      "\u001b[0;35m[DEBUG]: \u001b[0mlvm.skye.agcam:CommandStatus.RUNNING: {'east': {'state': 'failed', 'image_type': 'object', 'remaining_time': 0.0, 'exposure_time': 1.0, 'current_stack': 0, 'n_stack': 0}}\n",
      "\u001b[0;35m[DEBUG]: \u001b[0mlvm.skye.agcam:CommandStatus.RUNNING: {'west': {'error': {'exception_module': 'basecam.exceptions', 'exception_type': 'ExposureError', 'exception_message': 'arv-device-error-quark: GigEVision write_register error (access-denied) (3)'}}}\n",
      "\u001b[0;35m[DEBUG]: \u001b[0mlvm.skye.agcam:CommandStatus.RUNNING: {'west': {'state': 'integrating', 'image_type': 'object', 'remaining_time': 1.0, 'exposure_time': 1.0, 'current_stack': 1, 'n_stack': 1}}\n",
      "\u001b[0;35m[DEBUG]: \u001b[0mlvm.skye.agcam:CommandStatus.RUNNING: {'west': {'state': 'failed', 'image_type': 'object', 'remaining_time': 0.0, 'exposure_time': 1.0, 'current_stack': 0, 'n_stack': 0}}\n",
      "\u001b[0;35m[DEBUG]: \u001b[0mlvm.sci.agcam:CommandStatus.RUNNING: {'center': {'state': 'integrating', 'image_type': 'object', 'remaining_time': 1.0, 'exposure_time': 1.0, 'current_stack': 1, 'n_stack': 1}}\n",
      "\u001b[0;35m[DEBUG]: \u001b[0mlvm.sci.agcam:CommandStatus.RUNNING: {'center': {'state': 'integrating', 'image_type': 'object', 'remaining_time': 1.0, 'exposure_time': 1.0, 'current_stack': 1, 'n_stack': 1}}\n",
      "\u001b[0;35m[DEBUG]: \u001b[0mlvm.skye.agcam:CommandStatus.FAILED: {'error': {'exception_module': 'builtins', 'exception_type': 'Exception', 'exception_message': \"('one or more cameras failed to expose.', {'east': {'state': 'failed', 'error': {'exception_module': 'basecam.exceptions', 'exception_type': 'ExposureError', 'exception_message': 'arv-device-error-quark: GigEVision write_register error (access-denied) (3)'}}, 'west': {'state': 'failed', 'error': {'exception_module': 'basecam.exceptions', 'exception_type': 'ExposureError', 'exception_message': 'arv-device-error-quark: GigEVision write_register error (access-denied) (3)'}}})\"}}\n",
      "\u001b[0;35m[DEBUG]: \u001b[0mlvm.sci.agcam:CommandStatus.RUNNING: {'center': {'state': 'done', 'image_type': 'object', 'remaining_time': 0.0, 'exposure_time': 1.0, 'current_stack': 1, 'n_stack': 1}}\n",
      "\u001b[0;35m[DEBUG]: \u001b[0mlvm.sci.agcam:CommandStatus.RUNNING: {'center': {'state': 'written', 'filename': '/data/lvm/sci/agcam/center/20230220/lvm.sci.agcam.center_00000005.fits'}}\n",
      "\u001b[0;34m[INFO]: \u001b[0mlvm.sci.agcam: {'east': {'state': 'failed', 'error': {'exception_module': 'basecam.exceptions', 'exception_type': 'ExposureError', 'exception_message': 'arv-device-error-quark: GigEVision write_register error (access-denied) (3)'}}, 'center': {'state': 'written', 'filename': '/data/lvm/sci/agcam/center/20230220/lvm.sci.agcam.center_00000005.fits'}}\n"
     ]
    }
   ],
   "source": [
    "from clu import CommandStatus\n",
    "from lvmtipo.actors import lvm\n",
    "\n",
    "\n",
    "# with nosync and callback its perfect for UIs\n",
    "def callback(reply):\n",
    "    if reply.command_status == CommandStatus.DONE:\n",
    "       logger.info(f\"{reply.sender}: {reply}\")\n",
    "    else:\n",
    "       logger.debug(f\"{reply.sender}:{reply.command_status}: {reply}\")\n",
    "\n",
    "await lvm.sci.agc.expose(1, nosync=True, callback=callback)\n",
    "await lvm.skye.agc.expose(1, nosync=True, callback=callback)\n",
    "\n",
    "# we have to keep the loop running for callbacks.\n",
    "import asyncio\n",
    "await asyncio.sleep(10)"
   ]
  },
  {
   "cell_type": "code",
   "execution_count": null,
   "id": "723c5e4f-2130-469f-9a9e-ea2dbfa1b393",
   "metadata": {},
   "outputs": [],
   "source": []
  }
 ],
 "metadata": {
  "kernelspec": {
   "display_name": "Python 3 (ipykernel)",
   "language": "python",
   "name": "python3"
  },
  "language_info": {
   "codemirror_mode": {
    "name": "ipython",
    "version": 3
   },
   "file_extension": ".py",
   "mimetype": "text/x-python",
   "name": "python",
   "nbconvert_exporter": "python",
   "pygments_lexer": "ipython3",
   "version": "3.10.9"
  }
 },
 "nbformat": 4,
 "nbformat_minor": 5
}
