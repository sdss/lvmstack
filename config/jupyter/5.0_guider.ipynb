{
 "cells": [
  {
   "cell_type": "code",
   "execution_count": 32,
   "id": "0940aff8-2d2d-48c2-958f-b4d430ea1133",
   "metadata": {
    "tags": []
   },
   "outputs": [],
   "source": [
    "from lvmtipo.actors import lvm\n",
    "import asyncio"
   ]
  },
  {
   "cell_type": "code",
   "execution_count": 37,
   "id": "d5b39b3b-7ab3-4567-a0f4-7d435ec6d6e2",
   "metadata": {
    "tags": []
   },
   "outputs": [],
   "source": [
    "exptime = 5.0"
   ]
  },
  {
   "cell_type": "code",
   "execution_count": 38,
   "id": "130e4e73-5b71-4e5f-a656-7bded23516fa",
   "metadata": {
    "tags": []
   },
   "outputs": [
    {
     "data": {
      "text/plain": [
       "{'state': 'IDLE'}"
      ]
     },
     "execution_count": 38,
     "metadata": {},
     "output_type": "execute_result"
    }
   ],
   "source": [
    "tel = lvm.sci\n",
    "\n",
    "await tel.start()\n",
    "await tel.ag.status()\n"
   ]
  },
  {
   "cell_type": "code",
   "execution_count": 41,
   "id": "a4f60c4e-0ec0-46f0-8eff-d0c77d6772f8",
   "metadata": {
    "tags": []
   },
   "outputs": [
    {
     "data": {
      "text/plain": [
       "{'Reachable': True,\n",
       " 'AtHome': False,\n",
       " 'Moving': False,\n",
       " 'PositionSwitchStatus': 254,\n",
       " 'Position': 42.0,\n",
       " 'DeviceEncoder': {'Position': 1000.0, 'Unit': 'STEPS'},\n",
       " 'Velocity': 0.0,\n",
       " 'AtLimit': False}"
      ]
     },
     "execution_count": 41,
     "metadata": {},
     "output_type": "execute_result"
    }
   ],
   "source": [
    "# dont forget the focus !\n",
    "\n",
    "await tel.foc.status()"
   ]
  },
  {
   "cell_type": "code",
   "execution_count": 39,
   "id": "93c4154b-e0bb-4c7a-9a36-cb4799d93154",
   "metadata": {
    "tags": []
   },
   "outputs": [
    {
     "name": "stdout",
     "output_type": "stream",
     "text": [
      "ra_h:dec_d 22.959229413523:-29.6242908413143\n"
     ]
    },
    {
     "data": {
      "text/plain": [
       "{'Reachable': True,\n",
       " 'AtHome': False,\n",
       " 'Moving': False,\n",
       " 'PositionSwitchStatus': 254,\n",
       " 'Position': -61.129777785164805,\n",
       " 'DeviceEncoder': {'Position': 1329664.0, 'Unit': 'STEPS'},\n",
       " 'Velocity': 0.0,\n",
       " 'AtLimit': False,\n",
       " 'CurrentTime': 1678460538878999.0,\n",
       " 'Simulate': True,\n",
       " 'SkyPA': -122.25955555703297}"
      ]
     },
     "execution_count": 39,
     "metadata": {},
     "output_type": "execute_result"
    }
   ],
   "source": [
    "ra_h, dec_d = (await tel.pwi.status()).flatten().unpack(\"ra_j2000_hours\", \"dec_j2000_degs\")\n",
    "print(f\"ra_h:dec_d {ra_h}:{dec_d}\")\n",
    "\n",
    "await tel.km.slewStart(ra_h, dec_d)"
   ]
  },
  {
   "cell_type": "code",
   "execution_count": 40,
   "id": "452a180e-f2e9-4d6e-8e12-46fc10d7924a",
   "metadata": {
    "tags": []
   },
   "outputs": [
    {
     "name": "stdout",
     "output_type": "stream",
     "text": [
      "{'state': 'GUIDE', 'reference_position': {'_type': 'astropy.coordinates.SkyCoord', 'frame': 'fk5', 'representation': 'spherical', 'lon': 116.0934634744157, 'lat': -9.552497968628044}, 'reference_filenames': ['/data/lvm/skyw/agcam/west/20230225/lvm.skyw.agcam.west_00000287.fits', '/data/lvm/skyw/agcam/east/20230225/lvm.skyw.agcam.east_00000287.fits']}\n",
      "{'state': 'IDLE'}\n"
     ]
    }
   ],
   "source": [
    "# ra/dec are optional and currently not used\n",
    "print(await tel.ag.guideStart(exptime, ra_h, dec_d))\n",
    "await asyncio.sleep(30.0)\n",
    "print(await tel.ag.guideStop())"
   ]
  },
  {
   "cell_type": "code",
   "execution_count": null,
   "id": "0d2fa48d-d3a1-4387-91b3-b65e52ab4d88",
   "metadata": {},
   "outputs": [],
   "source": []
  }
 ],
 "metadata": {
  "kernelspec": {
   "display_name": "Python 3 (ipykernel)",
   "language": "python",
   "name": "python3"
  },
  "language_info": {
   "codemirror_mode": {
    "name": "ipython",
    "version": 3
   },
   "file_extension": ".py",
   "mimetype": "text/x-python",
   "name": "python",
   "nbconvert_exporter": "python",
   "pygments_lexer": "ipython3",
   "version": "3.10.9"
  }
 },
 "nbformat": 4,
 "nbformat_minor": 5
}
