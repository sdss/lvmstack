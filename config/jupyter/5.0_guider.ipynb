{
 "cells": [
  {
   "cell_type": "code",
   "execution_count": null,
   "id": "0940aff8-2d2d-48c2-958f-b4d430ea1133",
   "metadata": {
    "tags": []
   },
   "outputs": [],
   "source": [
    "from lvmtipo.actors import lvm\n",
    "import asyncio"
   ]
  },
  {
   "cell_type": "code",
   "execution_count": null,
   "id": "d5b39b3b-7ab3-4567-a0f4-7d435ec6d6e2",
   "metadata": {
    "tags": []
   },
   "outputs": [],
   "source": [
    "exptime = 1.0"
   ]
  },
  {
   "cell_type": "code",
   "execution_count": null,
   "id": "130e4e73-5b71-4e5f-a656-7bded23516fa",
   "metadata": {
    "tags": []
   },
   "outputs": [],
   "source": [
    "tel = lvm.skyw\n",
    "\n",
    "await tel.start()\n",
    "await tel.ag.status()\n"
   ]
  },
  {
   "cell_type": "code",
   "execution_count": null,
   "id": "0b1635f9-deaf-47f3-91ef-b209ea895d5d",
   "metadata": {
    "tags": []
   },
   "outputs": [],
   "source": [
    "await tel.agc.reconnect()\n",
    "await tel.agc.status()"
   ]
  },
  {
   "cell_type": "code",
   "execution_count": null,
   "id": "a4f60c4e-0ec0-46f0-8eff-d0c77d6772f8",
   "metadata": {
    "tags": []
   },
   "outputs": [],
   "source": [
    "# dont forget the focus !\n",
    "\n",
    "await tel.foc.status()"
   ]
  },
  {
   "cell_type": "code",
   "execution_count": null,
   "id": "93c4154b-e0bb-4c7a-9a36-cb4799d93154",
   "metadata": {
    "tags": []
   },
   "outputs": [],
   "source": [
    "ra_h, dec_d = (await tel.pwi.status()).flatten().unpack(\"ra_j2000_hours\", \"dec_j2000_degs\")\n",
    "print(f\"ra_h:dec_d {ra_h}:{dec_d}\")"
   ]
  },
  {
   "cell_type": "code",
   "execution_count": null,
   "id": "de658894-0820-4f25-8293-a4fd9cc8a9d7",
   "metadata": {},
   "outputs": [],
   "source": [
    "await tel.km.slewStart(ra_h, dec_d)"
   ]
  },
  {
   "cell_type": "code",
   "execution_count": 66,
   "id": "452a180e-f2e9-4d6e-8e12-46fc10d7924a",
   "metadata": {
    "tags": []
   },
   "outputs": [
    {
     "name": "stdout",
     "output_type": "stream",
     "text": [
      "{'state': 'GUIDE', 'reference_position': {'_type': 'astropy.coordinates.SkyCoord', 'frame': 'fk5', 'representation': 'spherical', 'lon': 116.09347819638934, 'lat': -9.552157546036302}, 'reference_filenames': ['/home/jovyan/work/work/agcam/skyw/west/20230225/lvm.skyw.agcam.west_00000254.fits', '/home/jovyan/work/work/agcam/skyw/east/20230225/lvm.skyw.agcam.east_00000254.fits']}\n",
      "{'state': 'GUIDE'}\n",
      "{'state': 'GUIDE'}\n",
      "{'state': 'GUIDE'}\n",
      "{'state': 'IDLE'}\n"
     ]
    }
   ],
   "source": [
    "# ra/dec are optional and currently not used\n",
    "print(await tel.ag.guideStart(exptime, ra_h, dec_d))\n",
    "for t in range(3):\n",
    "    await asyncio.sleep(1)\n",
    "    print(await tel.ag.status())\n",
    "print(await tel.ag.guideStop())"
   ]
  },
  {
   "cell_type": "code",
   "execution_count": null,
   "id": "0d2fa48d-d3a1-4387-91b3-b65e52ab4d88",
   "metadata": {},
   "outputs": [],
   "source": [
    "print(await tel.ag.status())"
   ]
  },
  {
   "cell_type": "code",
   "execution_count": null,
   "id": "d48950d1-464f-421a-b684-8e87f214c116",
   "metadata": {},
   "outputs": [],
   "source": []
  }
 ],
 "metadata": {
  "kernelspec": {
   "display_name": "Python 3 (ipykernel)",
   "language": "python",
   "name": "python3"
  },
  "language_info": {
   "codemirror_mode": {
    "name": "ipython",
    "version": 3
   },
   "file_extension": ".py",
   "mimetype": "text/x-python",
   "name": "python",
   "nbconvert_exporter": "python",
   "pygments_lexer": "ipython3",
   "version": "3.10.9"
  }
 },
 "nbformat": 4,
 "nbformat_minor": 5
}
