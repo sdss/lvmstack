{
 "cells": [
  {
   "cell_type": "code",
   "execution_count": 1,
   "id": "0940aff8-2d2d-48c2-958f-b4d430ea1133",
   "metadata": {
    "tags": []
   },
   "outputs": [],
   "source": [
    "from lvmtipo.actors import lvm\n",
    "import asyncio"
   ]
  },
  {
   "cell_type": "code",
   "execution_count": 2,
   "id": "d5b39b3b-7ab3-4567-a0f4-7d435ec6d6e2",
   "metadata": {
    "tags": []
   },
   "outputs": [],
   "source": [
    "exptime = 5.0"
   ]
  },
  {
   "cell_type": "code",
   "execution_count": 3,
   "id": "130e4e73-5b71-4e5f-a656-7bded23516fa",
   "metadata": {
    "tags": []
   },
   "outputs": [
    {
     "name": "stderr",
     "output_type": "stream",
     "text": [
      "\u001b[1;33m[WARNING]: \u001b[0mactor lvm.sci.pwi currently not reachable.\n",
      "\u001b[1;33m[WARNING]: \u001b[0mactor lvm.sci.foc currently not reachable.\n",
      "\u001b[1;33m[WARNING]: \u001b[0mactor lvm.sci.agcam currently not reachable.\n",
      "\u001b[1;33m[WARNING]: \u001b[0mactor lvm.sci.km currently not reachable.\n",
      "\u001b[1;33m[WARNING]: \u001b[0mactor lvm.sci.ag currently not reachable.\n"
     ]
    },
    {
     "ename": "Exception",
     "evalue": "Failed routing message to consumer 'lvm.sci.ag'.",
     "output_type": "error",
     "traceback": [
      "\u001b[0;31m---------------------------------------------------------------------------\u001b[0m",
      "\u001b[0;31mException\u001b[0m                                 Traceback (most recent call last)",
      "Cell \u001b[0;32mIn[3], line 4\u001b[0m\n\u001b[1;32m      1\u001b[0m tel \u001b[38;5;241m=\u001b[39m lvm\u001b[38;5;241m.\u001b[39msci\n\u001b[1;32m      3\u001b[0m \u001b[38;5;28;01mawait\u001b[39;00m tel\u001b[38;5;241m.\u001b[39mstart()\n\u001b[0;32m----> 4\u001b[0m \u001b[38;5;28;01mawait\u001b[39;00m tel\u001b[38;5;241m.\u001b[39mag\u001b[38;5;241m.\u001b[39mstatus()\n",
      "File \u001b[0;32m~/lvm/cluplus/python/cluplus/proxy.py:201\u001b[0m, in \u001b[0;36mProxy.call_command\u001b[0;34m(self, command, callback, time_limit, nowait, nosync, object_hook, *args, **kwargs)\u001b[0m\n\u001b[1;32m    198\u001b[0m \u001b[38;5;28;01mif\u001b[39;00m nosync: \u001b[38;5;28;01mreturn\u001b[39;00m\n\u001b[1;32m    199\u001b[0m \u001b[38;5;28;01mif\u001b[39;00m nowait: \u001b[38;5;28;01mreturn\u001b[39;00m \u001b[38;5;28mself\u001b[39m\u001b[38;5;241m.\u001b[39m_handle_command_reply(fu)\n\u001b[0;32m--> 201\u001b[0m \u001b[38;5;28;01mreturn\u001b[39;00m \u001b[38;5;28;01mawait\u001b[39;00m \u001b[38;5;28mself\u001b[39m\u001b[38;5;241m.\u001b[39m_handle_command_reply(fu)\n",
      "File \u001b[0;32m~/lvm/cluplus/python/cluplus/proxy.py:158\u001b[0m, in \u001b[0;36mProxy._handle_command_reply\u001b[0;34m(self, fu)\u001b[0m\n\u001b[1;32m    155\u001b[0m reply \u001b[38;5;241m=\u001b[39m \u001b[38;5;28;01mawait\u001b[39;00m fu\n\u001b[1;32m    157\u001b[0m \u001b[38;5;28;01mif\u001b[39;00m \u001b[38;5;28mhasattr\u001b[39m(reply, \u001b[38;5;124m\"\u001b[39m\u001b[38;5;124mstatus\u001b[39m\u001b[38;5;124m\"\u001b[39m) \u001b[38;5;129;01mand\u001b[39;00m reply\u001b[38;5;241m.\u001b[39mstatus\u001b[38;5;241m.\u001b[39mdid_fail:\n\u001b[0;32m--> 158\u001b[0m     \u001b[38;5;28;01mraise\u001b[39;00m \u001b[38;5;28mself\u001b[39m\u001b[38;5;241m.\u001b[39m_errorMapToException(reply\u001b[38;5;241m.\u001b[39mreplies[\u001b[38;5;241m-\u001b[39m\u001b[38;5;241m1\u001b[39m]\u001b[38;5;241m.\u001b[39mmessage[\u001b[38;5;124m'\u001b[39m\u001b[38;5;124merror\u001b[39m\u001b[38;5;124m'\u001b[39m])\n\u001b[1;32m    160\u001b[0m msg \u001b[38;5;241m=\u001b[39m ProxyDict(reply\u001b[38;5;241m.\u001b[39mreplies[\u001b[38;5;241m-\u001b[39m\u001b[38;5;241m1\u001b[39m]\u001b[38;5;241m.\u001b[39mmessage)\n\u001b[1;32m    161\u001b[0m msg\u001b[38;5;241m.\u001b[39msender \u001b[38;5;241m=\u001b[39m reply\u001b[38;5;241m.\u001b[39mactor\n",
      "\u001b[0;31mException\u001b[0m: Failed routing message to consumer 'lvm.sci.ag'."
     ]
    }
   ],
   "source": [
    "tel = lvm.sci\n",
    "\n",
    "await tel.start()\n",
    "await tel.ag.status()\n"
   ]
  },
  {
   "cell_type": "code",
   "execution_count": 41,
   "id": "a4f60c4e-0ec0-46f0-8eff-d0c77d6772f8",
   "metadata": {
    "tags": []
   },
   "outputs": [
    {
     "data": {
      "text/plain": [
       "{'Reachable': True,\n",
       " 'AtHome': False,\n",
       " 'Moving': False,\n",
       " 'PositionSwitchStatus': 254,\n",
       " 'Position': 42.0,\n",
       " 'DeviceEncoder': {'Position': 1000.0, 'Unit': 'STEPS'},\n",
       " 'Velocity': 0.0,\n",
       " 'AtLimit': False}"
      ]
     },
     "execution_count": 41,
     "metadata": {},
     "output_type": "execute_result"
    }
   ],
   "source": [
    "# dont forget the focus !\n",
    "\n",
    "await tel.foc.status()"
   ]
  },
  {
   "cell_type": "code",
   "execution_count": 39,
   "id": "93c4154b-e0bb-4c7a-9a36-cb4799d93154",
   "metadata": {
    "tags": []
   },
   "outputs": [
    {
     "name": "stdout",
     "output_type": "stream",
     "text": [
      "ra_h:dec_d 22.959229413523:-29.6242908413143\n"
     ]
    },
    {
     "data": {
      "text/plain": [
       "{'Reachable': True,\n",
       " 'AtHome': False,\n",
       " 'Moving': False,\n",
       " 'PositionSwitchStatus': 254,\n",
       " 'Position': -61.129777785164805,\n",
       " 'DeviceEncoder': {'Position': 1329664.0, 'Unit': 'STEPS'},\n",
       " 'Velocity': 0.0,\n",
       " 'AtLimit': False,\n",
       " 'CurrentTime': 1678460538878999.0,\n",
       " 'Simulate': True,\n",
       " 'SkyPA': -122.25955555703297}"
      ]
     },
     "execution_count": 39,
     "metadata": {},
     "output_type": "execute_result"
    }
   ],
   "source": [
    "ra_h, dec_d = (await tel.pwi.status()).flatten().unpack(\"ra_j2000_hours\", \"dec_j2000_degs\")\n",
    "print(f\"ra_h:dec_d {ra_h}:{dec_d}\")\n",
    "\n",
    "await tel.km.slewStart(ra_h, dec_d)"
   ]
  },
  {
   "cell_type": "code",
   "execution_count": 40,
   "id": "452a180e-f2e9-4d6e-8e12-46fc10d7924a",
   "metadata": {
    "tags": []
   },
   "outputs": [
    {
     "name": "stdout",
     "output_type": "stream",
     "text": [
      "{'state': 'GUIDE', 'reference_position': {'_type': 'astropy.coordinates.SkyCoord', 'frame': 'fk5', 'representation': 'spherical', 'lon': 116.0934634744157, 'lat': -9.552497968628044}, 'reference_filenames': ['/data/lvm/skyw/agcam/west/20230225/lvm.skyw.agcam.west_00000287.fits', '/data/lvm/skyw/agcam/east/20230225/lvm.skyw.agcam.east_00000287.fits']}\n",
      "{'state': 'IDLE'}\n"
     ]
    }
   ],
   "source": [
    "# ra/dec are optional and currently not used\n",
    "print(await tel.ag.guideStart(exptime, ra_h, dec_d))\n",
    "await asyncio.sleep(30.0)\n",
    "print(await tel.ag.guideStop())"
   ]
  },
  {
   "cell_type": "code",
   "execution_count": null,
   "id": "0d2fa48d-d3a1-4387-91b3-b65e52ab4d88",
   "metadata": {},
   "outputs": [],
   "source": []
  }
 ],
 "metadata": {
  "kernelspec": {
   "display_name": "Python 3 (ipykernel)",
   "language": "python",
   "name": "python3"
  },
  "language_info": {
   "codemirror_mode": {
    "name": "ipython",
    "version": 3
   },
   "file_extension": ".py",
   "mimetype": "text/x-python",
   "name": "python",
   "nbconvert_exporter": "python",
   "pygments_lexer": "ipython3",
   "version": "3.10.9"
  }
 },
 "nbformat": 4,
 "nbformat_minor": 5
}
