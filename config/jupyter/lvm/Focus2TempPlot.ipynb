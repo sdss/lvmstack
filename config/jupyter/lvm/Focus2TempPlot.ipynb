{
 "cells": [
  {
   "cell_type": "code",
   "execution_count": 2,
   "id": "626e35f3-1527-45bb-8db1-709fefdd66d4",
   "metadata": {},
   "outputs": [
    {
     "ename": "NameError",
     "evalue": "name 'data' is not defined",
     "output_type": "error",
     "traceback": [
      "\u001b[0;31m---------------------------------------------------------------------------\u001b[0m",
      "\u001b[0;31mNameError\u001b[0m                                 Traceback (most recent call last)",
      "Cell \u001b[0;32mIn[2], line 4\u001b[0m\n\u001b[1;32m      1\u001b[0m \u001b[38;5;28;01mfrom\u001b[39;00m \u001b[38;5;21;01mlvmtipo\u001b[39;00m\u001b[38;5;21;01m.\u001b[39;00m\u001b[38;5;21;01mfocus\u001b[39;00m \u001b[38;5;28;01mimport\u001b[39;00m temp2focus, tempdata\n\u001b[1;32m      2\u001b[0m \u001b[38;5;28;01mimport\u001b[39;00m \u001b[38;5;21;01mmatplotlib\u001b[39;00m\u001b[38;5;21;01m.\u001b[39;00m\u001b[38;5;21;01mpyplot\u001b[39;00m \u001b[38;5;28;01mas\u001b[39;00m \u001b[38;5;21;01mplt\u001b[39;00m\n\u001b[0;32m----> 4\u001b[0m d \u001b[38;5;241m=\u001b[39m \u001b[43mdata\u001b[49m\u001b[38;5;241m.\u001b[39mT\n\u001b[1;32m      5\u001b[0m x_d \u001b[38;5;241m=\u001b[39m d[\u001b[38;5;241m0\u001b[39m]\n\u001b[1;32m      6\u001b[0m y_d \u001b[38;5;241m=\u001b[39m d[\u001b[38;5;241m1\u001b[39m]\n",
      "\u001b[0;31mNameError\u001b[0m: name 'data' is not defined"
     ]
    }
   ],
   "source": [
    "from lvmtipo.focus import temp2focus, tempdata\n",
    "import matplotlib.pyplot as plt\n",
    "\n",
    "d = tempdata.T\n",
    "x_d = d[0]\n",
    "y_d = d[1]\n",
    "\n",
    "plt.figure(figsize = (12, 8))\n",
    "for poo in range(1, 4):\n",
    "    # get the polynomial coefficients\n",
    "    plt.subplot(2, 3, poo)\n",
    "    plt.plot(x_d, y_d, 'o')\n",
    "    plt.plot(x_d, temp2focus(x_d, polynomial=poo))\n",
    "    plt.title(f'Polynomial order {poo}')\n",
    "\n",
    "plt.tight_layout()\n",
    "plt.show()"
   ]
  },
  {
   "cell_type": "code",
   "execution_count": null,
   "id": "0a98ce0f-9b54-4943-9beb-32b8d1c154ce",
   "metadata": {},
   "outputs": [],
   "source": []
  }
 ],
 "metadata": {
  "kernelspec": {
   "display_name": "Python 3 (ipykernel)",
   "language": "python",
   "name": "python3"
  },
  "language_info": {
   "codemirror_mode": {
    "name": "ipython",
    "version": 3
   },
   "file_extension": ".py",
   "mimetype": "text/x-python",
   "name": "python",
   "nbconvert_exporter": "python",
   "pygments_lexer": "ipython3",
   "version": "3.10.8"
  }
 },
 "nbformat": 4,
 "nbformat_minor": 5
}
