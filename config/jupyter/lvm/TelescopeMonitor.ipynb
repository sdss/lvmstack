{
 "cells": [
  {
   "cell_type": "code",
   "execution_count": null,
   "id": "01aaf8e8-b516-4b48-bfc9-e15f097f2dd4",
   "metadata": {
    "tags": []
   },
   "outputs": [],
   "source": [
    "def default(tel):\n",
    "  return f\"\"\"\n",
    "lvm.{tel}.pwi:\n",
    "    ra_j2000_hours: {tel}:ra_j2000_h\n",
    "    dec_j2000_degs: {tel}:dec_j2000_d\n",
    "    altitude_degs: {tel}:altitude_d\n",
    "    azimuth_degs: {tel}:azimuth_d\n",
    "\n",
    "lvm.{tel}.foc:\n",
    "    Position: {tel}:foc_dt\n",
    "\n",
    "lvm.{tel}.km:\n",
    "    Position: {tel}:km_d\n",
    "    SkyPA: {tel}:sky_d\n",
    "\n",
    "lvm.tel:\n",
    "    temperature: bentemp_inside\n",
    "    humidity_enclosure: benhumid_outside\n",
    "    temperature_enclosure: bentemp_outside\n",
    "    dewpoint_enclosure: bendewpoi_outside\n",
    "\n",
    "lvm.{tel}.agcam:\n",
    "    east.temperature: {tel}:east.temp\n",
    "    east.filename: {tel}:east.file\n",
    "    west.temperature: {tel}:west.temp\n",
    "    west.filename: {tel}:west.file\n",
    "    center.temperature: {tel}:center.temp\n",
    "    center.filename: {tel}:center.file\n",
    "\"\"\"\n",
    "\n",
    "\n",
    "tel = ['sci', 'skye', 'skyw', 'spec']\n"
   ]
  },
  {
   "cell_type": "code",
   "execution_count": null,
   "id": "6eef27bd",
   "metadata": {
    "tags": []
   },
   "outputs": [],
   "source": [
    "import yaml\n",
    "import asyncio\n",
    "from lvmtipo.scraper import Scraper\n",
    "\n",
    "import numpy as np\n",
    "import pandas as pd\n",
    "\n",
    "from functools import reduce\n",
    "from cluplus.proxy import flatten\n",
    "\n",
    "from ipydatagrid import TextRenderer, DataGrid\n",
    "\n",
    "\n",
    "config = {t: yaml.safe_load(default(t)) for t in tel}\n",
    "key2index = {k.split(\":\")[-1]: i for i, k in enumerate(flatten(config['sci']).values())}\n",
    "\n",
    "df = pd.DataFrame(\n",
    "    data={\n",
    "        \"Key\": key2index.keys(),\n",
    "        **{t: [''] * len(key2index.keys()) for t in tel}\n",
    "    }\n",
    ")\n",
    "default_renderer = TextRenderer(\n",
    "    text_elide_direction=\"left\",\n",
    ")\n",
    "\n",
    "grid = DataGrid(df, index_name=\"\", default_renderer=default_renderer)\n",
    "grid.auto_fit_columns = True\n",
    "grid.auto_fit_params = {\"area\": \"body\", \"padding\": 120, \"numCols\": 5}\n",
    "display(grid)\n",
    "\n",
    "client = await Scraper(reduce(lambda a, b: dict(a, **b), config.values())).start()\n",
    "log = client.log\n",
    "\n",
    "while(True):\n",
    "        for k, v in client.scraper_store.items():\n",
    "            sk = k.split(':')\n",
    "            grid.set_cell_value(sk[0] if len(sk) > 1 else 'sci', key2index[sk[-1]] ,v[0])\n",
    "        await asyncio.sleep(1.0)\n"
   ]
  },
  {
   "cell_type": "code",
   "execution_count": null,
   "id": "3a027346-658a-43ef-aec1-b9873c3c9749",
   "metadata": {},
   "outputs": [],
   "source": []
  }
 ],
 "metadata": {
  "kernelspec": {
   "display_name": "Python 3 (ipykernel)",
   "language": "python",
   "name": "python3"
  },
  "language_info": {
   "codemirror_mode": {
    "name": "ipython",
    "version": 3
   },
   "file_extension": ".py",
   "mimetype": "text/x-python",
   "name": "python",
   "nbconvert_exporter": "python",
   "pygments_lexer": "ipython3",
   "version": "3.10.9"
  }
 },
 "nbformat": 4,
 "nbformat_minor": 5
}
