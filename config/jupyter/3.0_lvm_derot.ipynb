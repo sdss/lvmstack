{
 "cells": [
  {
   "cell_type": "code",
   "execution_count": null,
   "id": "2ef2b78e-b15e-4ac9-bf89-f5c6dab3b821",
   "metadata": {
    "tags": []
   },
   "outputs": [],
   "source": [
    "from lvmtipo.actors import lvm\n",
    "from cluplus.proxy import invoke\n",
    "\n",
    "tel = lvm.sci\n",
    "\n",
    "await tel.start()\n",
    "\n",
    "try:\n",
    "    await invoke(tel.km.status(), tel.pwi.status())\n",
    "except Exception as ex:\n",
    "    print(ex)"
   ]
  },
  {
   "cell_type": "code",
   "execution_count": null,
   "id": "629d5ee9-fb5b-4b26-b4fa-7a12be06ee48",
   "metadata": {},
   "outputs": [],
   "source": [
    "ra_h, dec_d = (await tel.pwi.status()).flatten().unpack(\"ra_j2000_hours\", \"dec_j2000_degs\")\n",
    "print(f\"ra_h:dec_d {ra_h}:{dec_d}\")\n",
    "\n",
    "await tel.km.slewStart(ra_h, dec_d)"
   ]
  },
  {
   "cell_type": "code",
   "execution_count": null,
   "id": "66b78c5a-4245-4e65-87a3-a8c7bb006bf3",
   "metadata": {},
   "outputs": [],
   "source": [
    "await tel.km.slewStop()"
   ]
  }
 ],
 "metadata": {
  "kernelspec": {
   "display_name": "Python 3 (ipykernel)",
   "language": "python",
   "name": "python3"
  },
  "language_info": {
   "codemirror_mode": {
    "name": "ipython",
    "version": 3
   },
   "file_extension": ".py",
   "mimetype": "text/x-python",
   "name": "python",
   "nbconvert_exporter": "python",
   "pygments_lexer": "ipython3",
   "version": "3.10.9"
  }
 },
 "nbformat": 4,
 "nbformat_minor": 5
}
