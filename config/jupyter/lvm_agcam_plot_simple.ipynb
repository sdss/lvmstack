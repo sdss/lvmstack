{
 "cells": [
  {
   "cell_type": "code",
   "execution_count": null,
   "id": "0c3bdc10-8066-4f1f-8e28-ec96d90c58d3",
   "metadata": {},
   "outputs": [],
   "source": [
    "from lvmtipo.actors import lvm\n",
    "\n",
    "telescope_subsystem_name = \"sci\"\n",
    "tss = await lvm.from_string(telescope_subsystem_name).start()\n",
    "\n",
    "await tss.foc.moveAbsolute(42)\n",
    "await tss.pwi.status()"
   ]
  },
  {
   "cell_type": "code",
   "execution_count": null,
   "id": "191716c4-c444-43e7-986d-bcb04806feee",
   "metadata": {},
   "outputs": [],
   "source": [
    "%matplotlib inline\n",
    "from plotimg import plot_images, fits\n",
    "\n",
    "from lvmtipo.actors import lvm\n",
    "from lvmagp.focus import Focus\n",
    "from logging import DEBUG, INFO\n",
    "\n",
    "focus = Focus(tss, level = DEBUG)\n",
    "\n",
    "await tss.pwi.status()\n",
    "\n",
    "def img_cb(img_e, img_w):\n",
    "   plot_images(img_e.data, img_w.data)\n",
    "\n",
    "f_cal, f_err = await focus.fine(guess=44, count=2, step=4, exposure_time=10, callback=img_cb)\n",
    "\n",
    "print(f\"focus: {f_cal}, err: {f_err}\")\n"
   ]
  },
  {
   "cell_type": "code",
   "execution_count": null,
   "id": "19577e3b-17e7-4759-bf10-0119958a645f",
   "metadata": {},
   "outputs": [],
   "source": [
    "from plotimg import plot_images, fits\n",
    "\n",
    "await tss.foc.moveAbsolute(f_cal)\n",
    "ef, wf = (await tss.agc.expose(0.5)).flatten().unpack(\"east.filename\", \"west.filename\") \n",
    "plot_images(fits.getdata(ef, ext=0), fits.getdata(wf, ext=0))"
   ]
  },
  {
   "cell_type": "code",
   "execution_count": null,
   "id": "a725c8e1-fd76-4293-bd6b-33527c5300b9",
   "metadata": {},
   "outputs": [],
   "source": [
    "%matplotlib inline\n",
    "from lvmtipo.actors import lvm\n",
    "from plotimg import plot_image, fits\n",
    "\n",
    "await lvm.spec.agc.start()\n",
    "\n",
    "ef = (await lvm.spec.agc.expose(1.0)).flatten().unpack(\"east.filename\") \n",
    "print(f\"east: {ef}\")\n",
    "plot_image(fits.getdata(ef, ext=0))"
   ]
  },
  {
   "cell_type": "code",
   "execution_count": null,
   "id": "39793bff-e8f8-4248-bcf4-6ee0c2c3bcc1",
   "metadata": {},
   "outputs": [],
   "source": [
    "\n",
    "from lvmagp.images import Image\n",
    "from lvmagp.images.processors.detection import DaophotSourceDetection, SepSourceDetection\n",
    "from lvmagp.images.processors.astrometry import AstrometryDotNet\n",
    "\n",
    "source_detection = SepSourceDetection()\n",
    "\n",
    "rc = await tss.agc.expose(5)\n",
    "print(rc)\n",
    "ef, wf = rc.flatten().unpack(\"*.filename\")\n",
    "print(f\"east: {ef}, west: {wf}\")\n",
    "ei = await source_detection(Image.from_file(ef))\n",
    "wi = await source_detection(Image.from_file(wf))\n",
    "\n",
    "ei.catalog\n",
    "\n",
    "\n"
   ]
  },
  {
   "cell_type": "code",
   "execution_count": null,
   "id": "1d571a51-b323-4e53-ad58-5afab26c1bbc",
   "metadata": {},
   "outputs": [],
   "source": []
  }
 ],
 "metadata": {
  "kernelspec": {
   "display_name": "Python 3 (ipykernel)",
   "language": "python",
   "name": "python3"
  },
  "language_info": {
   "codemirror_mode": {
    "name": "ipython",
    "version": 3
   },
   "file_extension": ".py",
   "mimetype": "text/x-python",
   "name": "python",
   "nbconvert_exporter": "python",
   "pygments_lexer": "ipython3",
   "version": "3.10.6"
  }
 },
 "nbformat": 4,
 "nbformat_minor": 5
}
