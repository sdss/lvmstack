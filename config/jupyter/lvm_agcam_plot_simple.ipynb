{
 "cells": [
  {
   "cell_type": "code",
   "execution_count": null,
   "id": "0c3bdc10-8066-4f1f-8e28-ec96d90c58d3",
   "metadata": {},
   "outputs": [],
   "source": [
    "from lvmtipo.actors import lvm\n",
    "\n",
    "telescope_subsystem_name = \"sci\"\n",
    "tss = await lvm.from_string(telescope_subsystem_name).start()\n",
    "\n",
    "await tss.foc.moveAbsolute(42)\n",
    "await tss.pwi.status()"
   ]
  },
  {
   "cell_type": "code",
   "execution_count": null,
   "id": "191716c4-c444-43e7-986d-bcb04806feee",
   "metadata": {},
   "outputs": [],
   "source": [
    "%matplotlib inline\n",
    "\n",
    "from logging import DEBUG, INFO\n",
    "from lvmtipo.actors import lvm\n",
    "from lvmagp.focus import Focus\n",
    "from lvmagp.images.processors.detection import DaophotSourceDetection, SepSourceDetection\n",
    "\n",
    "from plotimg import plot_images\n",
    "\n",
    "source_detection = SepSourceDetection()\n",
    "focus = Focus(tss, source_detection = source_detection, radius_column = \"fwhm\", level = DEBUG)\n",
    "\n",
    "await tss.pwi.status()\n",
    "\n",
    "def img_cb(imgs):\n",
    "   plot_images(imgs)\n",
    "\n",
    "f_cal, f_err = await focus.fine(guess=44, count=2, step=3, exposure_time=10, callback=img_cb)\n",
    "\n",
    "print(f\"(focus, err): {f_cal} {f_err}\")\n"
   ]
  },
  {
   "cell_type": "code",
   "execution_count": null,
   "id": "19577e3b-17e7-4759-bf10-0119958a645f",
   "metadata": {},
   "outputs": [],
   "source": [
    "from plotimg import plot_images\n",
    "from lvmagp.images import Image\n",
    "\n",
    "print(f_cal[0])\n",
    "await tss.foc.moveAbsolute(f_cal[0])\n",
    "filenames = (await tss.agc.expose(0.5)).flatten().unpack(\"*.filename\") \n",
    "\n",
    "plot_images([Image.from_file(f) for f in filenames])\n"
   ]
  },
  {
   "cell_type": "code",
   "execution_count": null,
   "id": "da756ec3-05de-4e6d-8f95-e36385dee818",
   "metadata": {},
   "outputs": [],
   "source": []
  }
 ],
 "metadata": {
  "kernelspec": {
   "display_name": "Python 3 (ipykernel)",
   "language": "python",
   "name": "python3"
  },
  "language_info": {
   "codemirror_mode": {
    "name": "ipython",
    "version": 3
   },
   "file_extension": ".py",
   "mimetype": "text/x-python",
   "name": "python",
   "nbconvert_exporter": "python",
   "pygments_lexer": "ipython3",
   "version": "3.10.6"
  }
 },
 "nbformat": 4,
 "nbformat_minor": 5
}
